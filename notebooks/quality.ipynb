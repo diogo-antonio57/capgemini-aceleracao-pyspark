{
 "cells": [
  {
   "cell_type": "code",
   "execution_count": 1,
   "id": "3e060ce1",
   "metadata": {},
   "outputs": [
    {
     "name": "stdout",
     "output_type": "stream",
     "text": [
      "Requirement already satisfied: pyspark in c:\\users\\diosilva\\anaconda3\\lib\\site-packages (3.2.1)\n",
      "Requirement already satisfied: py4j==0.10.9.3 in c:\\users\\diosilva\\anaconda3\\lib\\site-packages (from pyspark) (0.10.9.3)\n",
      "Requirement already satisfied: findspark in c:\\users\\diosilva\\anaconda3\\lib\\site-packages (2.0.1)\n"
     ]
    }
   ],
   "source": [
    "# instalando pacotes necessários\n",
    "!pip install pyspark\n",
    "!pip install findspark"
   ]
  },
  {
   "cell_type": "code",
   "execution_count": 2,
   "id": "4d3c976f",
   "metadata": {},
   "outputs": [],
   "source": [
    "# Inicia o findspark\n",
    "import findspark\n",
    "findspark.init()"
   ]
  },
  {
   "cell_type": "code",
   "execution_count": 3,
   "id": "16cafaba",
   "metadata": {},
   "outputs": [],
   "source": [
    "# Importando os módulos necessários\n",
    "from pyspark import SparkContext, SparkConf\n",
    "from pyspark.sql import SparkSession\n",
    "from pyspark.sql import functions as F\n",
    "from pyspark.sql.types import StructType, StructField, StringType, IntegerType, FloatType\n",
    "\n",
    "import pandas as pd"
   ]
  },
  {
   "cell_type": "code",
   "execution_count": 4,
   "id": "0c668d0b",
   "metadata": {},
   "outputs": [],
   "source": [
    "# Cria o contexto do spark\n",
    "sc = SparkContext()\n",
    "\n",
    "# Instancia o criador de sessao do spark\n",
    "spark = (SparkSession.builder\n",
    "                     .master('local[7]')\n",
    "                     .appName('Aceleração Pyspark - Capgemini'))"
   ]
  },
  {
   "cell_type": "code",
   "execution_count": 5,
   "id": "ff12db9b",
   "metadata": {},
   "outputs": [],
   "source": [
    "# Cria os schemas\n",
    "schema_airports = StructType([\n",
    "    StructField(\"faa\",  StringType(),  True),\n",
    "    StructField(\"name\", StringType(),  True),\n",
    "    StructField(\"lat\",  FloatType(),   True),\n",
    "    StructField(\"lon\",  FloatType(),   True),\n",
    "    StructField(\"alt\",  IntegerType(), True),\n",
    "    StructField(\"tz\",   IntegerType(), True),\n",
    "    StructField(\"dst\",  StringType(),  True)\n",
    "])\n",
    "\n",
    "schema_planes = StructType([\n",
    "    StructField(\"tailnum\",      StringType(),  True),\n",
    "    StructField(\"year\",         IntegerType(), True),\n",
    "    StructField(\"type\",         StringType(),  True),\n",
    "    StructField(\"manufacturer\", StringType(),  True),\n",
    "    StructField(\"model\",        StringType(),  True),\n",
    "    StructField(\"engines\",      IntegerType(), True),\n",
    "    StructField(\"seats\",        IntegerType(), True),\n",
    "    StructField(\"speed\",        IntegerType(), True),\n",
    "    StructField(\"engine\",       StringType(),  True)\n",
    "])\n",
    "\n",
    "schema_flights = StructType([\n",
    "    StructField(\"year\",      IntegerType(), True),\n",
    "    StructField(\"month\",     IntegerType(), True),\n",
    "    StructField(\"day\",       IntegerType(), True),\n",
    "    StructField(\"dep_time\",  StringType(),  True),\n",
    "    StructField(\"dep_delay\", IntegerType(), True),\n",
    "    StructField(\"arr_time\",  StringType(),  True),\n",
    "    StructField(\"arr_delay\", IntegerType(), True),\n",
    "    StructField(\"carrier\",   StringType(),  True),\n",
    "    StructField(\"tailnum\",   StringType(),  True),\n",
    "    StructField(\"flight\",    StringType(),  True),\n",
    "    StructField(\"origin\",    StringType(),  True),\n",
    "    StructField(\"dest\",      StringType(),  True),\n",
    "    StructField(\"air_time\",  IntegerType(), True),\n",
    "    StructField(\"distance\",  IntegerType(), True),\n",
    "    StructField(\"hour\",      IntegerType(), True),\n",
    "    StructField(\"minute\",    IntegerType(), True),\n",
    "])"
   ]
  },
  {
   "cell_type": "code",
   "execution_count": 7,
   "id": "44dc19d2",
   "metadata": {},
   "outputs": [],
   "source": [
    "# Cria todos os dataframes\n",
    "df_airports = (spark.getOrCreate().read\n",
    "                  .format(\"csv\")\n",
    "                  .option(\"header\", \"true\")\n",
    "                  .schema(schema_airports)\n",
    "                  .load(\"../data/airports.csv\"))\n",
    "\n",
    "df_planes = (spark.getOrCreate().read\n",
    "                  .format(\"csv\")\n",
    "                  .option(\"header\", \"true\")\n",
    "                  .schema(schema_planes)\n",
    "                  .load(\"../data/planes.csv\"))\n",
    "\n",
    "df_flights = (spark.getOrCreate().read\n",
    "                  .format(\"csv\")\n",
    "                  .option(\"header\", \"true\")\n",
    "                  .schema(schema_flights)\n",
    "                  .load(\"../data/flights.csv\"))"
   ]
  },
  {
   "cell_type": "code",
   "execution_count": 9,
   "id": "23ad1ded",
   "metadata": {},
   "outputs": [
    {
     "name": "stdout",
     "output_type": "stream",
     "text": [
      "+---+--------------------+---------+---------+----+---+---+\n",
      "|faa|                name|      lat|      lon| alt| tz|dst|\n",
      "+---+--------------------+---------+---------+----+---+---+\n",
      "|04G|   Lansdowne Airport|41.130474|-80.61958|1044| -5|  A|\n",
      "|06A|Moton Field Munic...| 32.46057|-85.68003| 264| -5|  A|\n",
      "|06C| Schaumburg Regional| 41.98934|-88.10124| 801| -6|  A|\n",
      "+---+--------------------+---------+---------+----+---+---+\n",
      "only showing top 3 rows\n",
      "\n",
      "+-------+----+--------------------+----------------+--------+-------+-----+-----+---------+\n",
      "|tailnum|year|                type|    manufacturer|   model|engines|seats|speed|   engine|\n",
      "+-------+----+--------------------+----------------+--------+-------+-----+-----+---------+\n",
      "| N102UW|1998|Fixed wing multi ...|AIRBUS INDUSTRIE|A320-214|      2|  182| null|Turbo-fan|\n",
      "| N103US|1999|Fixed wing multi ...|AIRBUS INDUSTRIE|A320-214|      2|  182| null|Turbo-fan|\n",
      "| N104UW|1999|Fixed wing multi ...|AIRBUS INDUSTRIE|A320-214|      2|  182| null|Turbo-fan|\n",
      "+-------+----+--------------------+----------------+--------+-------+-----+-----+---------+\n",
      "only showing top 3 rows\n",
      "\n",
      "+----+-----+---+--------+---------+--------+---------+-------+-------+------+------+----+--------+--------+----+------+\n",
      "|year|month|day|dep_time|dep_delay|arr_time|arr_delay|carrier|tailnum|flight|origin|dest|air_time|distance|hour|minute|\n",
      "+----+-----+---+--------+---------+--------+---------+-------+-------+------+------+----+--------+--------+----+------+\n",
      "|2014|   12|  8|     658|       -7|     935|       -5|     VX| N846VA|  1780|   SEA| LAX|     132|     954|   6|    58|\n",
      "|2014|    1| 22|    1040|        5|    1505|        5|     AS| N559AS|   851|   SEA| HNL|     360|    2677|  10|    40|\n",
      "|2014|    3|  9|    1443|       -2|    1652|        2|     VX| N847VA|   755|   SEA| SFO|     111|     679|  14|    43|\n",
      "+----+-----+---+--------+---------+--------+---------+-------+-------+------+------+----+--------+--------+----+------+\n",
      "only showing top 3 rows\n",
      "\n"
     ]
    }
   ],
   "source": [
    "df_airports.show(3)\n",
    "df_planes.show(3)\n",
    "df_flights.show(3)"
   ]
  },
  {
   "cell_type": "markdown",
   "id": "d6e4914b",
   "metadata": {},
   "source": [
    "# -----------------------------------------------------------------------------------------------------------\n",
    "# Quality airports\n",
    "# -----------------------------------------------------------------------------------------------------------\n",
    "## 1."
   ]
  },
  {
   "cell_type": "code",
   "execution_count": null,
   "id": "45282752",
   "metadata": {},
   "outputs": [],
   "source": [
    "df_airports.filter(F.col('faa') == 'NA').show(3)"
   ]
  },
  {
   "cell_type": "code",
   "execution_count": null,
   "id": "ed09ecee",
   "metadata": {},
   "outputs": [],
   "source": [
    "REGEX_ALPHANUM = r'[0-9a-zA-Z]+'\n",
    "\n",
    "df_airports = df_airports.withColumn(\"qa_faa\", \n",
    "                                     F.when(F.col(\"faa\").isNull(), \"M\")\n",
    "                                      .when(~F.col(\"faa\").rlike(r'[0-9a-zA-Z]+'), \"F\"))\n",
    "\n",
    "df_airports.show(5)\n",
    "df_airports.filter(F.col('qa_faa').isNull()).show()"
   ]
  },
  {
   "cell_type": "code",
   "execution_count": null,
   "id": "29c7cb37",
   "metadata": {},
   "outputs": [],
   "source": [
    "df_airports.groupBy(F.col('qa_faa')).count().show()"
   ]
  },
  {
   "cell_type": "markdown",
   "id": "dab53fe2",
   "metadata": {},
   "source": [
    "# -----------------------------------------------------------------------------------------------------------\n",
    "## 2."
   ]
  },
  {
   "cell_type": "code",
   "execution_count": null,
   "id": "cc4ba610",
   "metadata": {},
   "outputs": [],
   "source": [
    "df_airports.filter(F.col('name') == 'NA').show(5)"
   ]
  },
  {
   "cell_type": "code",
   "execution_count": null,
   "id": "39a19e01",
   "metadata": {},
   "outputs": [],
   "source": [
    "df_airports = df_airports.withColumn('qa_name',\n",
    "                                     F.when(F.col('name') == 'NA', 'M'))\n",
    "\n",
    "df_airports.show(5)"
   ]
  },
  {
   "cell_type": "code",
   "execution_count": null,
   "id": "437a0191",
   "metadata": {},
   "outputs": [],
   "source": [
    "df_airports.groupBy(F.col('qa_name')).count().show()"
   ]
  },
  {
   "cell_type": "markdown",
   "id": "83fabba9",
   "metadata": {},
   "source": [
    "# -----------------------------------------------------------------------------------------------------------\n",
    "## 3."
   ]
  },
  {
   "cell_type": "code",
   "execution_count": null,
   "id": "b3a85867",
   "metadata": {},
   "outputs": [],
   "source": [
    "df_airports.filter(F.col('lat').isNull()).show()"
   ]
  },
  {
   "cell_type": "code",
   "execution_count": null,
   "id": "26cf0aa3",
   "metadata": {},
   "outputs": [],
   "source": [
    "df_airports = df_airports.withColumn('qa_lat',\n",
    "                                     F.when(F.col('lat').isNull(), 'M')\n",
    "                                      .when(~F.col('lat').between(-180, 180), 'I')\n",
    "                                      .when(F.col('lat').rlike('[a-zA-Z]'), 'A'))\n",
    "\n",
    "df_airports.show(5)"
   ]
  },
  {
   "cell_type": "code",
   "execution_count": null,
   "id": "2b22e69f",
   "metadata": {},
   "outputs": [],
   "source": [
    "df_airports.groupBy(F.col('qa_lat')).count().show()"
   ]
  },
  {
   "cell_type": "markdown",
   "id": "80cde952",
   "metadata": {},
   "source": [
    "# -----------------------------------------------------------------------------------------------------------\n",
    "## 4."
   ]
  },
  {
   "cell_type": "code",
   "execution_count": null,
   "id": "478d3b1d",
   "metadata": {},
   "outputs": [],
   "source": [
    "df_airports.filter(F.col('lon').isNull()).show()"
   ]
  },
  {
   "cell_type": "code",
   "execution_count": null,
   "id": "ca4945d4",
   "metadata": {},
   "outputs": [],
   "source": [
    "df_airports = df_airports.withColumn('qa_lon',\n",
    "                                     F.when(F.col('lon').isNull(), 'M')\n",
    "                                      .when(~F.col('lon').between(-180, 180), 'I')\n",
    "                                      .when(F.col('lon').rlike('[a-zA-Z]'), 'A')\n",
    "                                    )\n",
    "\n",
    "df_airports.show(5)"
   ]
  },
  {
   "cell_type": "code",
   "execution_count": null,
   "id": "c19401e0",
   "metadata": {},
   "outputs": [],
   "source": [
    "df_airports.groupBy(F.col('qa_lon')).count().show()"
   ]
  },
  {
   "cell_type": "markdown",
   "id": "e3fc6724",
   "metadata": {},
   "source": [
    "# -----------------------------------------------------------------------------------------------------------\n",
    "## 5."
   ]
  },
  {
   "cell_type": "code",
   "execution_count": null,
   "id": "f4510e2c",
   "metadata": {},
   "outputs": [],
   "source": [
    "df_airports.filter(F.col('alt').isNull()).show()"
   ]
  },
  {
   "cell_type": "code",
   "execution_count": null,
   "id": "54c93370",
   "metadata": {},
   "outputs": [],
   "source": [
    "df_airports = df_airports.withColumn('qa_alt',\n",
    "                                     F.when(F.col('alt').isNull(), 'M')\n",
    "                                      .when(F.col('alt') < 0, 'I')\n",
    "                                      .when(F.col('alt').rlike('[a-zA-Z]'), 'A')\n",
    "                                    )\n",
    "\n",
    "df_airports.show(5)"
   ]
  },
  {
   "cell_type": "code",
   "execution_count": null,
   "id": "613c5e74",
   "metadata": {},
   "outputs": [],
   "source": [
    "df_airports.groupBy(F.col('qa_alt')).count().show()\n",
    "df_airports.filter(F.col('qa_alt').isNotNull()).show()"
   ]
  },
  {
   "cell_type": "markdown",
   "id": "7308d3bb",
   "metadata": {},
   "source": [
    "# -----------------------------------------------------------------------------------------------------------\n",
    "## 6."
   ]
  },
  {
   "cell_type": "code",
   "execution_count": null,
   "id": "017f0c8b",
   "metadata": {},
   "outputs": [],
   "source": [
    "df_airports.filter(F.col('tz').isNull()).show()"
   ]
  },
  {
   "cell_type": "code",
   "execution_count": null,
   "id": "eb4827ad",
   "metadata": {},
   "outputs": [],
   "source": [
    "df_airports = df_airports.withColumn('qa_tz',\n",
    "                                     F.when(F.col('tz').isNull(), 'M')\n",
    "                                      .when(~F.col('tz').between(-11, 14), 'I')\n",
    "                                      .when(F.col('tz').rlike('[a-zA-Z]'), 'A')\n",
    "                                    )\n",
    "\n",
    "df_airports.show(5)"
   ]
  },
  {
   "cell_type": "code",
   "execution_count": null,
   "id": "9fc23f83",
   "metadata": {},
   "outputs": [],
   "source": [
    "df_airports.groupBy(F.col('qa_tz')).count().show()"
   ]
  },
  {
   "cell_type": "markdown",
   "id": "85d42255",
   "metadata": {},
   "source": [
    "# -----------------------------------------------------------------------------------------------------------\n",
    "## 7."
   ]
  },
  {
   "cell_type": "code",
   "execution_count": null,
   "id": "3e141c40",
   "metadata": {},
   "outputs": [],
   "source": [
    "df_airports.filter(F.col('dst') == 'NA').show()"
   ]
  },
  {
   "cell_type": "code",
   "execution_count": null,
   "id": "6f5f3816",
   "metadata": {},
   "outputs": [],
   "source": [
    "LIST_DST = ['E', 'A', 'S', 'O', 'Z', 'N', 'U']\n",
    "\n",
    "df_airports = df_airports.withColumn('qa_dst',\n",
    "                                     F.when(F.col('dst') == 'NA', 'M')\n",
    "                                      .when(~F.col('dst').isin(LIST_DST), 'C')\n",
    "                                      .when(F.col('dst').rlike('[0-9]'), 'N')\n",
    "                                    )\n",
    "\n",
    "df_airports.show(5)"
   ]
  },
  {
   "cell_type": "code",
   "execution_count": null,
   "id": "ee146a3b",
   "metadata": {},
   "outputs": [],
   "source": [
    "df_airports.groupBy(F.col('qa_dst')).count().show()"
   ]
  },
  {
   "cell_type": "markdown",
   "id": "f4d4a7c0",
   "metadata": {},
   "source": [
    "# -----------------------------------------------------------------------------------------------------------\n",
    "# Quality airports\n",
    "# -----------------------------------------------------------------------------------------------------------\n",
    "## 1."
   ]
  },
  {
   "cell_type": "code",
   "execution_count": null,
   "id": "cb852f63",
   "metadata": {},
   "outputs": [],
   "source": [
    "df_planes.filter(F.col('tailnum') == 'NA').show()"
   ]
  },
  {
   "cell_type": "code",
   "execution_count": null,
   "id": "bbdc7ca3",
   "metadata": {},
   "outputs": [],
   "source": [
    "REGEX_TAILNUM = r'(^[N][0-9]{4}[A-Z]$)|(^[N][0-9]{3}[A-Z]{2})|(^[N][0-9]{3}[A-Z]$)'\n",
    "\n",
    "df_planes = df_planes.withColumn('qa_tailnum',\n",
    "                                 F.when(F.col('tailnum') == 'NA', 'M')\n",
    "                                  .when(~F.length(F.col('tailnum')).between(5, 6), 'S')\n",
    "                                  .when(~F.col('tailnum').rlike('^N'), 'FN')\n",
    "                                  .when(F.col('tailnum').rlike('(N0)|([IO])'), 'FE')\n",
    "                                  .when(~F.col('tailnum').rlike(REGEX_TAILNUM), 'F')\n",
    "                                )\n",
    "\n",
    "df_planes.show(5)"
   ]
  },
  {
   "cell_type": "code",
   "execution_count": null,
   "id": "1a8c80c7",
   "metadata": {},
   "outputs": [],
   "source": [
    "df_planes.groupBy(F.col('qa_tailnum')).count().show()"
   ]
  },
  {
   "cell_type": "markdown",
   "id": "394da50c",
   "metadata": {},
   "source": [
    "# -----------------------------------------------------------------------------------------------------------\n",
    "## 2."
   ]
  },
  {
   "cell_type": "code",
   "execution_count": null,
   "id": "db439698",
   "metadata": {},
   "outputs": [],
   "source": [
    "df_planes.filter(F.col('year').isNull()).show(5)"
   ]
  },
  {
   "cell_type": "code",
   "execution_count": null,
   "id": "f8218403",
   "metadata": {},
   "outputs": [],
   "source": [
    "df_planes = df_planes.withColumn('qa_year',\n",
    "                                 F.when(F.col('year').isNull(), 'M')\n",
    "                                  .when(F.col('year') < 1950,   'I')\n",
    "                                )\n",
    "\n",
    "df_planes.show(5)"
   ]
  },
  {
   "cell_type": "code",
   "execution_count": null,
   "id": "e93304af",
   "metadata": {},
   "outputs": [],
   "source": [
    "df_planes.groupBy(F.col('qa_year')).count().show()"
   ]
  },
  {
   "cell_type": "markdown",
   "id": "413e3fd4",
   "metadata": {},
   "source": [
    "# -----------------------------------------------------------------------------------------------------------\n",
    "## 3."
   ]
  },
  {
   "cell_type": "code",
   "execution_count": null,
   "id": "e041db6f",
   "metadata": {},
   "outputs": [],
   "source": [
    "df_planes.filter(F.col('type') == 'NA').show()"
   ]
  },
  {
   "cell_type": "code",
   "execution_count": null,
   "id": "7b883c5b",
   "metadata": {},
   "outputs": [],
   "source": [
    "LIST_TYPE = ['Fixed wing multi engine', 'Fixed wing single engine', 'Rotorcraft']\n",
    "df_planes = df_planes.withColumn('qa_type',\n",
    "                                 F.when(F.col('type') == 'NA',          'M')\n",
    "                                  .when(~F.col('type').isin(LIST_TYPE), 'C')\n",
    "                                )\n",
    "\n",
    "df_planes.show(5)"
   ]
  },
  {
   "cell_type": "code",
   "execution_count": null,
   "id": "52e5cd51",
   "metadata": {},
   "outputs": [],
   "source": [
    "df_planes.groupBy(F.col('qa_type')).count().show()"
   ]
  },
  {
   "cell_type": "markdown",
   "id": "f2963fcd",
   "metadata": {},
   "source": [
    "# -----------------------------------------------------------------------------------------------------------\n",
    "## 4."
   ]
  },
  {
   "cell_type": "code",
   "execution_count": null,
   "id": "2b2bd596",
   "metadata": {},
   "outputs": [],
   "source": [
    "df_planes.filter(F.col('type') == 'NA').show()"
   ]
  },
  {
   "cell_type": "code",
   "execution_count": null,
   "id": "7032742c",
   "metadata": {},
   "outputs": [],
   "source": [
    "LIST_MAN = [ \"AIRBUS\", \"BOEING\", \"BOMBARDIER\", \"CESSNA\", \"EMBRAER\", \"SIKORSKY\", \"CANADAIR\", \"PIPER\", \n",
    "             \"MCDONNELL DOUGLAS\", \"CIRRUS\", \"BELL\", \"KILDALL GARY\", \"LAMBERT RICHARD\", \"BARKER JACK\", \"ROBINSON HELICOPTER\", \n",
    "             \"GULFSTREAM\", \"MARZ BARRY\"]\n",
    "\n",
    "df_planes = df_planes.withColumn('qa_manufacturer',\n",
    "                                 F.when(F.col('manufacturer') == 'NA',         'M')\n",
    "                                  .when(~F.col('manufacturer').isin(LIST_MAN), 'C')\n",
    "                                )\n",
    "\n",
    "df_planes.show(5)"
   ]
  },
  {
   "cell_type": "code",
   "execution_count": null,
   "id": "f1af494c",
   "metadata": {},
   "outputs": [],
   "source": [
    "df_planes.groupBy(F.col('qa_manufacturer')).count().show()"
   ]
  },
  {
   "cell_type": "markdown",
   "id": "6a252eb9",
   "metadata": {},
   "source": [
    "# -----------------------------------------------------------------------------------------------------------\n",
    "## 5."
   ]
  },
  {
   "cell_type": "code",
   "execution_count": null,
   "id": "7da73b3a",
   "metadata": {},
   "outputs": [],
   "source": [
    "df_planes.filter(F.col('model') == 'NA').show()"
   ]
  },
  {
   "cell_type": "code",
   "execution_count": null,
   "id": "c07500f3",
   "metadata": {},
   "outputs": [],
   "source": [
    "df_planes = df_planes.withColumn('qa_model',\n",
    "                                 F.when(F.col('model') == 'NA', 'M')\n",
    "                                  .when(((F.col(\"manufacturer\") == \"AIRBUS\") & (F.col(\"model\").rlike('^[A]') == False)) |\n",
    "                                        ((F.col(\"manufacturer\") == \"BOEING\") & (F.col(\"model\").rlike('^[7]') == False)) |\n",
    "                                        ((F.col(\"manufacturer\") == \"BOMBARDIER\") & (F.col(\"model\").rlike('^[C][L]') == False)) |\n",
    "                                        ((F.col(\"manufacturer\") == \"CANADAIR\") & (F.col(\"model\").rlike('^[C][L]') == False)) |\n",
    "                                        ((F.col(\"manufacturer\") == \"MCDONNELL DOUGLAS\") & (F.col(\"model\").rlike('(^[M][D]|^[D][C])') == False)), 'F')\n",
    "                                )\n",
    "\n",
    "df_planes.show(5)"
   ]
  },
  {
   "cell_type": "code",
   "execution_count": null,
   "id": "bff3d367",
   "metadata": {},
   "outputs": [],
   "source": [
    "df_planes.groupBy(F.col('qa_model')).count().show()"
   ]
  },
  {
   "cell_type": "markdown",
   "id": "1b472dcb",
   "metadata": {},
   "source": [
    "# -----------------------------------------------------------------------------------------------------------\n",
    "## 6."
   ]
  },
  {
   "cell_type": "code",
   "execution_count": null,
   "id": "e31e707b",
   "metadata": {},
   "outputs": [],
   "source": [
    "df_planes.filter(F.col('engines').isNull()).show()"
   ]
  },
  {
   "cell_type": "code",
   "execution_count": null,
   "id": "cbf5d4fc",
   "metadata": {},
   "outputs": [],
   "source": [
    "df_planes = df_planes.withColumn('qa_engines',\n",
    "                                 F.when(F.col('engines').isNull(),          'M')\n",
    "                                  .when(~F.col('engines').between(1, 4),    'I')\n",
    "                                  .when(F.col('engines').rlike('[a-zA-Z]'), 'A')\n",
    "                                )\n",
    "\n",
    "df_planes.show(3)"
   ]
  },
  {
   "cell_type": "code",
   "execution_count": null,
   "id": "8b6b0faf",
   "metadata": {},
   "outputs": [],
   "source": [
    "df_planes.groupBy(F.col('qa_engines')).count().show()"
   ]
  }
 ],
 "metadata": {
  "kernelspec": {
   "display_name": "Python 3 (ipykernel)",
   "language": "python",
   "name": "python3"
  },
  "language_info": {
   "codemirror_mode": {
    "name": "ipython",
    "version": 3
   },
   "file_extension": ".py",
   "mimetype": "text/x-python",
   "name": "python",
   "nbconvert_exporter": "python",
   "pygments_lexer": "ipython3",
   "version": "3.9.7"
  }
 },
 "nbformat": 4,
 "nbformat_minor": 5
}
