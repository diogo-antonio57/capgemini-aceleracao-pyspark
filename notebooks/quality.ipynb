{
 "cells": [
  {
   "cell_type": "code",
   "execution_count": 1,
   "id": "3e060ce1",
   "metadata": {},
   "outputs": [
    {
     "name": "stdout",
     "output_type": "stream",
     "text": [
      "Requirement already satisfied: pyspark in c:\\users\\diosilva\\anaconda3\\lib\\site-packages (3.2.1)\n",
      "Requirement already satisfied: py4j==0.10.9.3 in c:\\users\\diosilva\\anaconda3\\lib\\site-packages (from pyspark) (0.10.9.3)\n",
      "Requirement already satisfied: findspark in c:\\users\\diosilva\\anaconda3\\lib\\site-packages (2.0.1)\n"
     ]
    }
   ],
   "source": [
    "# instalando pacotes necessários\n",
    "!pip install pyspark\n",
    "!pip install findspark"
   ]
  },
  {
   "cell_type": "code",
   "execution_count": 2,
   "id": "4d3c976f",
   "metadata": {},
   "outputs": [],
   "source": [
    "# Inicia o findspark\n",
    "import findspark\n",
    "findspark.init()"
   ]
  },
  {
   "cell_type": "code",
   "execution_count": 3,
   "id": "16cafaba",
   "metadata": {},
   "outputs": [],
   "source": [
    "# Importando os módulos necessários\n",
    "from pyspark import SparkContext, SparkConf\n",
    "from pyspark.sql import SparkSession\n",
    "from pyspark.sql import functions as F\n",
    "from pyspark.sql.types import StructType, StructField, StringType, IntegerType, FloatType\n",
    "\n",
    "import pandas as pd"
   ]
  },
  {
   "cell_type": "code",
   "execution_count": 4,
   "id": "0c668d0b",
   "metadata": {},
   "outputs": [],
   "source": [
    "# Cria o contexto do spark\n",
    "sc = SparkContext()\n",
    "\n",
    "# Instancia o criador de sessao do spark\n",
    "spark = (SparkSession.builder\n",
    "                     .master('local[7]')\n",
    "                     .appName('Aceleração Pyspark - Capgemini'))"
   ]
  },
  {
   "cell_type": "code",
   "execution_count": 5,
   "id": "ff12db9b",
   "metadata": {},
   "outputs": [],
   "source": [
    "# Cria os schemas\n",
    "schema_airports = StructType([\n",
    "    StructField(\"faa\",  StringType(),  True),\n",
    "    StructField(\"name\", StringType(),  True),\n",
    "    StructField(\"lat\",  FloatType(),   True),\n",
    "    StructField(\"lon\",  FloatType(),   True),\n",
    "    StructField(\"alt\",  IntegerType(), True),\n",
    "    StructField(\"tz\",   IntegerType(), True),\n",
    "    StructField(\"dst\",  StringType(),  True)\n",
    "])\n",
    "\n",
    "schema_planes = StructType([\n",
    "    StructField(\"tailnum\",      StringType(),  True),\n",
    "    StructField(\"year\",         IntegerType(), True),\n",
    "    StructField(\"type\",         StringType(),  True),\n",
    "    StructField(\"manufacturer\", StringType(),  True),\n",
    "    StructField(\"model\",        StringType(),  True),\n",
    "    StructField(\"engines\",      IntegerType(), True),\n",
    "    StructField(\"seats\",        IntegerType(), True),\n",
    "    StructField(\"speed\",        IntegerType(), True),\n",
    "    StructField(\"engine\",       StringType(),  True)\n",
    "])\n",
    "\n",
    "schema_flights = StructType([\n",
    "    StructField(\"year\",      IntegerType(), True),\n",
    "    StructField(\"month\",     IntegerType(), True),\n",
    "    StructField(\"day\",       IntegerType(), True),\n",
    "    StructField(\"dep_time\",  StringType(),  True),\n",
    "    StructField(\"dep_delay\", IntegerType(), True),\n",
    "    StructField(\"arr_time\",  StringType(),  True),\n",
    "    StructField(\"arr_delay\", IntegerType(), True),\n",
    "    StructField(\"carrier\",   StringType(),  True),\n",
    "    StructField(\"tailnum\",   StringType(),  True),\n",
    "    StructField(\"flight\",    StringType(),  True),\n",
    "    StructField(\"origin\",    StringType(),  True),\n",
    "    StructField(\"dest\",      StringType(),  True),\n",
    "    StructField(\"air_time\",  IntegerType(), True),\n",
    "    StructField(\"distance\",  IntegerType(), True),\n",
    "    StructField(\"hour\",      IntegerType(), True),\n",
    "    StructField(\"minute\",    IntegerType(), True),\n",
    "])"
   ]
  },
  {
   "cell_type": "code",
   "execution_count": 7,
   "id": "44dc19d2",
   "metadata": {},
   "outputs": [],
   "source": [
    "# Cria todos os dataframes\n",
    "df_airports = (spark.getOrCreate().read\n",
    "                  .format(\"csv\")\n",
    "                  .option(\"header\", \"true\")\n",
    "                  .schema(schema_airports)\n",
    "                  .load(\"../data/airports.csv\"))\n",
    "\n",
    "df_planes = (spark.getOrCreate().read\n",
    "                  .format(\"csv\")\n",
    "                  .option(\"header\", \"true\")\n",
    "                  .schema(schema_planes)\n",
    "                  .load(\"../data/planes.csv\"))\n",
    "\n",
    "df_flights = (spark.getOrCreate().read\n",
    "                  .format(\"csv\")\n",
    "                  .option(\"header\", \"true\")\n",
    "                  .schema(schema_flights)\n",
    "                  .load(\"../data/flights.csv\"))"
   ]
  },
  {
   "cell_type": "code",
   "execution_count": 9,
   "id": "23ad1ded",
   "metadata": {},
   "outputs": [
    {
     "name": "stdout",
     "output_type": "stream",
     "text": [
      "+---+--------------------+---------+---------+----+---+---+\n",
      "|faa|                name|      lat|      lon| alt| tz|dst|\n",
      "+---+--------------------+---------+---------+----+---+---+\n",
      "|04G|   Lansdowne Airport|41.130474|-80.61958|1044| -5|  A|\n",
      "|06A|Moton Field Munic...| 32.46057|-85.68003| 264| -5|  A|\n",
      "|06C| Schaumburg Regional| 41.98934|-88.10124| 801| -6|  A|\n",
      "+---+--------------------+---------+---------+----+---+---+\n",
      "only showing top 3 rows\n",
      "\n",
      "+-------+----+--------------------+----------------+--------+-------+-----+-----+---------+\n",
      "|tailnum|year|                type|    manufacturer|   model|engines|seats|speed|   engine|\n",
      "+-------+----+--------------------+----------------+--------+-------+-----+-----+---------+\n",
      "| N102UW|1998|Fixed wing multi ...|AIRBUS INDUSTRIE|A320-214|      2|  182| null|Turbo-fan|\n",
      "| N103US|1999|Fixed wing multi ...|AIRBUS INDUSTRIE|A320-214|      2|  182| null|Turbo-fan|\n",
      "| N104UW|1999|Fixed wing multi ...|AIRBUS INDUSTRIE|A320-214|      2|  182| null|Turbo-fan|\n",
      "+-------+----+--------------------+----------------+--------+-------+-----+-----+---------+\n",
      "only showing top 3 rows\n",
      "\n",
      "+----+-----+---+--------+---------+--------+---------+-------+-------+------+------+----+--------+--------+----+------+\n",
      "|year|month|day|dep_time|dep_delay|arr_time|arr_delay|carrier|tailnum|flight|origin|dest|air_time|distance|hour|minute|\n",
      "+----+-----+---+--------+---------+--------+---------+-------+-------+------+------+----+--------+--------+----+------+\n",
      "|2014|   12|  8|     658|       -7|     935|       -5|     VX| N846VA|  1780|   SEA| LAX|     132|     954|   6|    58|\n",
      "|2014|    1| 22|    1040|        5|    1505|        5|     AS| N559AS|   851|   SEA| HNL|     360|    2677|  10|    40|\n",
      "|2014|    3|  9|    1443|       -2|    1652|        2|     VX| N847VA|   755|   SEA| SFO|     111|     679|  14|    43|\n",
      "+----+-----+---+--------+---------+--------+---------+-------+-------+------+------+----+--------+--------+----+------+\n",
      "only showing top 3 rows\n",
      "\n"
     ]
    }
   ],
   "source": [
    "df_airports.show(3)\n",
    "df_planes.show(3)\n",
    "df_flights.show(3)"
   ]
  },
  {
   "cell_type": "markdown",
   "id": "d6e4914b",
   "metadata": {},
   "source": [
    "# -----------------------------------------------------------------------------------------------------------\n",
    "# Quality airports\n",
    "# -----------------------------------------------------------------------------------------------------------\n",
    "## 1."
   ]
  },
  {
   "cell_type": "code",
   "execution_count": null,
   "id": "45282752",
   "metadata": {},
   "outputs": [],
   "source": [
    "df_airports.filter(F.col('faa') == 'NA').show(3)"
   ]
  },
  {
   "cell_type": "code",
   "execution_count": null,
   "id": "ed09ecee",
   "metadata": {},
   "outputs": [],
   "source": [
    "REGEX_ALPHANUM = r'[0-9a-zA-Z]+'\n",
    "\n",
    "df_airports = df_airports.withColumn(\"qa_faa\", \n",
    "                                     F.when(F.col(\"faa\").isNull(), \"M\")\n",
    "                                      .when(~F.col(\"faa\").rlike(r'[0-9a-zA-Z]+'), \"F\"))\n",
    "\n",
    "df_airports.show(5)\n",
    "df_airports.filter(F.col('qa_faa').isNull()).show()"
   ]
  },
  {
   "cell_type": "code",
   "execution_count": null,
   "id": "29c7cb37",
   "metadata": {},
   "outputs": [],
   "source": [
    "df_airports.groupBy(F.col('qa_faa')).count().show()"
   ]
  },
  {
   "cell_type": "markdown",
   "id": "dab53fe2",
   "metadata": {},
   "source": [
    "# -----------------------------------------------------------------------------------------------------------\n",
    "## 2."
   ]
  },
  {
   "cell_type": "code",
   "execution_count": null,
   "id": "cc4ba610",
   "metadata": {},
   "outputs": [],
   "source": [
    "df_airports.filter(F.col('name') == 'NA').show(5)"
   ]
  },
  {
   "cell_type": "code",
   "execution_count": null,
   "id": "39a19e01",
   "metadata": {},
   "outputs": [],
   "source": [
    "df_airports = df_airports.withColumn('qa_name',\n",
    "                                     F.when(F.col('name') == 'NA', 'M'))\n",
    "\n",
    "df_airports.show(5)"
   ]
  },
  {
   "cell_type": "code",
   "execution_count": null,
   "id": "437a0191",
   "metadata": {},
   "outputs": [],
   "source": [
    "df_airports.groupBy(F.col('qa_name')).count().show()"
   ]
  },
  {
   "cell_type": "markdown",
   "id": "83fabba9",
   "metadata": {},
   "source": [
    "# -----------------------------------------------------------------------------------------------------------\n",
    "## 3."
   ]
  },
  {
   "cell_type": "code",
   "execution_count": null,
   "id": "b3a85867",
   "metadata": {},
   "outputs": [],
   "source": [
    "df_airports.filter(F.col('lat').isNull()).show()"
   ]
  },
  {
   "cell_type": "code",
   "execution_count": null,
   "id": "26cf0aa3",
   "metadata": {},
   "outputs": [],
   "source": [
    "df_airports = df_airports.withColumn('qa_lat',\n",
    "                                     F.when(F.col('lat').isNull(), 'M')\n",
    "                                      .when(~F.col('lat').between(-180, 180), 'I')\n",
    "                                      .when(F.col('lat').rlike('[a-zA-Z]'), 'A'))\n",
    "\n",
    "df_airports.show(5)"
   ]
  },
  {
   "cell_type": "code",
   "execution_count": null,
   "id": "2b22e69f",
   "metadata": {},
   "outputs": [],
   "source": [
    "df_airports.groupBy(F.col('qa_lat')).count().show()"
   ]
  },
  {
   "cell_type": "markdown",
   "id": "80cde952",
   "metadata": {},
   "source": [
    "# -----------------------------------------------------------------------------------------------------------\n",
    "## 4."
   ]
  },
  {
   "cell_type": "code",
   "execution_count": null,
   "id": "478d3b1d",
   "metadata": {},
   "outputs": [],
   "source": [
    "df_airports.filter(F.col('lon').isNull()).show()"
   ]
  },
  {
   "cell_type": "code",
   "execution_count": null,
   "id": "ca4945d4",
   "metadata": {},
   "outputs": [],
   "source": [
    "df_airports = df_airports.withColumn('qa_lon',\n",
    "                                     F.when(F.col('lon').isNull(), 'M')\n",
    "                                      .when(~F.col('lon').between(-180, 180), 'I')\n",
    "                                      .when(F.col('lon').rlike('[a-zA-Z]'), 'A')\n",
    "                                    )\n",
    "\n",
    "df_airports.show(5)"
   ]
  },
  {
   "cell_type": "code",
   "execution_count": null,
   "id": "c19401e0",
   "metadata": {},
   "outputs": [],
   "source": [
    "df_airports.groupBy(F.col('qa_lon')).count().show()"
   ]
  },
  {
   "cell_type": "markdown",
   "id": "e3fc6724",
   "metadata": {},
   "source": [
    "# -----------------------------------------------------------------------------------------------------------\n",
    "## 5."
   ]
  },
  {
   "cell_type": "code",
   "execution_count": null,
   "id": "f4510e2c",
   "metadata": {},
   "outputs": [],
   "source": [
    "df_airports.filter(F.col('alt').isNull()).show()"
   ]
  },
  {
   "cell_type": "code",
   "execution_count": null,
   "id": "54c93370",
   "metadata": {},
   "outputs": [],
   "source": [
    "df_airports = df_airports.withColumn('qa_alt',\n",
    "                                     F.when(F.col('alt').isNull(), 'M')\n",
    "                                      .when(F.col('alt') < 0, 'I')\n",
    "                                      .when(F.col('alt').rlike('[a-zA-Z]'), 'A')\n",
    "                                    )\n",
    "\n",
    "df_airports.show(5)"
   ]
  },
  {
   "cell_type": "code",
   "execution_count": null,
   "id": "613c5e74",
   "metadata": {},
   "outputs": [],
   "source": [
    "df_airports.groupBy(F.col('qa_alt')).count().show()\n",
    "df_airports.filter(F.col('qa_alt').isNotNull()).show()"
   ]
  },
  {
   "cell_type": "markdown",
   "id": "7308d3bb",
   "metadata": {},
   "source": [
    "# -----------------------------------------------------------------------------------------------------------\n",
    "## 6."
   ]
  },
  {
   "cell_type": "code",
   "execution_count": null,
   "id": "017f0c8b",
   "metadata": {},
   "outputs": [],
   "source": [
    "df_airports.filter(F.col('tz').isNull()).show()"
   ]
  },
  {
   "cell_type": "code",
   "execution_count": null,
   "id": "eb4827ad",
   "metadata": {},
   "outputs": [],
   "source": [
    "df_airports = df_airports.withColumn('qa_tz',\n",
    "                                     F.when(F.col('tz').isNull(), 'M')\n",
    "                                      .when(~F.col('tz').between(-11, 14), 'I')\n",
    "                                      .when(F.col('tz').rlike('[a-zA-Z]'), 'A')\n",
    "                                    )\n",
    "\n",
    "df_airports.show(5)"
   ]
  },
  {
   "cell_type": "code",
   "execution_count": null,
   "id": "9fc23f83",
   "metadata": {},
   "outputs": [],
   "source": [
    "df_airports.groupBy(F.col('qa_tz')).count().show()"
   ]
  },
  {
   "cell_type": "markdown",
   "id": "85d42255",
   "metadata": {},
   "source": [
    "# -----------------------------------------------------------------------------------------------------------\n",
    "## 7."
   ]
  },
  {
   "cell_type": "code",
   "execution_count": null,
   "id": "3e141c40",
   "metadata": {},
   "outputs": [],
   "source": [
    "df_airports.filter(F.col('dst') == 'NA').show()"
   ]
  },
  {
   "cell_type": "code",
   "execution_count": null,
   "id": "6f5f3816",
   "metadata": {},
   "outputs": [],
   "source": [
    "LIST_DST = ['E', 'A', 'S', 'O', 'Z', 'N', 'U']\n",
    "\n",
    "df_airports = df_airports.withColumn('qa_dst',\n",
    "                                     F.when(F.col('dst') == 'NA', 'M')\n",
    "                                      .when(~F.col('dst').isin(LIST_DST), 'C')\n",
    "                                      .when(F.col('dst').rlike('[0-9]'), 'N')\n",
    "                                    )\n",
    "\n",
    "df_airports.show(5)"
   ]
  },
  {
   "cell_type": "code",
   "execution_count": null,
   "id": "ee146a3b",
   "metadata": {},
   "outputs": [],
   "source": [
    "df_airports.groupBy(F.col('qa_dst')).count().show()"
   ]
  },
  {
   "cell_type": "markdown",
   "id": "93a8d544",
   "metadata": {},
   "source": [
    "# -----------------------------------------------------------------------------------------------------------\n",
    "# Quality airports\n",
    "# -----------------------------------------------------------------------------------------------------------\n",
    "## 1."
   ]
  },
  {
   "cell_type": "code",
   "execution_count": null,
   "id": "689f09cd",
   "metadata": {},
   "outputs": [],
   "source": [
    "df_planes.filter(F.col('tailnum') == 'NA').show()"
   ]
  },
  {
   "cell_type": "code",
   "execution_count": null,
   "id": "676978bc",
   "metadata": {},
   "outputs": [],
   "source": [
    "REGEX_TAILNUM = r'(^[N][0-9]{4}[A-Z]$)|(^[N][0-9]{3}[A-Z]{2})|(^[N][0-9]{3}[A-Z]$)'\n",
    "\n",
    "df_planes = df_planes.withColumn('qa_tailnum',\n",
    "                                 F.when(F.col('tailnum') == 'NA', 'M')\n",
    "                                  .when(~F.length(F.col('tailnum')).between(5, 6), 'S')\n",
    "                                  .when(~F.col('tailnum').rlike('^N'), 'FN')\n",
    "                                  .when(F.col('tailnum').rlike('(N0)|([IO])'), 'FE')\n",
    "                                  .when(~F.col('tailnum').rlike(REGEX_TAILNUM), 'F')\n",
    "                                )\n",
    "\n",
    "df_planes.show(5)"
   ]
  },
  {
   "cell_type": "code",
   "execution_count": null,
   "id": "0ad41b6a",
   "metadata": {},
   "outputs": [],
   "source": [
    "df_planes.groupBy(F.col('qa_tailnum')).count().show()"
   ]
  },
  {
   "cell_type": "markdown",
   "id": "cfcf7f9b",
   "metadata": {},
   "source": [
    "# -----------------------------------------------------------------------------------------------------------\n",
    "## 2."
   ]
  },
  {
   "cell_type": "code",
   "execution_count": null,
   "id": "87789af5",
   "metadata": {},
   "outputs": [],
   "source": [
    "df_planes.filter(F.col('year').isNull()).show(5)"
   ]
  },
  {
   "cell_type": "code",
   "execution_count": null,
   "id": "ee14bacb",
   "metadata": {},
   "outputs": [],
   "source": [
    "df_planes = df_planes.withColumn('qa_year',\n",
    "                                 F.when(F.col('year').isNull(), 'M')\n",
    "                                  .when(F.col('year') < 1950,   'I')\n",
    "                                )\n",
    "\n",
    "df_planes.show(5)"
   ]
  },
  {
   "cell_type": "code",
   "execution_count": null,
   "id": "6c67bb1d",
   "metadata": {},
   "outputs": [],
   "source": [
    "df_planes.groupBy(F.col('qa_year')).count().show()"
   ]
  },
  {
   "cell_type": "markdown",
   "id": "488f9e68",
   "metadata": {},
   "source": [
    "# -----------------------------------------------------------------------------------------------------------\n",
    "## 3."
   ]
  },
  {
   "cell_type": "code",
   "execution_count": null,
   "id": "fba114e8",
   "metadata": {},
   "outputs": [],
   "source": [
    "df_planes.filter(F.col('type') == 'NA').show()"
   ]
  },
  {
   "cell_type": "code",
   "execution_count": null,
   "id": "10415b9c",
   "metadata": {},
   "outputs": [],
   "source": [
    "LIST_TYPE = ['Fixed wing multi engine', 'Fixed wing single engine', 'Rotorcraft']\n",
    "df_planes = df_planes.withColumn('qa_type',\n",
    "                                 F.when(F.col('type') == 'NA',          'M')\n",
    "                                  .when(~F.col('type').isin(LIST_TYPE), 'C')\n",
    "                                )\n",
    "\n",
    "df_planes.show(5)"
   ]
  },
  {
   "cell_type": "code",
   "execution_count": null,
   "id": "3cc2c78e",
   "metadata": {},
   "outputs": [],
   "source": [
    "df_planes.groupBy(F.col('qa_type')).count().show()"
   ]
  },
  {
   "cell_type": "markdown",
   "id": "72c88f7a",
   "metadata": {},
   "source": [
    "# -----------------------------------------------------------------------------------------------------------\n",
    "## 4."
   ]
  },
  {
   "cell_type": "code",
   "execution_count": null,
   "id": "0874f88b",
   "metadata": {},
   "outputs": [],
   "source": [
    "df_planes.filter(F.col('type') == 'NA').show()"
   ]
  },
  {
   "cell_type": "code",
   "execution_count": null,
   "id": "dc4c5012",
   "metadata": {},
   "outputs": [],
   "source": [
    "LIST_MAN = [ \"AIRBUS\", \"BOEING\", \"BOMBARDIER\", \"CESSNA\", \"EMBRAER\", \"SIKORSKY\", \"CANADAIR\", \"PIPER\", \n",
    "             \"MCDONNELL DOUGLAS\", \"CIRRUS\", \"BELL\", \"KILDALL GARY\", \"LAMBERT RICHARD\", \"BARKER JACK\", \"ROBINSON HELICOPTER\", \n",
    "             \"GULFSTREAM\", \"MARZ BARRY\"]\n",
    "\n",
    "df_planes = df_planes.withColumn('qa_manufacturer',\n",
    "                                 F.when(F.col('manufacturer') == 'NA',         'M')\n",
    "                                  .when(~F.col('manufacturer').isin(LIST_MAN), 'C')\n",
    "                                )\n",
    "\n",
    "df_planes.show(5)"
   ]
  },
  {
   "cell_type": "code",
   "execution_count": null,
   "id": "f82e39c5",
   "metadata": {},
   "outputs": [],
   "source": [
    "df_planes.groupBy(F.col('qa_manufacturer')).count().show()"
   ]
  },
  {
   "cell_type": "markdown",
   "id": "0bfb24d5",
   "metadata": {},
   "source": [
    "# -----------------------------------------------------------------------------------------------------------\n",
    "## 5."
   ]
  },
  {
   "cell_type": "code",
   "execution_count": null,
   "id": "853ea1f9",
   "metadata": {},
   "outputs": [],
   "source": [
    "df_planes.filter(F.col('model') == 'NA').show()"
   ]
  },
  {
   "cell_type": "code",
   "execution_count": null,
   "id": "8ee250ea",
   "metadata": {},
   "outputs": [],
   "source": [
    "df_planes = df_planes.withColumn('qa_model',\n",
    "                                 F.when(F.col('model') == 'NA', 'M')\n",
    "                                  .when(((F.col(\"manufacturer\") == \"AIRBUS\") & (F.col(\"model\").rlike('^[A]') == False)) |\n",
    "                                        ((F.col(\"manufacturer\") == \"BOEING\") & (F.col(\"model\").rlike('^[7]') == False)) |\n",
    "                                        ((F.col(\"manufacturer\") == \"BOMBARDIER\") & (F.col(\"model\").rlike('^[C][L]') == False)) |\n",
    "                                        ((F.col(\"manufacturer\") == \"CANADAIR\") & (F.col(\"model\").rlike('^[C][L]') == False)) |\n",
    "                                        ((F.col(\"manufacturer\") == \"MCDONNELL DOUGLAS\") & (F.col(\"model\").rlike('(^[M][D]|^[D][C])') == False)), 'F')\n",
    "                                )\n",
    "\n",
    "df_planes.show(5)"
   ]
  },
  {
   "cell_type": "code",
   "execution_count": null,
   "id": "e4b8fbdb",
   "metadata": {},
   "outputs": [],
   "source": [
    "df_planes.groupBy(F.col('qa_model')).count().show()"
   ]
  },
  {
   "cell_type": "markdown",
   "id": "71edcac1",
   "metadata": {},
   "source": [
    "# -----------------------------------------------------------------------------------------------------------\n",
    "## 6."
   ]
  },
  {
   "cell_type": "code",
   "execution_count": null,
   "id": "9ff0deb8",
   "metadata": {},
   "outputs": [],
   "source": [
    "df_planes.filter(F.col('engines').isNull()).show()"
   ]
  },
  {
   "cell_type": "code",
   "execution_count": null,
   "id": "5b66ca31",
   "metadata": {},
   "outputs": [],
   "source": [
    "df_planes = df_planes.withColumn('qa_engines',\n",
    "                                 F.when(F.col('engines').isNull(),          'M')\n",
    "                                  .when(~F.col('engines').between(1, 4),    'I')\n",
    "                                  .when(F.col('engines').rlike('[a-zA-Z]'), 'A')\n",
    "                                )\n",
    "\n",
    "df_planes.show(3)"
   ]
  },
  {
   "cell_type": "code",
   "execution_count": null,
   "id": "fa4c224c",
   "metadata": {},
   "outputs": [],
   "source": [
    "df_planes.groupBy(F.col('qa_engines')).count().show()"
   ]
  },
  {
   "cell_type": "markdown",
   "id": "7a3ff19d",
   "metadata": {},
   "source": [
    "# -----------------------------------------------------------------------------------------------------------\n",
    "## 7."
   ]
  },
  {
   "cell_type": "code",
   "execution_count": null,
   "id": "3928d16d",
   "metadata": {},
   "outputs": [],
   "source": [
    "df_planes.filter(F.col('seats').isNull()).show()"
   ]
  },
  {
   "cell_type": "code",
   "execution_count": null,
   "id": "cf99eb1e",
   "metadata": {},
   "outputs": [],
   "source": [
    "df_planes = df_planes.withColumn('qa_seats',\n",
    "                                 F.when(F.col('seats').isNull(),          'M')\n",
    "                                  .when(~F.col('seats').between(2, 500),  'I')\n",
    "                                  .when(F.col('seats').rlike('[a-zA-Z]'), 'A')\n",
    "                                )\n",
    "\n",
    "df_planes.show(3)"
   ]
  },
  {
   "cell_type": "code",
   "execution_count": null,
   "id": "c05042e5",
   "metadata": {},
   "outputs": [],
   "source": [
    "df_planes.groupBy(F.col('qa_seats')).count().show()"
   ]
  },
  {
   "cell_type": "markdown",
   "id": "4cc4779a",
   "metadata": {},
   "source": [
    "# -----------------------------------------------------------------------------------------------------------\n",
    "## 8."
   ]
  },
  {
   "cell_type": "code",
   "execution_count": null,
   "id": "1665621d",
   "metadata": {},
   "outputs": [],
   "source": [
    "df_planes.filter(F.col('speed').isNull()).count()"
   ]
  },
  {
   "cell_type": "code",
   "execution_count": null,
   "id": "0218975b",
   "metadata": {},
   "outputs": [],
   "source": [
    "df_planes = df_planes.withColumn('qa_speed',\n",
    "                                 F.when(F.col('speed').isNull(),          'M')\n",
    "                                  .when(~F.col('speed').between(50, 150), 'I')\n",
    "                                  .when(F.col('speed').rlike('[a-zA-Z]'), 'A')\n",
    "                                )\n",
    "\n",
    "df_planes.show(3)"
   ]
  },
  {
   "cell_type": "code",
   "execution_count": null,
   "id": "052e16b1",
   "metadata": {},
   "outputs": [],
   "source": [
    "df_planes.groupBy(F.col('qa_speed')).count().show()"
   ]
  },
  {
   "cell_type": "markdown",
   "id": "6e54fa7f",
   "metadata": {},
   "source": [
    "# -----------------------------------------------------------------------------------------------------------\n",
    "## 9."
   ]
  },
  {
   "cell_type": "code",
   "execution_count": null,
   "id": "5abbb506",
   "metadata": {},
   "outputs": [],
   "source": [
    "df_planes.filter(F.col('engine').isNull()).show()"
   ]
  },
  {
   "cell_type": "code",
   "execution_count": null,
   "id": "c84f7bfa",
   "metadata": {},
   "outputs": [],
   "source": [
    "LIST_ENGINE = [\"Turbo-fan\", \"Turbo-jet\", \"Turbo-prop\", \"Turbo-shaft\", \"4 Cycle\"]\n",
    "\n",
    "df_planes = df_planes.withColumn('qa_engine',\n",
    "                                 F.when(F.col('engine') == 'NA',            'M')\n",
    "                                  .when(~F.col('engine').isin(LIST_ENGINE), 'C')\n",
    "                                )\n",
    "\n",
    "df_planes.show(3)"
   ]
  },
  {
   "cell_type": "code",
   "execution_count": null,
   "id": "7ec31199",
   "metadata": {},
   "outputs": [],
   "source": [
    "df_planes.groupBy(F.col('qa_engine')).count().show()"
   ]
  },
  {
   "cell_type": "markdown",
   "id": "32ca0ce8",
   "metadata": {},
   "source": [
    "# -----------------------------------------------------------------------------------------------------------\n",
    "# Quality flights\n",
    "# -----------------------------------------------------------------------------------------------------------\n",
    "## 1."
   ]
  },
  {
   "cell_type": "code",
   "execution_count": null,
   "id": "da0c91a8",
   "metadata": {},
   "outputs": [],
   "source": [
    "df_flights.filter(F.col('year').isNull()).show()"
   ]
  },
  {
   "cell_type": "code",
   "execution_count": null,
   "id": "f41f35c0",
   "metadata": {},
   "outputs": [],
   "source": [
    "df_flights = df_flights.withColumn('qa_year_month_day',\n",
    "                                   F.when(F.col('year').isNull(),         'MY')\n",
    "                                    .when(F.col('month').isNull(),        'MM')\n",
    "                                    .when(F.col('day').isNull(),          'MD')\n",
    "                                    .when(F.col('year') < 1950,           'IY')\n",
    "                                    .when(~F.col('month').between(1, 12), 'IM')\n",
    "                                    .when(~F.col('day').between(1,31),    'ID')\n",
    "                                    .when((F.col('month') == 2) & (~F.col('day').between(1,29)), 'ID')\n",
    "                                  )\n",
    "\n",
    "df_flights.show(3)"
   ]
  },
  {
   "cell_type": "code",
   "execution_count": null,
   "id": "ecb662ec",
   "metadata": {},
   "outputs": [],
   "source": [
    "df_flights.groupBy(F.col('qa_year_month_day')).count().show()"
   ]
  },
  {
   "cell_type": "markdown",
   "id": "a03e76d1",
   "metadata": {},
   "source": [
    "# -----------------------------------------------------------------------------------------------------------\n",
    "## 2."
   ]
  },
  {
   "cell_type": "code",
   "execution_count": null,
   "id": "35e61b91",
   "metadata": {},
   "outputs": [],
   "source": [
    "df_flights.filter(F.col('hour').isNull()).show(2)"
   ]
  },
  {
   "cell_type": "code",
   "execution_count": null,
   "id": "30bb5195",
   "metadata": {},
   "outputs": [],
   "source": [
    "df_flights = df_flights.withColumn('qa_hour_minute',\n",
    "                                   F.when(F.col('hour').isNull(),          'MH')\n",
    "                                    .when(F.col('minute').isNull(),        'MM')\n",
    "                                    .when(~F.col('hour').between(0, 24),   'IH')\n",
    "                                    .when(~F.col('minute').between(0, 59), 'IM')\n",
    "                                  )\n",
    "\n",
    "df_flights.show(3)"
   ]
  },
  {
   "cell_type": "code",
   "execution_count": null,
   "id": "962d513f",
   "metadata": {},
   "outputs": [],
   "source": [
    "df_flights.groupBy(F.col('qa_hour_minute')).count().show()"
   ]
  },
  {
   "cell_type": "markdown",
   "id": "e8c0545a",
   "metadata": {},
   "source": [
    "# -----------------------------------------------------------------------------------------------------------\n",
    "## 3."
   ]
  },
  {
   "cell_type": "code",
   "execution_count": null,
   "id": "eccf31ef",
   "metadata": {},
   "outputs": [],
   "source": [
    "df_flights.filter(F.col('dep_time') == 'NA').show(2)"
   ]
  },
  {
   "cell_type": "code",
   "execution_count": null,
   "id": "e08d1bb0",
   "metadata": {},
   "outputs": [],
   "source": [
    "REGEX_TIME = r'^(([0-1]?[0-9])|(2[0-3]))([0-5][0-9])$'\n",
    "\n",
    "df_flights = df_flights.withColumn('qa_dep_arr_time',\n",
    "                                   F.when(F.col('dep_time') == 'NA',            'MD')\n",
    "                                    .when(F.col('arr_time') == 'NA',            'MA')\n",
    "                                    .when(~F.col('dep_time').rlike(REGEX_TIME), 'FD')\n",
    "                                    .when(~F.col('arr_time').rlike(REGEX_TIME), 'FA')\n",
    "                                  )\n",
    "\n",
    "df_flights.show(2)"
   ]
  },
  {
   "cell_type": "code",
   "execution_count": null,
   "id": "c0f5938b",
   "metadata": {},
   "outputs": [],
   "source": [
    "df_flights.groupBy(F.col('qa_dep_arr_time')).count().show()"
   ]
  },
  {
   "cell_type": "markdown",
   "id": "1dccde3b",
   "metadata": {},
   "source": [
    "# -----------------------------------------------------------------------------------------------------------\n",
    "## 4."
   ]
  },
  {
   "cell_type": "code",
   "execution_count": null,
   "id": "125579a3",
   "metadata": {},
   "outputs": [],
   "source": [
    "df_flights = df_flights.withColumn('qa_dep_arr_delay',\n",
    "                                   F.when(F.col('dep_delay').isNull(), 'MD')\n",
    "                                    .when(F.col('arr_delay').isNull(), 'MA')\n",
    "                                  )"
   ]
  },
  {
   "cell_type": "code",
   "execution_count": null,
   "id": "3b1dd278",
   "metadata": {},
   "outputs": [],
   "source": [
    "df_flights.groupBy(F.col('qa_dep_arr_delay')).count().show()"
   ]
  },
  {
   "cell_type": "code",
   "execution_count": null,
   "id": "bc86cb09",
   "metadata": {},
   "outputs": [],
   "source": []
  }
 ],
 "metadata": {
  "kernelspec": {
   "display_name": "Python 3 (ipykernel)",
   "language": "python",
   "name": "python3"
  },
  "language_info": {
   "codemirror_mode": {
    "name": "ipython",
    "version": 3
   },
   "file_extension": ".py",
   "mimetype": "text/x-python",
   "name": "python",
   "nbconvert_exporter": "python",
   "pygments_lexer": "ipython3",
   "version": "3.9.7"
  }
 },
 "nbformat": 4,
 "nbformat_minor": 5
}
