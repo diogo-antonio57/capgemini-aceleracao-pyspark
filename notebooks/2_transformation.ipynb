{
 "cells": [
  {
   "cell_type": "code",
   "execution_count": 1,
   "id": "b721d75d",
   "metadata": {},
   "outputs": [
    {
     "name": "stdout",
     "output_type": "stream",
     "text": [
      "Requirement already satisfied: pyspark in c:\\users\\diosilva\\anaconda3\\lib\\site-packages (3.2.1)\n",
      "Requirement already satisfied: py4j==0.10.9.3 in c:\\users\\diosilva\\anaconda3\\lib\\site-packages (from pyspark) (0.10.9.3)\n",
      "Requirement already satisfied: findspark in c:\\users\\diosilva\\anaconda3\\lib\\site-packages (2.0.1)\n"
     ]
    }
   ],
   "source": [
    "# Installing required packages\n",
    "!pip install pyspark\n",
    "!pip install findspark"
   ]
  },
  {
   "cell_type": "code",
   "execution_count": 2,
   "id": "7e379c18",
   "metadata": {},
   "outputs": [],
   "source": [
    "# Importa e inicia o findspark\n",
    "import findspark\n",
    "findspark.init()"
   ]
  },
  {
   "cell_type": "code",
   "execution_count": 3,
   "id": "f025b0b2",
   "metadata": {},
   "outputs": [],
   "source": [
    "# Importa todos os módulos necessários\n",
    "from pyspark import SparkContext, SparkConf\n",
    "from pyspark.sql import SparkSession\n",
    "from pyspark.sql import functions as F\n",
    "from pyspark.sql.types import StructType, StructField, StringType, IntegerType, FloatType"
   ]
  },
  {
   "cell_type": "code",
   "execution_count": 4,
   "id": "87202913",
   "metadata": {},
   "outputs": [],
   "source": [
    "# Criar o contexto do spark\n",
    "sc = SparkContext()\n",
    "\n",
    "# Instancia o criador de sessao do spark\n",
    "spark = (SparkSession.builder\n",
    "                     .master(\"local[7]\") # usa a márquina local com 7 nucleos\n",
    "                     .appName(\"Aceleração PySpark - Capgemini\"))"
   ]
  },
  {
   "cell_type": "code",
   "execution_count": 5,
   "id": "2741b792",
   "metadata": {},
   "outputs": [],
   "source": [
    "# Cria o Schema de todos os datasets\n",
    "schema_airports = StructType([\n",
    "    StructField(\"faa\",  StringType(),  True),\n",
    "    StructField(\"name\", StringType(),  True),\n",
    "    StructField(\"lat\",  FloatType(),   True),\n",
    "    StructField(\"lon\",  FloatType(),   True),\n",
    "    StructField(\"alt\",  IntegerType(), True),\n",
    "    StructField(\"tz\",   IntegerType(), True),\n",
    "    StructField(\"dst\",  StringType(),  True)\n",
    "])\n",
    "\n",
    "schema_planes = StructType([\n",
    "    StructField('tailnum', StringType(), True),\n",
    "    StructField('year', IntegerType(), True),\n",
    "    StructField('type', StringType(), True),\n",
    "    StructField('manufacturer', StringType(), True),\n",
    "    StructField('model', StringType(), True),\n",
    "    StructField('engines', IntegerType(), True),\n",
    "    StructField('seats', IntegerType(), True),\n",
    "    StructField('speed', IntegerType(), True),\n",
    "    StructField('engine', StringType(), True)\n",
    "])\n",
    "\n",
    "schema_flights = StructType([\n",
    "    StructField('year', IntegerType(), True),\n",
    "    StructField('month', IntegerType(), True),\n",
    "    StructField('day', IntegerType(), True),\n",
    "    StructField('dep_time', StringType(), True),\n",
    "    StructField('dep_delay', IntegerType(), True),\n",
    "    StructField('arr_time', StringType(), True),\n",
    "    StructField('arr_delay', IntegerType(), True),\n",
    "    StructField('carrier', StringType(), True),\n",
    "    StructField('tailnum', StringType(), True),\n",
    "    StructField('flight', StringType(), True),\n",
    "    StructField('origin', StringType(), True),\n",
    "    StructField('dest', StringType(), True),\n",
    "    StructField('air_time', IntegerType(), True),\n",
    "    StructField('distance', IntegerType(), True),\n",
    "    StructField('hour', IntegerType(), True),\n",
    "    StructField('minute', IntegerType(), True)\n",
    "])"
   ]
  },
  {
   "cell_type": "code",
   "execution_count": 6,
   "id": "cb806c35",
   "metadata": {},
   "outputs": [],
   "source": [
    "# Cria os dataframes\n",
    "df_airports = (spark.getOrCreate().read\n",
    "                  .format(\"csv\")\n",
    "                  .option(\"header\", \"true\")\n",
    "                  .schema(schema_airports)\n",
    "                  .load(\"../data/airports.csv\"))\n",
    "\n",
    "df_planes = (spark.getOrCreate().read\n",
    "                  .format(\"csv\")\n",
    "                  .option(\"header\", \"true\")\n",
    "                  .schema(schema_planes)\n",
    "                  .load(\"../data/planes.csv\"))\n",
    "\n",
    "df_flights = (spark.getOrCreate().read\n",
    "                  .format(\"csv\")\n",
    "                  .option(\"header\", \"true\")\n",
    "                  .schema(schema_flights)\n",
    "                  .load(\"../data/flights.csv\"))"
   ]
  },
  {
   "cell_type": "code",
   "execution_count": 7,
   "id": "3b673329",
   "metadata": {},
   "outputs": [
    {
     "name": "stdout",
     "output_type": "stream",
     "text": [
      "+---+--------------------+---------+---------+----+---+---+\n",
      "|faa|                name|      lat|      lon| alt| tz|dst|\n",
      "+---+--------------------+---------+---------+----+---+---+\n",
      "|04G|   Lansdowne Airport|41.130474|-80.61958|1044| -5|  A|\n",
      "|06A|Moton Field Munic...| 32.46057|-85.68003| 264| -5|  A|\n",
      "|06C| Schaumburg Regional| 41.98934|-88.10124| 801| -6|  A|\n",
      "+---+--------------------+---------+---------+----+---+---+\n",
      "only showing top 3 rows\n",
      "\n",
      "+-------+----+--------------------+----------------+--------+-------+-----+-----+---------+\n",
      "|tailnum|year|                type|    manufacturer|   model|engines|seats|speed|   engine|\n",
      "+-------+----+--------------------+----------------+--------+-------+-----+-----+---------+\n",
      "| N102UW|1998|Fixed wing multi ...|AIRBUS INDUSTRIE|A320-214|      2|  182| null|Turbo-fan|\n",
      "| N103US|1999|Fixed wing multi ...|AIRBUS INDUSTRIE|A320-214|      2|  182| null|Turbo-fan|\n",
      "| N104UW|1999|Fixed wing multi ...|AIRBUS INDUSTRIE|A320-214|      2|  182| null|Turbo-fan|\n",
      "+-------+----+--------------------+----------------+--------+-------+-----+-----+---------+\n",
      "only showing top 3 rows\n",
      "\n",
      "+----+-----+---+--------+---------+--------+---------+-------+-------+------+------+----+--------+--------+----+------+\n",
      "|year|month|day|dep_time|dep_delay|arr_time|arr_delay|carrier|tailnum|flight|origin|dest|air_time|distance|hour|minute|\n",
      "+----+-----+---+--------+---------+--------+---------+-------+-------+------+------+----+--------+--------+----+------+\n",
      "|2014|   12|  8|     658|       -7|     935|       -5|     VX| N846VA|  1780|   SEA| LAX|     132|     954|   6|    58|\n",
      "|2014|    1| 22|    1040|        5|    1505|        5|     AS| N559AS|   851|   SEA| HNL|     360|    2677|  10|    40|\n",
      "|2014|    3|  9|    1443|       -2|    1652|        2|     VX| N847VA|   755|   SEA| SFO|     111|     679|  14|    43|\n",
      "+----+-----+---+--------+---------+--------+---------+-------+-------+------+------+----+--------+--------+----+------+\n",
      "only showing top 3 rows\n",
      "\n"
     ]
    }
   ],
   "source": [
    "df_airports.show(3)\n",
    "df_planes.show(3)\n",
    "df_flights.show(3)"
   ]
  },
  {
   "cell_type": "code",
   "execution_count": null,
   "id": "50971068",
   "metadata": {},
   "outputs": [],
   "source": [
    "# Função de regex\n",
    "def regex_definition(element):\n",
    "    return r'|'.join(map(lambda x : f'.*{x}*', element))"
   ]
  },
  {
   "cell_type": "markdown",
   "id": "94a5d391",
   "metadata": {},
   "source": [
    "# -----------------------------------------------------------------------------------------------------------\n",
    "# Transformação airports\n",
    "# -----------------------------------------------------------------------------------------------------------\n",
    "## 1."
   ]
  },
  {
   "cell_type": "code",
   "execution_count": null,
   "id": "04f8dfbe",
   "metadata": {},
   "outputs": [],
   "source": [
    "df_airports.filter(F.col('alt') < 0).show()"
   ]
  },
  {
   "cell_type": "code",
   "execution_count": null,
   "id": "058e46c1",
   "metadata": {},
   "outputs": [],
   "source": [
    "df_airports = df_airports.withColumn('alt', \n",
    "                                     F.when(F.col('alt') < 0, 0)\n",
    "                                      .otherwise(F.col('alt'))\n",
    "                                    )"
   ]
  },
  {
   "cell_type": "code",
   "execution_count": null,
   "id": "02cc7e0f",
   "metadata": {},
   "outputs": [],
   "source": [
    "df_airports.filter(F.col('alt') == 0).count()"
   ]
  },
  {
   "cell_type": "code",
   "execution_count": null,
   "id": "cf8918ab",
   "metadata": {},
   "outputs": [],
   "source": [
    "df_airports.groupBy(F.col('alt')).count().orderBy(F.col('alt')).show()"
   ]
  },
  {
   "cell_type": "markdown",
   "id": "15d1ba51",
   "metadata": {},
   "source": [
    "# -----------------------------------------------------------------------------------------------------------\n",
    "## 2."
   ]
  },
  {
   "cell_type": "code",
   "execution_count": null,
   "id": "6ce7e582",
   "metadata": {},
   "outputs": [],
   "source": [
    "df_airports.filter(F.col('tz').between(-7, -5)).show(10)"
   ]
  },
  {
   "cell_type": "code",
   "execution_count": null,
   "id": "5d73f109",
   "metadata": {},
   "outputs": [],
   "source": [
    "df_airports = df_airports.withColumn('dst',\n",
    "                                     F.when(F.col('tz').between(-7, -5), 'A')\n",
    "                                      .otherwise(F.col('dst'))\n",
    "                                    )"
   ]
  },
  {
   "cell_type": "code",
   "execution_count": null,
   "id": "9d58e1e5",
   "metadata": {},
   "outputs": [],
   "source": [
    "df_airports.filter(F.col('tz').between(-7, -5)).show(10)\n",
    "df_airports.groupBy(\"dst\").count().show()"
   ]
  },
  {
   "cell_type": "code",
   "execution_count": null,
   "id": "daa8da5d",
   "metadata": {},
   "outputs": [],
   "source": [
    "df_airports.groupBy(F.col('dst')).count().show(999)"
   ]
  },
  {
   "cell_type": "markdown",
   "id": "2c33e4f0",
   "metadata": {},
   "source": [
    "# -----------------------------------------------------------------------------------------------------------\n",
    "## 3."
   ]
  },
  {
   "cell_type": "code",
   "execution_count": null,
   "id": "6ff5c394",
   "metadata": {},
   "outputs": [],
   "source": [
    "df_airports.filter(F.col('dst') == 'U').show()"
   ]
  },
  {
   "cell_type": "code",
   "execution_count": null,
   "id": "7bd51dae",
   "metadata": {},
   "outputs": [],
   "source": [
    "df_airports = df_airports.withColumn('dst',\n",
    "                                     F.when(F.col('dst') == 'U', 'A')\n",
    "                                      .otherwise(F.col('dst'))\n",
    "                                    )"
   ]
  },
  {
   "cell_type": "code",
   "execution_count": null,
   "id": "59dabc7d",
   "metadata": {},
   "outputs": [],
   "source": [
    "df_airports.filter(F.col('faa') == 'GCW').show()\n",
    "df_airports.filter(F.col('dst') == 'A').count()\n",
    "df_airports.groupBy(\"dst\").count().show()"
   ]
  },
  {
   "cell_type": "markdown",
   "id": "20f3f6ef",
   "metadata": {},
   "source": [
    "# -----------------------------------------------------------------------------------------------------------\n",
    "## 4."
   ]
  },
  {
   "cell_type": "code",
   "execution_count": null,
   "id": "acd3fef1",
   "metadata": {},
   "outputs": [],
   "source": [
    "# Alaska\n",
    "df_airports.filter(F.col('lon') < -124).show(5)\n",
    "\n",
    "# Mainland-west\n",
    "df_airports.filter(F.col('lon').between(-124, -95)).show(5)\n",
    "\n",
    "# Mainland-east\n",
    "df_airports.filter(F.col('lon').between(-95, -59)).show(5)\n",
    "\n",
    "# Offshore\n",
    "df_airports.filter((F.col('lon') > -50) | (F.col('lat') < 24)).show(5)"
   ]
  },
  {
   "cell_type": "code",
   "execution_count": null,
   "id": "8b8780b3",
   "metadata": {},
   "outputs": [],
   "source": [
    "df_airports = df_airports.withColumn('region',\n",
    "                                      F.when(F.col('lon') < -124,                        'ALASKA')\n",
    "                                       .when(F.col('lon').between(-124, -95),            'MAINLAND-WEST')\n",
    "                                       .when(F.col('lon').between(-95, -54),             'MAINLAND-EAST')\n",
    "                                       .when((F.col('lon') > -50) | (F.col('lat') > 24), 'OFFSHORE')\n",
    "                                       .otherwise('NaN')\n",
    "                                    )\n",
    "\n",
    "df_airports.show(10)"
   ]
  },
  {
   "cell_type": "code",
   "execution_count": null,
   "id": "c4902255",
   "metadata": {},
   "outputs": [],
   "source": [
    "df_airports.groupBy(\"region\").count().show()"
   ]
  },
  {
   "cell_type": "markdown",
   "id": "50c20b6e",
   "metadata": {},
   "source": [
    "# -----------------------------------------------------------------------------------------------------------\n",
    "## 5."
   ]
  },
  {
   "cell_type": "code",
   "execution_count": null,
   "id": "ac1c1072",
   "metadata": {},
   "outputs": [],
   "source": [
    "LIST_AP  = ['Airport', 'Tradeport', 'Heliport', 'Airpor', 'Arpt']\n",
    "REGEX_AP = regex_definition(LIST_AP)\n",
    "\n",
    "LIST_AD  = ['Aerodrome']\n",
    "REGEX_AD = regex_definition(LIST_AD)\n",
    "\n",
    "LIST_AK  = ['Airpark', 'Aero Park']\n",
    "REGEX_AK = regex_definition(LIST_AK)\n",
    "\n",
    "LIST_AS  = ['Station', 'Air Station']\n",
    "REGEX_AS = regex_definition(LIST_AS)\n",
    "\n",
    "LIST_FL  = ['Field', 'Fld']\n",
    "REGEX_FL = regex_definition(LIST_FL)"
   ]
  },
  {
   "cell_type": "code",
   "execution_count": null,
   "id": "45a53d9a",
   "metadata": {},
   "outputs": [],
   "source": [
    "df_airports = df_airports.withColumn('type',\n",
    "                                     F.when(F.col('name').rlike(REGEX_AP),  'AP')\n",
    "                                       .when(F.col('name').rlike(REGEX_AD), 'AD')\n",
    "                                       .when(F.col('name').rlike(REGEX_AK), 'AK')\n",
    "                                       .when(F.col('name').rlike(REGEX_AS), 'AS')\n",
    "                                       .when(F.col('name').rlike(REGEX_FL), 'FL')\n",
    "                                       .otherwise('NaN')\n",
    "                                    )"
   ]
  },
  {
   "cell_type": "code",
   "execution_count": null,
   "id": "195f00ca",
   "metadata": {},
   "outputs": [],
   "source": [
    "df_airports.filter((F.col('name').rlike('(Airport).*(Field)'))).show(10, truncate=False)\n",
    "df_airports.groupBy(\"type\").count().show()"
   ]
  },
  {
   "cell_type": "markdown",
   "id": "ec1169e9",
   "metadata": {},
   "source": [
    "# -----------------------------------------------------------------------------------------------------------\n",
    "## 6."
   ]
  },
  {
   "cell_type": "code",
   "execution_count": null,
   "id": "fd7c3ef6",
   "metadata": {},
   "outputs": [],
   "source": [
    "df_airports.filter(F.col('name').rlike('Afs')).show(10, False)"
   ]
  },
  {
   "cell_type": "code",
   "execution_count": null,
   "id": "d168c63e",
   "metadata": {},
   "outputs": [],
   "source": [
    "LIST_MILITARY  = ['Base', 'Aaf', 'Afs', 'Ahp', 'Afb', 'LRRS', 'Lrrs', 'Arb', 'Naf', 'NAS', 'Nas', 'Jrb', 'Ns', 'As', 'Cgas', 'Angb']\n",
    "REGEX_MILITARY = r'|'.join(map(lambda x : f'^{x} | {x} | {x}$', LIST_MILITARY))"
   ]
  },
  {
   "cell_type": "code",
   "execution_count": null,
   "id": "24464eaf",
   "metadata": {},
   "outputs": [],
   "source": [
    "df_airports = df_airports.withColumn('military',\n",
    "                                     F.when(F.col('name').rlike(REGEX_MILITARY), True)\n",
    "                                      .otherwise(False)\n",
    "                                    )"
   ]
  },
  {
   "cell_type": "code",
   "execution_count": null,
   "id": "51ff1e80",
   "metadata": {},
   "outputs": [],
   "source": [
    "df_airports.filter(F.col('military') == True).show(10, False)\n",
    "df_airports.filter(F.col('name').rlike('As')).show(50, False)\n",
    "df_airports.groupBy(\"military\").count().show()"
   ]
  },
  {
   "cell_type": "markdown",
   "id": "369f6005",
   "metadata": {},
   "source": [
    "# -----------------------------------------------------------------------------------------------------------\n",
    "## 7."
   ]
  },
  {
   "cell_type": "code",
   "execution_count": null,
   "id": "c15794b5",
   "metadata": {},
   "outputs": [],
   "source": [
    "df_airports.filter(F.col('name').rlike('(City).*(Intl)')).show(10, False)"
   ]
  },
  {
   "cell_type": "code",
   "execution_count": null,
   "id": "54eb95f9",
   "metadata": {},
   "outputs": [],
   "source": [
    "LIST_I  = ['International', 'Intl', 'Intercontinental']\n",
    "REGEX_I = regex_definition(LIST_I)\n",
    "\n",
    "LIST_N  = ['National', 'Natl']\n",
    "REGEX_N = regex_definition(LIST_N)\n",
    "\n",
    "LIST_R  = ['Regional', 'Reigonal', 'Rgnl', 'County', 'Metro', 'Metropolitan']\n",
    "REGEX_R = regex_definition(LIST_R)\n",
    "\n",
    "LIST_M  = ['Municipal', 'Muni', 'City']\n",
    "REGEX_M = regex_definition(LIST_M)"
   ]
  },
  {
   "cell_type": "code",
   "execution_count": null,
   "id": "c7645a94",
   "metadata": {},
   "outputs": [],
   "source": [
    "df_airports = df_airports.withColumn('administration',\n",
    "                                     F.when(F.col('name').rlike(REGEX_I), 'I')\n",
    "                                      .when(F.col('name').rlike(REGEX_N), 'N')\n",
    "                                      .when(F.col('name').rlike(REGEX_R), 'R')\n",
    "                                      .when(F.col('name').rlike(REGEX_M), 'M')\n",
    "                                      .otherwise('NaN')\n",
    "                                    )\n",
    "\n",
    "df_airports.show(10, False)"
   ]
  },
  {
   "cell_type": "code",
   "execution_count": null,
   "id": "272e8ac9",
   "metadata": {},
   "outputs": [],
   "source": [
    "df_airports.filter(F.col('administration') == 'I').show(10, False)\n",
    "df_airports.groupBy(\"administration\").count().show()"
   ]
  },
  {
   "cell_type": "markdown",
   "id": "6cec7aca",
   "metadata": {},
   "source": [
    "# -----------------------------------------------------------------------------------------------------------\n",
    "# Transformação planes\n",
    "# -----------------------------------------------------------------------------------------------------------\n",
    "## 1."
   ]
  },
  {
   "cell_type": "code",
   "execution_count": null,
   "id": "bce28ea6",
   "metadata": {},
   "outputs": [],
   "source": [
    "df_planes = df_planes.withColumn('tailchar', F.regexp_replace(F.col('tailnum'), '[0-9]|^N', \"\"))\n",
    "\n",
    "df_planes.show()"
   ]
  },
  {
   "cell_type": "code",
   "execution_count": null,
   "id": "e8e2804d",
   "metadata": {},
   "outputs": [],
   "source": [
    "df_planes.groupBy(\"tailchar\").count().show()"
   ]
  },
  {
   "cell_type": "markdown",
   "id": "cb02f276",
   "metadata": {},
   "source": [
    "# -----------------------------------------------------------------------------------------------------------\n",
    "## 2."
   ]
  },
  {
   "cell_type": "code",
   "execution_count": null,
   "id": "fc5a4d26",
   "metadata": {},
   "outputs": [],
   "source": [
    "df_planes.filter(F.col('year') == 0).show()"
   ]
  },
  {
   "cell_type": "code",
   "execution_count": null,
   "id": "3d31f45c",
   "metadata": {},
   "outputs": [],
   "source": [
    "df_planes = df_planes.withColumn('year',\n",
    "                                 F.when(F.col('year') == 0, 1996)\n",
    "                                  .otherwise(F.col('year')))\n",
    " \n",
    "df_planes.filter(F.col('year') == 0).show()\n",
    "df_planes.groupBy(\"year\").count().show()"
   ]
  },
  {
   "cell_type": "markdown",
   "id": "0ed56467",
   "metadata": {},
   "source": [
    "# -----------------------------------------------------------------------------------------------------------\n",
    "## 3."
   ]
  },
  {
   "cell_type": "code",
   "execution_count": null,
   "id": "dc1d3c66",
   "metadata": {},
   "outputs": [],
   "source": [
    "df_planes.filter(F.col('year').isNull()).show(10)\n",
    "df_planes.filter(F.col('year').isNull()).count()"
   ]
  },
  {
   "cell_type": "code",
   "execution_count": null,
   "id": "4593efb6",
   "metadata": {},
   "outputs": [],
   "source": [
    "df_planes_order = df_planes.orderBy(F.col('manufacturer'), F.col('model'), F.col('year')).filter(F.col('year').isNotNull())\n",
    "df_planes_order.show(10)"
   ]
  },
  {
   "cell_type": "code",
   "execution_count": null,
   "id": "d5c2c21c",
   "metadata": {},
   "outputs": [],
   "source": [
    "df_planes.filter(F.col('manufacturer') == 'LAMBERT RICHARD').show()"
   ]
  },
  {
   "cell_type": "code",
   "execution_count": null,
   "id": "c466ea3b",
   "metadata": {},
   "outputs": [],
   "source": [
    "# Reduz o dataframe\n",
    "df_yeara = df_planes_order.groupBy(\"manufacturer\", \"model\").min(\"year\").orderBy(F.col('manufacturer'), F.col('model'))\n",
    "df_yeara.show()"
   ]
  },
  {
   "cell_type": "code",
   "execution_count": null,
   "id": "3c831964",
   "metadata": {},
   "outputs": [],
   "source": [
    "# Reduz ainda mais\n",
    "df_yearb = df_yeara.groupBy('manufacturer').min('min(year)').orderBy(F.col('manufacturer'))\n",
    "df_yearb.show()"
   ]
  },
  {
   "cell_type": "code",
   "execution_count": null,
   "id": "69df70e4",
   "metadata": {},
   "outputs": [],
   "source": [
    "# Renomeando as colunar do dataframe year_a e de year_b\n",
    "df_yeara = (df_yeara.withColumnRenamed('manufacturer', 'manuf_a')\n",
    "                    .withColumnRenamed('model', 'model_a')\n",
    "                    .withColumnRenamed('min(year)', 'year_a'))\n",
    "\n",
    "df_yearb = (df_yearb.withColumnRenamed('manufacturer', 'manuf_b')\n",
    "                    .withColumnRenamed('min(min(year))', 'year_b'))"
   ]
  },
  {
   "cell_type": "code",
   "execution_count": null,
   "id": "808e8c42",
   "metadata": {},
   "outputs": [],
   "source": [
    "# Unindo os dataframe df_planes + df_yeara + df_yearb \n",
    "df_join = df_planes.join(df_yeara, \n",
    "                        (df_planes['manufacturer'] == df_yeara['manuf_a']) &\n",
    "                        (df_planes['model'] == df_yeara['model_a']),\n",
    "                        'left')\n",
    "\n",
    "df_join = df_join.join(df_yearb,\n",
    "                       df_join['manufacturer'] == df_yearb['manuf_b'],\n",
    "                       'left')"
   ]
  },
  {
   "cell_type": "code",
   "execution_count": null,
   "id": "c516c0bd",
   "metadata": {},
   "outputs": [],
   "source": [
    "# Verificando se a união ocorreu corretamente\n",
    "df_join.show(3, 7)\n",
    "df_join.filter(F.col('year').isNull()).show(20, 7)"
   ]
  },
  {
   "cell_type": "code",
   "execution_count": null,
   "id": "ee5e5dcd",
   "metadata": {},
   "outputs": [],
   "source": [
    "# aplicando as mudanças na coluna year\n",
    "df_join = df_join.withColumn('year',\n",
    "                              F.when((F.col('year').isNull()) &\n",
    "                                     (F.col('manuf_a').isNotNull()) &\n",
    "                                     (F.col('model_a').isNotNull()), F.col('year_a'))\n",
    "                               .when((F.col('year').isNull()) &\n",
    "                                     (F.col('manuf_b').isNotNull()), F.col('year_b'))\n",
    "                               .otherwise(F.col('year'))\n",
    "                            )\n",
    "\n",
    "df_join.filter(F.col('year').isNull()).show(truncate = 7)"
   ]
  },
  {
   "cell_type": "code",
   "execution_count": null,
   "id": "3ca54706",
   "metadata": {},
   "outputs": [],
   "source": [
    "df_planes = df_join.drop('manuf_a', \n",
    "                         'model_a', \n",
    "                         'year_a', \n",
    "                         'manuf_b',\n",
    "                         'year_b')"
   ]
  },
  {
   "cell_type": "code",
   "execution_count": null,
   "id": "842c8deb",
   "metadata": {},
   "outputs": [],
   "source": [
    "df_planes.filter(F.col('year').isNull()).show()"
   ]
  },
  {
   "cell_type": "markdown",
   "id": "f3655f33",
   "metadata": {},
   "source": [
    "# -----------------------------------------------------------------------------------------------------------\n",
    "## 4."
   ]
  },
  {
   "cell_type": "code",
   "execution_count": null,
   "id": "bd6a1f6b",
   "metadata": {},
   "outputs": [],
   "source": [
    "ANO_ATUAL = 2022\n",
    "\n",
    "df_planes = df_planes.withColumn('age',\n",
    "                                 F.when(F.col('year').isNotNull(), ANO_ATUAL - F.col('year'))\n",
    "                                  .otherwise(None)\n",
    "                                ) \n",
    "\n",
    "df_planes.show()"
   ]
  },
  {
   "cell_type": "code",
   "execution_count": null,
   "id": "cbeed071",
   "metadata": {},
   "outputs": [],
   "source": [
    "df_planes.groupBy(\"age\").count().orderBy(F.col('age')).show()"
   ]
  },
  {
   "cell_type": "markdown",
   "id": "08e92aff",
   "metadata": {},
   "source": [
    "# -----------------------------------------------------------------------------------------------------------\n",
    "## 5."
   ]
  },
  {
   "cell_type": "code",
   "execution_count": null,
   "id": "393ee7f6",
   "metadata": {},
   "outputs": [],
   "source": [
    "df_planes = df_planes.withColumn('type',\n",
    "                                 F.when(F.col('type') == 'Fixed wing multi engine',  'MULTI_ENG')\n",
    "                                  .when(F.col('type') == 'Fixed wing single engine', 'SINGLE_ENG')\n",
    "                                  .when(F.col('type') == 'Rotorcraft',               'ROTORCRAFT')\n",
    "                                  .otherwise(F.col('type'))\n",
    "                                )\n",
    "\n",
    "df_planes.show()"
   ]
  },
  {
   "cell_type": "code",
   "execution_count": null,
   "id": "5b5edee6",
   "metadata": {},
   "outputs": [],
   "source": [
    "df_planes.groupBy(\"type\").count().orderBy(F.col('type')).show(999)"
   ]
  },
  {
   "cell_type": "markdown",
   "id": "56ba6d10",
   "metadata": {},
   "source": [
    "# -----------------------------------------------------------------------------------------------------------\n",
    "## 6."
   ]
  },
  {
   "cell_type": "code",
   "execution_count": null,
   "id": "b7066790",
   "metadata": {},
   "outputs": [],
   "source": [
    "df_planes.filter(F.col('manufacturer').rlike('BELL')).show(truncate=False)"
   ]
  },
  {
   "cell_type": "code",
   "execution_count": null,
   "id": "1fe6fd25",
   "metadata": {},
   "outputs": [],
   "source": [
    "# Realiza as mudanças\n",
    "df_planes = df_planes.withColumn('manufacturer',\n",
    "            F.when(F.col('manufacturer').rlike('AIRBUS'),              'AIRBUS')\n",
    "             .when(F.col('manufacturer').rlike('BOEING'),              'BOEING')\n",
    "             .when(F.col('manufacturer').rlike('BOMBARDIER'),          'BOMBARDIER')\n",
    "             .when(F.col('manufacturer').rlike('CESSNA'),              'CESSNA')\n",
    "             .when(F.col('manufacturer').rlike('EMBRAER'),             'EMBRAER')\n",
    "             .when(F.col('manufacturer').rlike('SIKORSKY'),            'SIKORSKY')\n",
    "             .when(F.col('manufacturer').rlike('CANADAIR'),            'CANADAIR')\n",
    "             .when(F.col('manufacturer').rlike('PIPER'),               'PIPER')\n",
    "             .when(F.col('manufacturer').rlike('MCDONNELL DOUGLAS'),   'MCDONNELL DOUGLAS')\n",
    "             .when(F.col('manufacturer').rlike('CIRRUS'),              'CIRRUS')\n",
    "             .when(F.col('manufacturer').rlike('BELL'),                'BELL')\n",
    "             .when(F.col('manufacturer').rlike('KILDALL GARY'),        'KILDALL GARY')\n",
    "             .when(F.col('manufacturer').rlike('LAMBERT RICHARD'),     'LAMBERT RICHARD')\n",
    "             .when(F.col('manufacturer').rlike('BARKER JACK'),         'BARKER JACK')\n",
    "             .when(F.col('manufacturer').rlike('ROBINSON HELICOPTER'), 'ROBINSON HELICOPTER')\n",
    "             .when(F.col('manufacturer').rlike('GULFSTREAM'),          'GULFSTREAM')\n",
    "             .when(F.col('manufacturer').rlike('MARZ BARRY'),          'MARZ BARRY'))\n",
    "\n",
    "df_planes.show()"
   ]
  },
  {
   "cell_type": "code",
   "execution_count": null,
   "id": "d7ef84d9",
   "metadata": {},
   "outputs": [],
   "source": [
    "df_planes.groupBy(\"manufacturer\").count().orderBy(F.col('manufacturer')).show(999)"
   ]
  },
  {
   "cell_type": "code",
   "execution_count": null,
   "id": "0101a5b8",
   "metadata": {},
   "outputs": [],
   "source": []
  }
 ],
 "metadata": {
  "kernelspec": {
   "display_name": "Python 3 (ipykernel)",
   "language": "python",
   "name": "python3"
  },
  "language_info": {
   "codemirror_mode": {
    "name": "ipython",
    "version": 3
   },
   "file_extension": ".py",
   "mimetype": "text/x-python",
   "name": "python",
   "nbconvert_exporter": "python",
   "pygments_lexer": "ipython3",
   "version": "3.9.7"
  }
 },
 "nbformat": 4,
 "nbformat_minor": 5
}
