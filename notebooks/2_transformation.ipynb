{
 "cells": [
  {
   "cell_type": "code",
   "execution_count": 1,
   "id": "519b6830",
   "metadata": {},
   "outputs": [
    {
     "name": "stdout",
     "output_type": "stream",
     "text": [
      "Requirement already satisfied: pyspark in c:\\users\\diosilva\\anaconda3\\lib\\site-packages (3.2.1)\n",
      "Requirement already satisfied: py4j==0.10.9.3 in c:\\users\\diosilva\\anaconda3\\lib\\site-packages (from pyspark) (0.10.9.3)\n",
      "Requirement already satisfied: findspark in c:\\users\\diosilva\\anaconda3\\lib\\site-packages (2.0.1)\n"
     ]
    }
   ],
   "source": [
    "# Installing required packages\n",
    "!pip install pyspark\n",
    "!pip install findspark"
   ]
  },
  {
   "cell_type": "code",
   "execution_count": 2,
   "id": "0d2fe53f",
   "metadata": {},
   "outputs": [],
   "source": [
    "# Importa e inicia o findspark\n",
    "import findspark\n",
    "findspark.init()"
   ]
  },
  {
   "cell_type": "code",
   "execution_count": 3,
   "id": "ca6b90a1",
   "metadata": {},
   "outputs": [],
   "source": [
    "# Importa todos os módulos necessários\n",
    "from pyspark import SparkContext, SparkConf\n",
    "from pyspark.sql import SparkSession\n",
    "from pyspark.sql import functions as F\n",
    "from pyspark.sql.types import StructType, StructField, StringType, IntegerType, FloatType"
   ]
  },
  {
   "cell_type": "code",
   "execution_count": 4,
   "id": "9004f28a",
   "metadata": {},
   "outputs": [],
   "source": [
    "# Criar o contexto do spark\n",
    "sc = SparkContext()\n",
    "\n",
    "# Instancia o criador de sessao do spark\n",
    "spark = (SparkSession.builder\n",
    "                     .master(\"local[7]\") # usa a márquina local com 7 nucleos\n",
    "                     .appName(\"Aceleração PySpark - Capgemini\"))"
   ]
  },
  {
   "cell_type": "code",
   "execution_count": 5,
   "id": "e378de29",
   "metadata": {},
   "outputs": [],
   "source": [
    "# Cria o Schema de todos os datasets\n",
    "schema_airports = StructType([\n",
    "    StructField(\"faa\",  StringType(),  True),\n",
    "    StructField(\"name\", StringType(),  True),\n",
    "    StructField(\"lat\",  FloatType(),   True),\n",
    "    StructField(\"lon\",  FloatType(),   True),\n",
    "    StructField(\"alt\",  IntegerType(), True),\n",
    "    StructField(\"tz\",   IntegerType(), True),\n",
    "    StructField(\"dst\",  StringType(),  True)\n",
    "])\n",
    "\n",
    "schema_planes = StructType([\n",
    "    StructField('tailnum', StringType(), True),\n",
    "    StructField('year', IntegerType(), True),\n",
    "    StructField('type', StringType(), True),\n",
    "    StructField('manufacturer', StringType(), True),\n",
    "    StructField('model', StringType(), True),\n",
    "    StructField('engines', IntegerType(), True),\n",
    "    StructField('seats', IntegerType(), True),\n",
    "    StructField('speed', IntegerType(), True),\n",
    "    StructField('engine', StringType(), True)\n",
    "])\n",
    "\n",
    "schema_flights = StructType([\n",
    "    StructField('year', IntegerType(), True),\n",
    "    StructField('month', IntegerType(), True),\n",
    "    StructField('day', IntegerType(), True),\n",
    "    StructField('dep_time', StringType(), True),\n",
    "    StructField('dep_delay', IntegerType(), True),\n",
    "    StructField('arr_time', StringType(), True),\n",
    "    StructField('arr_delay', IntegerType(), True),\n",
    "    StructField('carrier', StringType(), True),\n",
    "    StructField('tailnum', StringType(), True),\n",
    "    StructField('flight', StringType(), True),\n",
    "    StructField('origin', StringType(), True),\n",
    "    StructField('dest', StringType(), True),\n",
    "    StructField('air_time', IntegerType(), True),\n",
    "    StructField('distance', IntegerType(), True),\n",
    "    StructField('hour', IntegerType(), True),\n",
    "    StructField('minute', IntegerType(), True)\n",
    "])"
   ]
  },
  {
   "cell_type": "code",
   "execution_count": 6,
   "id": "dd28a5d5",
   "metadata": {},
   "outputs": [],
   "source": [
    "# Cria os dataframes\n",
    "df_airports = (spark.getOrCreate().read\n",
    "                  .format(\"csv\")\n",
    "                  .option(\"header\", \"true\")\n",
    "                  .schema(schema_airports)\n",
    "                  .load(\"../data/airports.csv\"))\n",
    "\n",
    "df_planes = (spark.getOrCreate().read\n",
    "                  .format(\"csv\")\n",
    "                  .option(\"header\", \"true\")\n",
    "                  .schema(schema_planes)\n",
    "                  .load(\"../data/planes.csv\"))\n",
    "\n",
    "df_flights = (spark.getOrCreate().read\n",
    "                  .format(\"csv\")\n",
    "                  .option(\"header\", \"true\")\n",
    "                  .schema(schema_flights)\n",
    "                  .load(\"../data/flights.csv\"))"
   ]
  },
  {
   "cell_type": "code",
   "execution_count": 7,
   "id": "e573b9bc",
   "metadata": {},
   "outputs": [
    {
     "name": "stdout",
     "output_type": "stream",
     "text": [
      "+---+--------------------+---------+---------+----+---+---+\n",
      "|faa|                name|      lat|      lon| alt| tz|dst|\n",
      "+---+--------------------+---------+---------+----+---+---+\n",
      "|04G|   Lansdowne Airport|41.130474|-80.61958|1044| -5|  A|\n",
      "|06A|Moton Field Munic...| 32.46057|-85.68003| 264| -5|  A|\n",
      "|06C| Schaumburg Regional| 41.98934|-88.10124| 801| -6|  A|\n",
      "+---+--------------------+---------+---------+----+---+---+\n",
      "only showing top 3 rows\n",
      "\n",
      "+-------+----+--------------------+----------------+--------+-------+-----+-----+---------+\n",
      "|tailnum|year|                type|    manufacturer|   model|engines|seats|speed|   engine|\n",
      "+-------+----+--------------------+----------------+--------+-------+-----+-----+---------+\n",
      "| N102UW|1998|Fixed wing multi ...|AIRBUS INDUSTRIE|A320-214|      2|  182| null|Turbo-fan|\n",
      "| N103US|1999|Fixed wing multi ...|AIRBUS INDUSTRIE|A320-214|      2|  182| null|Turbo-fan|\n",
      "| N104UW|1999|Fixed wing multi ...|AIRBUS INDUSTRIE|A320-214|      2|  182| null|Turbo-fan|\n",
      "+-------+----+--------------------+----------------+--------+-------+-----+-----+---------+\n",
      "only showing top 3 rows\n",
      "\n",
      "+----+-----+---+--------+---------+--------+---------+-------+-------+------+------+----+--------+--------+----+------+\n",
      "|year|month|day|dep_time|dep_delay|arr_time|arr_delay|carrier|tailnum|flight|origin|dest|air_time|distance|hour|minute|\n",
      "+----+-----+---+--------+---------+--------+---------+-------+-------+------+------+----+--------+--------+----+------+\n",
      "|2014|   12|  8|     658|       -7|     935|       -5|     VX| N846VA|  1780|   SEA| LAX|     132|     954|   6|    58|\n",
      "|2014|    1| 22|    1040|        5|    1505|        5|     AS| N559AS|   851|   SEA| HNL|     360|    2677|  10|    40|\n",
      "|2014|    3|  9|    1443|       -2|    1652|        2|     VX| N847VA|   755|   SEA| SFO|     111|     679|  14|    43|\n",
      "+----+-----+---+--------+---------+--------+---------+-------+-------+------+------+----+--------+--------+----+------+\n",
      "only showing top 3 rows\n",
      "\n"
     ]
    }
   ],
   "source": [
    "df_airports.show(3)\n",
    "df_planes.show(3)\n",
    "df_flights.show(3)"
   ]
  },
  {
   "cell_type": "code",
   "execution_count": null,
   "id": "881cf4f5",
   "metadata": {},
   "outputs": [],
   "source": [
    "# Função de regex\n",
    "def regex_definition(element):\n",
    "    return r'|'.join(map(lambda x : f'.*{x}*', element))"
   ]
  },
  {
   "cell_type": "markdown",
   "id": "0865dc63",
   "metadata": {},
   "source": [
    "# -----------------------------------------------------------------------------------------------------------\n",
    "# Transformação airports\n",
    "# -----------------------------------------------------------------------------------------------------------\n",
    "## 1."
   ]
  },
  {
   "cell_type": "code",
   "execution_count": null,
   "id": "e2c4f434",
   "metadata": {},
   "outputs": [],
   "source": [
    "df_airports.filter(F.col('alt') < 0).show()"
   ]
  },
  {
   "cell_type": "code",
   "execution_count": null,
   "id": "2d095d68",
   "metadata": {},
   "outputs": [],
   "source": [
    "df_airports = df_airports.withColumn('alt', \n",
    "                                     F.when(F.col('alt') < 0, 0)\n",
    "                                      .otherwise(F.col('alt'))\n",
    "                                    )"
   ]
  },
  {
   "cell_type": "code",
   "execution_count": null,
   "id": "469b9570",
   "metadata": {},
   "outputs": [],
   "source": [
    "df_airports.filter(F.col('alt') == 0).count()"
   ]
  },
  {
   "cell_type": "code",
   "execution_count": null,
   "id": "9b11d023",
   "metadata": {},
   "outputs": [],
   "source": [
    "df_airports.groupBy(F.col('alt')).count().orderBy(F.col('alt')).show()"
   ]
  },
  {
   "cell_type": "markdown",
   "id": "f063eb05",
   "metadata": {},
   "source": [
    "# -----------------------------------------------------------------------------------------------------------\n",
    "## 2."
   ]
  },
  {
   "cell_type": "code",
   "execution_count": null,
   "id": "c2db0ef3",
   "metadata": {},
   "outputs": [],
   "source": [
    "df_airports.filter(F.col('tz').between(-7, -5)).show(10)"
   ]
  },
  {
   "cell_type": "code",
   "execution_count": null,
   "id": "29681d63",
   "metadata": {},
   "outputs": [],
   "source": [
    "df_airports = df_airports.withColumn('dst',\n",
    "                                     F.when(F.col('tz').between(-7, -5), 'A')\n",
    "                                      .otherwise(F.col('dst'))\n",
    "                                    )"
   ]
  },
  {
   "cell_type": "code",
   "execution_count": null,
   "id": "85254d28",
   "metadata": {},
   "outputs": [],
   "source": [
    "df_airports.filter(F.col('tz').between(-7, -5)).show(10)\n",
    "df_airports.groupBy(\"dst\").count().show()"
   ]
  },
  {
   "cell_type": "code",
   "execution_count": null,
   "id": "e987c1bc",
   "metadata": {},
   "outputs": [],
   "source": [
    "df_airports.groupBy(F.col('dst')).count().show(999)"
   ]
  },
  {
   "cell_type": "markdown",
   "id": "7e6e5afc",
   "metadata": {},
   "source": [
    "# -----------------------------------------------------------------------------------------------------------\n",
    "## 3."
   ]
  },
  {
   "cell_type": "code",
   "execution_count": null,
   "id": "b54bd485",
   "metadata": {},
   "outputs": [],
   "source": [
    "df_airports.filter(F.col('dst') == 'U').show()"
   ]
  },
  {
   "cell_type": "code",
   "execution_count": null,
   "id": "7963f5ba",
   "metadata": {},
   "outputs": [],
   "source": [
    "df_airports = df_airports.withColumn('dst',\n",
    "                                     F.when(F.col('dst') == 'U', 'A')\n",
    "                                      .otherwise(F.col('dst'))\n",
    "                                    )"
   ]
  },
  {
   "cell_type": "code",
   "execution_count": null,
   "id": "61ba4443",
   "metadata": {},
   "outputs": [],
   "source": [
    "df_airports.filter(F.col('faa') == 'GCW').show()\n",
    "df_airports.filter(F.col('dst') == 'A').count()\n",
    "df_airports.groupBy(\"dst\").count().show()"
   ]
  },
  {
   "cell_type": "markdown",
   "id": "3a87c3cb",
   "metadata": {},
   "source": [
    "# -----------------------------------------------------------------------------------------------------------\n",
    "## 4."
   ]
  },
  {
   "cell_type": "code",
   "execution_count": null,
   "id": "d542d5d1",
   "metadata": {},
   "outputs": [],
   "source": [
    "# Alaska\n",
    "df_airports.filter(F.col('lon') < -124).show(5)\n",
    "\n",
    "# Mainland-west\n",
    "df_airports.filter(F.col('lon').between(-124, -95)).show(5)\n",
    "\n",
    "# Mainland-east\n",
    "df_airports.filter(F.col('lon').between(-95, -59)).show(5)\n",
    "\n",
    "# Offshore\n",
    "df_airports.filter((F.col('lon') > -50) | (F.col('lat') < 24)).show(5)"
   ]
  },
  {
   "cell_type": "code",
   "execution_count": null,
   "id": "942b69d6",
   "metadata": {},
   "outputs": [],
   "source": [
    "df_airports = df_airports.withColumn('region',\n",
    "                                      F.when(F.col('lon') < -124,                        'ALASKA')\n",
    "                                       .when(F.col('lon').between(-124, -95),            'MAINLAND-WEST')\n",
    "                                       .when(F.col('lon').between(-95, -54),             'MAINLAND-EAST')\n",
    "                                       .when((F.col('lon') > -50) | (F.col('lat') > 24), 'OFFSHORE')\n",
    "                                       .otherwise('NaN')\n",
    "                                    )\n",
    "\n",
    "df_airports.show(10)"
   ]
  },
  {
   "cell_type": "code",
   "execution_count": null,
   "id": "0941c7ec",
   "metadata": {},
   "outputs": [],
   "source": [
    "df_airports.groupBy(\"region\").count().show()"
   ]
  },
  {
   "cell_type": "markdown",
   "id": "0355eb72",
   "metadata": {},
   "source": [
    "# -----------------------------------------------------------------------------------------------------------\n",
    "## 5."
   ]
  },
  {
   "cell_type": "code",
   "execution_count": null,
   "id": "1985cc80",
   "metadata": {},
   "outputs": [],
   "source": [
    "LIST_AP  = ['Airport', 'Tradeport', 'Heliport', 'Airpor', 'Arpt']\n",
    "REGEX_AP = regex_definition(LIST_AP)\n",
    "\n",
    "LIST_AD  = ['Aerodrome']\n",
    "REGEX_AD = regex_definition(LIST_AD)\n",
    "\n",
    "LIST_AK  = ['Airpark', 'Aero Park']\n",
    "REGEX_AK = regex_definition(LIST_AK)\n",
    "\n",
    "LIST_AS  = ['Station', 'Air Station']\n",
    "REGEX_AS = regex_definition(LIST_AS)\n",
    "\n",
    "LIST_FL  = ['Field', 'Fld']\n",
    "REGEX_FL = regex_definition(LIST_FL)"
   ]
  },
  {
   "cell_type": "code",
   "execution_count": null,
   "id": "0f3d4fba",
   "metadata": {},
   "outputs": [],
   "source": [
    "df_airports = df_airports.withColumn('type',\n",
    "                                     F.when(F.col('name').rlike(REGEX_AP),  'AP')\n",
    "                                       .when(F.col('name').rlike(REGEX_AD), 'AD')\n",
    "                                       .when(F.col('name').rlike(REGEX_AK), 'AK')\n",
    "                                       .when(F.col('name').rlike(REGEX_AS), 'AS')\n",
    "                                       .when(F.col('name').rlike(REGEX_FL), 'FL')\n",
    "                                       .otherwise('NaN')\n",
    "                                    )"
   ]
  },
  {
   "cell_type": "code",
   "execution_count": null,
   "id": "bd96ccc0",
   "metadata": {},
   "outputs": [],
   "source": [
    "df_airports.filter((F.col('name').rlike('(Airport).*(Field)'))).show(10, truncate=False)\n",
    "df_airports.groupBy(\"type\").count().show()"
   ]
  },
  {
   "cell_type": "markdown",
   "id": "bcc81a83",
   "metadata": {},
   "source": [
    "# -----------------------------------------------------------------------------------------------------------\n",
    "## 6."
   ]
  },
  {
   "cell_type": "code",
   "execution_count": null,
   "id": "b5a709fe",
   "metadata": {},
   "outputs": [],
   "source": [
    "df_airports.filter(F.col('name').rlike('Afs')).show(10, False)"
   ]
  },
  {
   "cell_type": "code",
   "execution_count": null,
   "id": "2e7b3903",
   "metadata": {},
   "outputs": [],
   "source": [
    "LIST_MILITARY  = ['Base', 'Aaf', 'Afs', 'Ahp', 'Afb', 'LRRS', 'Lrrs', 'Arb', 'Naf', 'NAS', 'Nas', 'Jrb', 'Ns', 'As', 'Cgas', 'Angb']\n",
    "REGEX_MILITARY = r'|'.join(map(lambda x : f'^{x} | {x} | {x}$', LIST_MILITARY))"
   ]
  },
  {
   "cell_type": "code",
   "execution_count": null,
   "id": "9f3cd79f",
   "metadata": {},
   "outputs": [],
   "source": [
    "df_airports = df_airports.withColumn('military',\n",
    "                                     F.when(F.col('name').rlike(REGEX_MILITARY), True)\n",
    "                                      .otherwise(False)\n",
    "                                    )"
   ]
  },
  {
   "cell_type": "code",
   "execution_count": null,
   "id": "def639c3",
   "metadata": {},
   "outputs": [],
   "source": [
    "df_airports.filter(F.col('military') == True).show(10, False)\n",
    "df_airports.filter(F.col('name').rlike('As')).show(50, False)\n",
    "df_airports.groupBy(\"military\").count().show()"
   ]
  },
  {
   "cell_type": "markdown",
   "id": "be164079",
   "metadata": {},
   "source": [
    "# -----------------------------------------------------------------------------------------------------------\n",
    "## 7."
   ]
  },
  {
   "cell_type": "code",
   "execution_count": null,
   "id": "3bcd4e51",
   "metadata": {},
   "outputs": [],
   "source": [
    "df_airports.filter(F.col('name').rlike('(City).*(Intl)')).show(10, False)"
   ]
  },
  {
   "cell_type": "code",
   "execution_count": null,
   "id": "84783792",
   "metadata": {},
   "outputs": [],
   "source": [
    "LIST_I  = ['International', 'Intl', 'Intercontinental']\n",
    "REGEX_I = regex_definition(LIST_I)\n",
    "\n",
    "LIST_N  = ['National', 'Natl']\n",
    "REGEX_N = regex_definition(LIST_N)\n",
    "\n",
    "LIST_R  = ['Regional', 'Reigonal', 'Rgnl', 'County', 'Metro', 'Metropolitan']\n",
    "REGEX_R = regex_definition(LIST_R)\n",
    "\n",
    "LIST_M  = ['Municipal', 'Muni', 'City']\n",
    "REGEX_M = regex_definition(LIST_M)"
   ]
  },
  {
   "cell_type": "code",
   "execution_count": null,
   "id": "7fbec470",
   "metadata": {},
   "outputs": [],
   "source": [
    "df_airports = df_airports.withColumn('administration',\n",
    "                                     F.when(F.col('name').rlike(REGEX_I), 'I')\n",
    "                                      .when(F.col('name').rlike(REGEX_N), 'N')\n",
    "                                      .when(F.col('name').rlike(REGEX_R), 'R')\n",
    "                                      .when(F.col('name').rlike(REGEX_M), 'M')\n",
    "                                      .otherwise('NaN')\n",
    "                                    )\n",
    "\n",
    "df_airports.show(10, False)"
   ]
  },
  {
   "cell_type": "code",
   "execution_count": null,
   "id": "83fd9751",
   "metadata": {},
   "outputs": [],
   "source": [
    "df_airports.filter(F.col('administration') == 'I').show(10, False)\n",
    "df_airports.groupBy(\"administration\").count().show()"
   ]
  },
  {
   "cell_type": "markdown",
   "id": "b1895c3c",
   "metadata": {},
   "source": [
    "# -----------------------------------------------------------------------------------------------------------\n",
    "# Transformação planes\n",
    "# -----------------------------------------------------------------------------------------------------------\n",
    "## 1."
   ]
  },
  {
   "cell_type": "code",
   "execution_count": null,
   "id": "d5f30515",
   "metadata": {},
   "outputs": [],
   "source": [
    "df_planes = df_planes.withColumn('tailchar', F.regexp_replace(F.col('tailnum'), '[0-9]|^N', \"\"))\n",
    "\n",
    "df_planes.show()"
   ]
  },
  {
   "cell_type": "code",
   "execution_count": null,
   "id": "0fe2ce8f",
   "metadata": {},
   "outputs": [],
   "source": [
    "df_planes.groupBy(\"tailchar\").count().show()"
   ]
  },
  {
   "cell_type": "markdown",
   "id": "c79f5b00",
   "metadata": {},
   "source": [
    "# -----------------------------------------------------------------------------------------------------------\n",
    "## 2."
   ]
  },
  {
   "cell_type": "code",
   "execution_count": null,
   "id": "d9e22a39",
   "metadata": {},
   "outputs": [],
   "source": [
    "df_planes.filter(F.col('year') == 0).show()"
   ]
  },
  {
   "cell_type": "code",
   "execution_count": null,
   "id": "00166124",
   "metadata": {},
   "outputs": [],
   "source": [
    "df_planes = df_planes.withColumn('year',\n",
    "                                 F.when(F.col('year') == 0, 1996)\n",
    "                                  .otherwise(F.col('year')))\n",
    " \n",
    "df_planes.filter(F.col('year') == 0).show()\n",
    "df_planes.groupBy(\"year\").count().show()"
   ]
  },
  {
   "cell_type": "markdown",
   "id": "f799ef77",
   "metadata": {},
   "source": [
    "# -----------------------------------------------------------------------------------------------------------\n",
    "## 3."
   ]
  },
  {
   "cell_type": "code",
   "execution_count": null,
   "id": "af4f7ea7",
   "metadata": {},
   "outputs": [],
   "source": [
    "df_planes.filter(F.col('year').isNull()).show(10)\n",
    "df_planes.filter(F.col('year').isNull()).count()"
   ]
  },
  {
   "cell_type": "code",
   "execution_count": null,
   "id": "7ffe78d5",
   "metadata": {},
   "outputs": [],
   "source": [
    "df_planes_order = df_planes.orderBy(F.col('manufacturer'), F.col('model'), F.col('year')).filter(F.col('year').isNotNull())\n",
    "df_planes_order.show(10)"
   ]
  },
  {
   "cell_type": "code",
   "execution_count": null,
   "id": "fbf975c5",
   "metadata": {},
   "outputs": [],
   "source": [
    "df_planes.filter(F.col('manufacturer') == 'LAMBERT RICHARD').show()"
   ]
  },
  {
   "cell_type": "code",
   "execution_count": null,
   "id": "dfb51fd1",
   "metadata": {},
   "outputs": [],
   "source": [
    "# Reduz o dataframe\n",
    "df_yeara = df_planes_order.groupBy(\"manufacturer\", \"model\").min(\"year\").orderBy(F.col('manufacturer'), F.col('model'))\n",
    "df_yeara.show()"
   ]
  },
  {
   "cell_type": "code",
   "execution_count": null,
   "id": "df9e0d19",
   "metadata": {},
   "outputs": [],
   "source": [
    "# Reduz ainda mais\n",
    "df_yearb = df_yeara.groupBy('manufacturer').min('min(year)').orderBy(F.col('manufacturer'))\n",
    "df_yearb.show()"
   ]
  },
  {
   "cell_type": "code",
   "execution_count": null,
   "id": "645853fb",
   "metadata": {},
   "outputs": [],
   "source": [
    "# Renomeando as colunar do dataframe year_a e de year_b\n",
    "df_yeara = (df_yeara.withColumnRenamed('manufacturer', 'manuf_a')\n",
    "                    .withColumnRenamed('model', 'model_a')\n",
    "                    .withColumnRenamed('min(year)', 'year_a'))\n",
    "\n",
    "df_yearb = (df_yearb.withColumnRenamed('manufacturer', 'manuf_b')\n",
    "                    .withColumnRenamed('min(min(year))', 'year_b'))"
   ]
  },
  {
   "cell_type": "code",
   "execution_count": null,
   "id": "5b4d6178",
   "metadata": {},
   "outputs": [],
   "source": [
    "# Unindo os dataframe df_planes + df_yeara + df_yearb \n",
    "df_join = df_planes.join(df_yeara, \n",
    "                        (df_planes['manufacturer'] == df_yeara['manuf_a']) &\n",
    "                        (df_planes['model'] == df_yeara['model_a']),\n",
    "                        'left')\n",
    "\n",
    "df_join = df_join.join(df_yearb,\n",
    "                       df_join['manufacturer'] == df_yearb['manuf_b'],\n",
    "                       'left')"
   ]
  },
  {
   "cell_type": "code",
   "execution_count": null,
   "id": "e9d80f52",
   "metadata": {},
   "outputs": [],
   "source": [
    "# Verificando se a união ocorreu corretamente\n",
    "df_join.show(3, 7)\n",
    "df_join.filter(F.col('year').isNull()).show(20, 7)"
   ]
  },
  {
   "cell_type": "code",
   "execution_count": null,
   "id": "b96b506d",
   "metadata": {},
   "outputs": [],
   "source": [
    "# aplicando as mudanças na coluna year\n",
    "df_join = df_join.withColumn('year',\n",
    "                              F.when((F.col('year').isNull()) &\n",
    "                                     (F.col('manuf_a').isNotNull()) &\n",
    "                                     (F.col('model_a').isNotNull()), F.col('year_a'))\n",
    "                               .when((F.col('year').isNull()) &\n",
    "                                     (F.col('manuf_b').isNotNull()), F.col('year_b'))\n",
    "                               .otherwise(F.col('year'))\n",
    "                            )\n",
    "\n",
    "df_join.filter(F.col('year').isNull()).show(truncate = 7)"
   ]
  },
  {
   "cell_type": "code",
   "execution_count": null,
   "id": "e932d976",
   "metadata": {},
   "outputs": [],
   "source": [
    "df_planes = df_join.drop('manuf_a', \n",
    "                         'model_a', \n",
    "                         'year_a', \n",
    "                         'manuf_b',\n",
    "                         'year_b')"
   ]
  },
  {
   "cell_type": "code",
   "execution_count": null,
   "id": "a3b0d865",
   "metadata": {},
   "outputs": [],
   "source": [
    "df_planes.filter(F.col('year').isNull()).show()"
   ]
  },
  {
   "cell_type": "markdown",
   "id": "89856f7a",
   "metadata": {},
   "source": [
    "# -----------------------------------------------------------------------------------------------------------\n",
    "## 4."
   ]
  },
  {
   "cell_type": "code",
   "execution_count": null,
   "id": "8df7757b",
   "metadata": {},
   "outputs": [],
   "source": [
    "ANO_ATUAL = 2022\n",
    "\n",
    "df_planes = df_planes.withColumn('age',\n",
    "                                 F.when(F.col('year').isNotNull(), ANO_ATUAL - F.col('year'))\n",
    "                                  .otherwise(None)\n",
    "                                ) \n",
    "\n",
    "df_planes.show()"
   ]
  },
  {
   "cell_type": "code",
   "execution_count": null,
   "id": "7730d486",
   "metadata": {},
   "outputs": [],
   "source": [
    "df_planes.groupBy(\"age\").count().orderBy(F.col('age')).show()"
   ]
  },
  {
   "cell_type": "markdown",
   "id": "a7efa833",
   "metadata": {},
   "source": [
    "# -----------------------------------------------------------------------------------------------------------\n",
    "## 5."
   ]
  },
  {
   "cell_type": "code",
   "execution_count": null,
   "id": "7a798290",
   "metadata": {},
   "outputs": [],
   "source": [
    "df_planes = df_planes.withColumn('type',\n",
    "                                 F.when(F.col('type') == 'Fixed wing multi engine',  'MULTI_ENG')\n",
    "                                  .when(F.col('type') == 'Fixed wing single engine', 'SINGLE_ENG')\n",
    "                                  .when(F.col('type') == 'Rotorcraft',               'ROTORCRAFT')\n",
    "                                  .otherwise(F.col('type'))\n",
    "                                )\n",
    "\n",
    "df_planes.show()"
   ]
  },
  {
   "cell_type": "code",
   "execution_count": null,
   "id": "2d67b87c",
   "metadata": {},
   "outputs": [],
   "source": [
    "df_planes.groupBy(\"type\").count().orderBy(F.col('type')).show(999)"
   ]
  },
  {
   "cell_type": "markdown",
   "id": "4b676969",
   "metadata": {},
   "source": [
    "# -----------------------------------------------------------------------------------------------------------\n",
    "## 6."
   ]
  },
  {
   "cell_type": "code",
   "execution_count": null,
   "id": "fb42137c",
   "metadata": {},
   "outputs": [],
   "source": [
    "df_planes.filter(F.col('manufacturer').rlike('BELL')).show(truncate=False)"
   ]
  },
  {
   "cell_type": "code",
   "execution_count": null,
   "id": "afaf1e87",
   "metadata": {},
   "outputs": [],
   "source": [
    "# Realiza as mudanças\n",
    "df_planes = df_planes.withColumn('manufacturer',\n",
    "            F.when(F.col('manufacturer').rlike('AIRBUS'),              'AIRBUS')\n",
    "             .when(F.col('manufacturer').rlike('BOEING'),              'BOEING')\n",
    "             .when(F.col('manufacturer').rlike('BOMBARDIER'),          'BOMBARDIER')\n",
    "             .when(F.col('manufacturer').rlike('CESSNA'),              'CESSNA')\n",
    "             .when(F.col('manufacturer').rlike('EMBRAER'),             'EMBRAER')\n",
    "             .when(F.col('manufacturer').rlike('SIKORSKY'),            'SIKORSKY')\n",
    "             .when(F.col('manufacturer').rlike('CANADAIR'),            'CANADAIR')\n",
    "             .when(F.col('manufacturer').rlike('PIPER'),               'PIPER')\n",
    "             .when(F.col('manufacturer').rlike('MCDONNELL DOUGLAS'),   'MCDONNELL DOUGLAS')\n",
    "             .when(F.col('manufacturer').rlike('CIRRUS'),              'CIRRUS')\n",
    "             .when(F.col('manufacturer').rlike('BELL'),                'BELL')\n",
    "             .when(F.col('manufacturer').rlike('KILDALL GARY'),        'KILDALL GARY')\n",
    "             .when(F.col('manufacturer').rlike('LAMBERT RICHARD'),     'LAMBERT RICHARD')\n",
    "             .when(F.col('manufacturer').rlike('BARKER JACK'),         'BARKER JACK')\n",
    "             .when(F.col('manufacturer').rlike('ROBINSON HELICOPTER'), 'ROBINSON HELICOPTER')\n",
    "             .when(F.col('manufacturer').rlike('GULFSTREAM'),          'GULFSTREAM')\n",
    "             .when(F.col('manufacturer').rlike('MARZ BARRY'),          'MARZ BARRY'))\n",
    "\n",
    "df_planes.show()"
   ]
  },
  {
   "cell_type": "code",
   "execution_count": null,
   "id": "3da86a45",
   "metadata": {},
   "outputs": [],
   "source": [
    "df_planes.groupBy(\"manufacturer\").count().orderBy(F.col('manufacturer')).show(999)"
   ]
  },
  {
   "cell_type": "code",
   "execution_count": null,
   "id": "4673eec8",
   "metadata": {},
   "outputs": [],
   "source": []
  },
  {
   "cell_type": "markdown",
   "id": "926424b4",
   "metadata": {},
   "source": [
    "# -----------------------------------------------------------------------------------------------------------\n",
    "## 7."
   ]
  },
  {
   "cell_type": "code",
   "execution_count": null,
   "id": "dc228a12",
   "metadata": {},
   "outputs": [],
   "source": [
    "df_planes.filter(F.col('model').rlike('[(]')).show()\n",
    "df_planes.filter(F.col('model').rlike('[(]')).count()"
   ]
  },
  {
   "cell_type": "code",
   "execution_count": null,
   "id": "5cf12ebb",
   "metadata": {},
   "outputs": [],
   "source": [
    "# Retira todos os caracteres que se encontram entre ()\n",
    "REGEX_PS = r'\\s*\\([^()]*\\)\\s*'\n",
    "\n",
    "df_planes = df_planes.withColumn('model', F.regexp_replace(F.col('model'), REGEX_PS, ''))\n",
    "\n",
    "df_planes.show()"
   ]
  },
  {
   "cell_type": "code",
   "execution_count": null,
   "id": "a553625b",
   "metadata": {},
   "outputs": [],
   "source": [
    "df_planes.filter(F.col('tailnum') == 'N550AA').show()"
   ]
  },
  {
   "cell_type": "code",
   "execution_count": null,
   "id": "66c38041",
   "metadata": {},
   "outputs": [],
   "source": [
    "df_planes.filter(F.col('model').rlike('[\\s]')).show()"
   ]
  },
  {
   "cell_type": "markdown",
   "id": "7c2385db",
   "metadata": {},
   "source": [
    "# -----------------------------------------------------------------------------------------------------------\n",
    "## 8."
   ]
  },
  {
   "cell_type": "code",
   "execution_count": null,
   "id": "3644df0b",
   "metadata": {},
   "outputs": [],
   "source": [
    "df_planes.filter(F.col('speed').isNull()).show(10)"
   ]
  },
  {
   "cell_type": "code",
   "execution_count": null,
   "id": "3e2ede2f",
   "metadata": {},
   "outputs": [],
   "source": [
    "df_planes.groupBy('speed').count().show()"
   ]
  },
  {
   "cell_type": "code",
   "execution_count": null,
   "id": "c7c732ad",
   "metadata": {},
   "outputs": [],
   "source": [
    "df_planes = df_planes.withColumn('speed',\n",
    "                                 F.when((F.col('speed').isNull()) &\n",
    "                                        (F.col('seats').isNotNull()), F.ceil(F.expr('seats/0.36')))\n",
    "                                  .otherwise(F.col('speed'))\n",
    "                                )\n",
    "\n",
    "df_planes.filter(F.col('tailnum') == 'N102UW').show()"
   ]
  },
  {
   "cell_type": "code",
   "execution_count": null,
   "id": "3c606956",
   "metadata": {},
   "outputs": [],
   "source": [
    "df_planes = df_planes.withColumn(\"speed\",\n",
    "                                 F.when(~F.col('speed').between(50, 150), 0)\n",
    "                                  .otherwise(F.col('speed'))\n",
    "                                )"
   ]
  },
  {
   "cell_type": "code",
   "execution_count": null,
   "id": "a2663d25",
   "metadata": {},
   "outputs": [],
   "source": [
    "df_planes.groupBy(\"speed\").count().orderBy(F.col('speed')).show(999)\n",
    "df_planes.filter(F.col('speed').isNull()).show()"
   ]
  },
  {
   "cell_type": "markdown",
   "id": "5a293bcf",
   "metadata": {},
   "source": [
    "# -----------------------------------------------------------------------------------------------------------\n",
    "## 9."
   ]
  },
  {
   "cell_type": "code",
   "execution_count": null,
   "id": "14823672",
   "metadata": {},
   "outputs": [],
   "source": [
    "df_planes.filter(F.col('engine') == '4 Cycle').show()"
   ]
  },
  {
   "cell_type": "code",
   "execution_count": null,
   "id": "d2fdd390",
   "metadata": {},
   "outputs": [],
   "source": [
    "df_planes = df_planes.withColumn('engine_type',\n",
    "                                 F.when(F.col('engine') == 'Turbo-fan',   'FAN')\n",
    "                                  .when(F.col('engine') == 'Turbo-jet',   'JET')\n",
    "                                  .when(F.col('engine') == 'Turbo-prop',  'PROP')\n",
    "                                  .when(F.col('engine') == 'Turbo-shaft', 'SHAFT')\n",
    "                                  .when(F.col('engine') == '4 Cycle',     'CYCLE')\n",
    "                                )\n",
    "\n",
    "df_planes.show(10)\n",
    "df_planes.filter(F.col('engine_type').isNull()).show()\n",
    "df_planes.groupBy(\"engine_type\").count().orderBy(F.col('engine_type')).show(999)"
   ]
  },
  {
   "cell_type": "markdown",
   "id": "c93645b3",
   "metadata": {},
   "source": [
    "# -----------------------------------------------------------------------------------------------------------\n",
    "# Transformação flights\n",
    "# -----------------------------------------------------------------------------------------------------------\n",
    "## 1."
   ]
  },
  {
   "cell_type": "code",
   "execution_count": null,
   "id": "8ba0eb22",
   "metadata": {},
   "outputs": [],
   "source": [
    "df_flights.filter(F.col('hour').isNull()).show(10)\n",
    "df_flights.filter(F.col('minute').isNull()).count()"
   ]
  },
  {
   "cell_type": "code",
   "execution_count": null,
   "id": "56e6202a",
   "metadata": {},
   "outputs": [],
   "source": [
    "df_flights = df_flights.withColumn('hour',\n",
    "                                   F.when(F.col('hour').isNull(), 0)\n",
    "                                    .otherwise(F.col('hour'))\n",
    "                                  )\n",
    " \n",
    "df_flights = df_flights.withColumn('minute',\n",
    "                                   F.when(F.col('minute').isNull(), 0)\n",
    "                                    .otherwise(F.col('minute'))\n",
    "                                  )\n",
    " \n",
    "df_flights.show(5)\n",
    "df_flights.filter(F.col('minute').isNull()).show()"
   ]
  },
  {
   "cell_type": "code",
   "execution_count": null,
   "id": "a511988f",
   "metadata": {},
   "outputs": [],
   "source": [
    "df_flights.groupBy(\"hour\").count().orderBy(F.col('hour')).show()"
   ]
  },
  {
   "cell_type": "markdown",
   "id": "1dc612e3",
   "metadata": {},
   "source": [
    "# -----------------------------------------------------------------------------------------------------------\n",
    "## 2."
   ]
  },
  {
   "cell_type": "code",
   "execution_count": null,
   "id": "edacff32",
   "metadata": {},
   "outputs": [],
   "source": [
    "df_flights.filter(F.col('hour') == 24).show()"
   ]
  },
  {
   "cell_type": "code",
   "execution_count": null,
   "id": "dfeac651",
   "metadata": {},
   "outputs": [],
   "source": [
    "df_flights = df_flights.withColumn('hour',\n",
    "                                   F.when(F.col('hour') == 24, 0)\n",
    "                                    .otherwise(F.col('hour'))\n",
    "                                  )\n",
    " \n",
    "df_flights.filter(F.col('hour') == 24).show()"
   ]
  },
  {
   "cell_type": "code",
   "execution_count": null,
   "id": "ada67918",
   "metadata": {},
   "outputs": [],
   "source": [
    "df_flights.groupBy(\"hour\").count().orderBy(F.col('hour')).show(999)"
   ]
  },
  {
   "cell_type": "markdown",
   "id": "902af04f",
   "metadata": {},
   "source": [
    "# -----------------------------------------------------------------------------------------------------------\n",
    "## 3."
   ]
  },
  {
   "cell_type": "code",
   "execution_count": null,
   "id": "0b809ae7",
   "metadata": {},
   "outputs": [],
   "source": [
    "df_flights.filter(F.col('hour').isNull()).show()"
   ]
  },
  {
   "cell_type": "code",
   "execution_count": null,
   "id": "5fff36e0",
   "metadata": {},
   "outputs": [],
   "source": [
    "df_flights = df_flights.withColumn(\"dep_datetime\", F.expr(\"make_timestamp(year, month, day, hour, minute, 00)\"))\n",
    "\n",
    "df_flights.show(vertical = True, truncate = False)"
   ]
  },
  {
   "cell_type": "markdown",
   "id": "25c6b813",
   "metadata": {},
   "source": [
    "# -----------------------------------------------------------------------------------------------------------\n",
    "## 4."
   ]
  },
  {
   "cell_type": "code",
   "execution_count": null,
   "id": "7eaf916f",
   "metadata": {},
   "outputs": [],
   "source": [
    "df_flights.filter(F.col('dep_time') == 'NA').show(5)\n",
    "df_flights.where(F.col('dep_time') == 'NA').count()"
   ]
  },
  {
   "cell_type": "code",
   "execution_count": null,
   "id": "e924c819",
   "metadata": {},
   "outputs": [],
   "source": [
    "df_flights = df_flights.withColumn('dep_time',\n",
    "                                   F.when(F.col('dep_time') == 'NA', F.concat(F.col('hour'), F.lpad(F.col('minute'), 2, '0')))\n",
    "                                    .otherwise(F.col('dep_time'))\n",
    "                                  ) \n",
    "\n",
    "df_flights.filter(F.col('dep_time') == 'NA').show()\n",
    "df_flights.filter(F.col('dep_time') < 1).show(5)"
   ]
  },
  {
   "cell_type": "code",
   "execution_count": null,
   "id": "5a1b079c",
   "metadata": {},
   "outputs": [],
   "source": [
    "df_flights.groupBy('dep_time').count().orderBy(F.col('dep_time')).show()"
   ]
  },
  {
   "cell_type": "markdown",
   "id": "ad24aabf",
   "metadata": {},
   "source": [
    "# -----------------------------------------------------------------------------------------------------------\n",
    "## 5."
   ]
  },
  {
   "cell_type": "code",
   "execution_count": null,
   "id": "d786ed40",
   "metadata": {},
   "outputs": [],
   "source": [
    "df_flights.filter(F.col('dep_delay').isNull()).show(10)\n",
    "df_flights.filter(F.col('dep_delay').isNull()).count()"
   ]
  },
  {
   "cell_type": "code",
   "execution_count": null,
   "id": "cf8e44c7",
   "metadata": {},
   "outputs": [],
   "source": [
    "df_flights = df_flights.withColumn('dep_delay',\n",
    "                                   F.when(F.col('dep_delay').isNull(), 0)\n",
    "                                    .otherwise(F.col('dep_delay'))\n",
    "                                  ) \n",
    "\n",
    "df_flights.filter(F.col('dep_delay').isNull()).show()\n",
    "df_flights.filter(F.col('dep_delay').isNull()).count()\n",
    "df_flights.filter(F.col('dep_delay') == 0).count()"
   ]
  },
  {
   "cell_type": "code",
   "execution_count": null,
   "id": "3ddbb0aa",
   "metadata": {},
   "outputs": [],
   "source": [
    "df_flights.groupBy(\"dep_delay\").count().orderBy(F.col('dep_delay')).show()"
   ]
  },
  {
   "cell_type": "markdown",
   "id": "669857a6",
   "metadata": {},
   "source": [
    "# -----------------------------------------------------------------------------------------------------------\n",
    "## 6."
   ]
  },
  {
   "cell_type": "code",
   "execution_count": null,
   "id": "4188831d",
   "metadata": {},
   "outputs": [],
   "source": [
    "df_flights.filter(F.col('arr_delay').isNull()).show(10)\n",
    "df_flights.filter(F.col('arr_delay').isNull()).count()"
   ]
  },
  {
   "cell_type": "code",
   "execution_count": null,
   "id": "9ca483b2",
   "metadata": {},
   "outputs": [],
   "source": [
    "df_flights = df_flights.withColumn('arr_delay',\n",
    "                                   F.when(F.col('arr_delay').isNull(), 0)\n",
    "                                    .otherwise(F.col('arr_delay'))\n",
    "                                  )\n",
    " \n",
    "df_flights.filter(F.col('arr_delay').isNull()).show()\n",
    "df_flights.filter(F.col('arr_delay') == 0).count()"
   ]
  },
  {
   "cell_type": "code",
   "execution_count": null,
   "id": "daac4683",
   "metadata": {},
   "outputs": [],
   "source": [
    "df_flights.groupBy(\"arr_delay\").count().orderBy(F.col('arr_delay')).show()"
   ]
  },
  {
   "cell_type": "markdown",
   "id": "f98ffabb",
   "metadata": {},
   "source": [
    "# -----------------------------------------------------------------------------------------------------------\n",
    "## 7."
   ]
  },
  {
   "cell_type": "code",
   "execution_count": null,
   "id": "890d745c",
   "metadata": {},
   "outputs": [],
   "source": [
    "df_flights = df_flights.drop('year', 'month', 'day', 'hour', 'minute')\n",
    "\n",
    "df_flights.show(10)"
   ]
  },
  {
   "cell_type": "code",
   "execution_count": null,
   "id": "78e86535",
   "metadata": {},
   "outputs": [],
   "source": [
    "df_flights = df_flights.withColumn('air_time_projected', (F.col('distance') * 0.1 + 20).cast('int'))"
   ]
  },
  {
   "cell_type": "markdown",
   "id": "895984bf",
   "metadata": {},
   "source": [
    "# -----------------------------------------------------------------------------------------------------------\n",
    "## 8."
   ]
  },
  {
   "cell_type": "code",
   "execution_count": null,
   "id": "25bbd96b",
   "metadata": {},
   "outputs": [],
   "source": [
    "df_flights.show(truncate = 10)\n",
    "df_flights.groupBy(\"air_time_projected\").count().orderBy(F.col('air_time_projected')).show()"
   ]
  },
  {
   "cell_type": "markdown",
   "id": "42d24f5c",
   "metadata": {},
   "source": [
    "# -----------------------------------------------------------------------------------------------------------\n",
    "## 9."
   ]
  },
  {
   "cell_type": "code",
   "execution_count": null,
   "id": "77dacb68",
   "metadata": {},
   "outputs": [],
   "source": [
    "df_flights.groupBy(F.col('origin'), F.col('dest')).agg((F.avg('air_time').cast('int')).alias('air_time_expected')).show()"
   ]
  },
  {
   "cell_type": "code",
   "execution_count": null,
   "id": "ad114fde",
   "metadata": {},
   "outputs": [],
   "source": [
    "# Cria um dataframe agrupado o origin e o destino\n",
    "\n",
    "df_expected = df_flights.groupBy(F.col('origin'), F.col('dest')).agg((F.avg('air_time').cast('int')).alias('air_time_expected'))\n",
    "\n",
    "df_expected = (df_expected.withColumnRenamed('origin', 'o1')\n",
    "                          .withColumnRenamed('dest',   'd1'))"
   ]
  },
  {
   "cell_type": "code",
   "execution_count": null,
   "id": "a6a4be75",
   "metadata": {},
   "outputs": [],
   "source": [
    "# Junta os dataframes\n",
    "df_final = df_flights.join(df_expected, \n",
    "                          (df_flights['origin'] == df_expected['o1']) &\n",
    "                          (df_flights['dest'] == df_expected['d1']),\n",
    "                          'left')\n",
    "\n",
    "# Exclue as colunas duplicadas\n",
    "df_flights = df_final.drop('o1', 'd1')\n",
    "\n",
    "del df_final, df_expected\n",
    "\n",
    "df_flights.toPandas()"
   ]
  },
  {
   "cell_type": "code",
   "execution_count": null,
   "id": "2bc0f688",
   "metadata": {},
   "outputs": [],
   "source": [
    "df_flights.groupBy(\"air_time_expected\").count().orderBy(F.col('air_time_expected')).show()"
   ]
  },
  {
   "cell_type": "markdown",
   "id": "1ddb0113",
   "metadata": {},
   "source": [
    "# -----------------------------------------------------------------------------------------------------------\n",
    "## 10."
   ]
  },
  {
   "cell_type": "code",
   "execution_count": null,
   "id": "37baffc2",
   "metadata": {},
   "outputs": [],
   "source": [
    "df_flights.filter(F.col('air_time').isNull()).toPandas()"
   ]
  },
  {
   "cell_type": "code",
   "execution_count": null,
   "id": "7451fd5b",
   "metadata": {},
   "outputs": [],
   "source": [
    "df_flights = df_flights.withColumn('air_time',\n",
    "                                   F.when(F.col('air_time').isNull(), F.greatest(F.col('air_time_projected'), \n",
    "                                                                                 F.col('air_time_expected')))\n",
    "                                    .otherwise(F.col('air_time'))\n",
    "                                  )\n",
    " \n",
    "df_flights.toPandas()"
   ]
  },
  {
   "cell_type": "code",
   "execution_count": null,
   "id": "b34b7412",
   "metadata": {},
   "outputs": [],
   "source": [
    "df_flights.groupBy(\"air_time\").count().orderBy(F.col('air_time')).show()"
   ]
  },
  {
   "cell_type": "markdown",
   "id": "524d9610",
   "metadata": {},
   "source": [
    "# -----------------------------------------------------------------------------------------------------------\n",
    "## 11."
   ]
  },
  {
   "cell_type": "code",
   "execution_count": null,
   "id": "0be03812",
   "metadata": {},
   "outputs": [],
   "source": [
    "df_flights.filter(F.col('arr_time') == 'NA').toPandas()"
   ]
  },
  {
   "cell_type": "code",
   "execution_count": null,
   "id": "6ce4d353",
   "metadata": {},
   "outputs": [],
   "source": [
    "# Transforma a coluna dep_datetime em segundos com a função unix_timestamp e soma com a coluna air_time \n",
    "# transformada em segundos, transformando novamente em timestamp depois\n",
    "df_flights = df_flights.withColumn('sum', \n",
    "                        (F.unix_timestamp(\"dep_datetime\") + \n",
    "                        (F.col('air_time') * 60).cast('int')).cast('timestamp'))\n",
    "\n",
    "# Verifica aonde a coluna arr_time está nulo e troca o valor\n",
    "df_flights = df_flights.withColumn('arr_time',\n",
    "             F.when(F.col('arr_time') == 'NA', F.format_string('%d%d', F.hour(F.col('sum')), \n",
    "                                                                       F.minute(F.col('sum'))))\n",
    "             .otherwise(F.col('arr_time')))\n",
    "\n",
    "# Remove a coluna sum\n",
    "df_flights = df_flights.drop('sum')\n",
    "\n",
    "df_flights.toPandas()"
   ]
  },
  {
   "cell_type": "code",
   "execution_count": null,
   "id": "a60a4900",
   "metadata": {},
   "outputs": [],
   "source": [
    "df_flights.filter(F.col('arr_time') == 'NA').show(truncate = 5)\n",
    "\n",
    "(df_flights.select(F.col('dep_time'), \n",
    "                   F.col('dep_delay'), \n",
    "                   F.col('arr_time'), \n",
    "                   F.col('arr_delay'), \n",
    "                   F.col('air_time'), \n",
    "                   F.col('tailnum'))\n",
    "           .where((F.col('dep_time') == '000') & (F.col('air_time') == '141'))\n",
    "           .show(50))"
   ]
  },
  {
   "cell_type": "code",
   "execution_count": null,
   "id": "22dc2c1f",
   "metadata": {},
   "outputs": [],
   "source": [
    "df_flights.groupBy(\"arr_time\").count().orderBy(F.col('arr_time')).show()"
   ]
  },
  {
   "cell_type": "markdown",
   "id": "93e0d76a",
   "metadata": {},
   "source": [
    "# -----------------------------------------------------------------------------------------------------------\n",
    "## 12."
   ]
  },
  {
   "cell_type": "code",
   "execution_count": null,
   "id": "f2a6c52d",
   "metadata": {},
   "outputs": [],
   "source": [
    "df_flights = df_flights.withColumn('haul_duration',\n",
    "                                   F.when(F.col('air_time').between(20, 3*60), 'SHORT-HAUL')\n",
    "                                    .when(F.col('air_time').between(3*60, 6*60), 'MEDIUM-HAUL')\n",
    "                                    .when(F.col('air_time') > 6*60, 'LONG-HAUL')\n",
    "                                  )\n",
    "\n",
    "df_flights.toPandas()"
   ]
  },
  {
   "cell_type": "code",
   "execution_count": null,
   "id": "a4cbd093",
   "metadata": {},
   "outputs": [],
   "source": [
    "df_flights.groupBy('haul_duration').count().show()"
   ]
  },
  {
   "cell_type": "markdown",
   "id": "3ee12517",
   "metadata": {},
   "source": [
    "# -----------------------------------------------------------------------------------------------------------\n",
    "## 13."
   ]
  },
  {
   "cell_type": "code",
   "execution_count": null,
   "id": "cd34bdcf",
   "metadata": {},
   "outputs": [],
   "source": [
    "df_flights.filter(F.col(\"dep_datetime\").between('2013-12-21 21:48:00','2014-03-20 15:33:00')).show(5)"
   ]
  },
  {
   "cell_type": "code",
   "execution_count": null,
   "id": "5d71b52b",
   "metadata": {},
   "outputs": [],
   "source": [
    "df_flights = df_flights.withColumn('dep_season',\n",
    "                                   F.when(F.col('dep_datetime').between('2013-12-21 21:48:00','2014-03-20 15:33:00'), 'WINTER')\n",
    "                                    .when(F.col('dep_datetime').between('2014-03-20 15:33:00','2014-06-21 10:14:00'), 'SPRING')\n",
    "                                    .when(F.col('dep_datetime').between('2014-06-21 10:14:00','2014-09-23 02:04:00'), 'SUMER')\n",
    "                                    .when(F.col('dep_datetime').between('2014-09-23 02:04:00','2014-12-21 21:48:00'), 'FALL')\n",
    "                                    .when(F.col('dep_datetime').between('2014-12-21 21:48:00','2015-03-20 15:33:00'), 'WINTER')\n",
    "                                  )\n",
    "\n",
    "df_flights.toPandas()"
   ]
  },
  {
   "cell_type": "code",
   "execution_count": null,
   "id": "7a9cc913",
   "metadata": {},
   "outputs": [],
   "source": [
    "df_flights.groupBy(F.col('dep_season')).count().show()\n",
    "df_flights.filter(F.col('dep_season').isNull()).toPandas()"
   ]
  },
  {
   "cell_type": "markdown",
   "id": "6fd39201",
   "metadata": {},
   "source": [
    "# -----------------------------------------------------------------------------------------------------------\n",
    "## 14."
   ]
  },
  {
   "cell_type": "code",
   "execution_count": null,
   "id": "c2a70156",
   "metadata": {},
   "outputs": [],
   "source": [
    "df_flights.filter(F.col('dep_delay').isNull()).show()"
   ]
  },
  {
   "cell_type": "code",
   "execution_count": null,
   "id": "4e5121f3",
   "metadata": {},
   "outputs": [],
   "source": [
    "df_flights = df_flights.withColumn('dep_delay_category',\n",
    "                                   F.when(F.col('dep_delay') < 0,            'ANTECIPATED')\n",
    "                                    .when(F.col('dep_delay') == 0,           'INTIME')\n",
    "                                    .when(F.col('dep_delay').between(0, 59), 'MINOR')\n",
    "                                    .when(F.col('dep_delay') >= 60,          'MAJOR')\n",
    "                                  )\n",
    "\n",
    "df_flights.toPandas()"
   ]
  },
  {
   "cell_type": "code",
   "execution_count": null,
   "id": "5cd60806",
   "metadata": {},
   "outputs": [],
   "source": [
    "df_flights.groupBy(F.col('dep_delay_category')).count().show()"
   ]
  }
 ],
 "metadata": {
  "kernelspec": {
   "display_name": "Python 3 (ipykernel)",
   "language": "python",
   "name": "python3"
  },
  "language_info": {
   "codemirror_mode": {
    "name": "ipython",
    "version": 3
   },
   "file_extension": ".py",
   "mimetype": "text/x-python",
   "name": "python",
   "nbconvert_exporter": "python",
   "pygments_lexer": "ipython3",
   "version": "3.9.7"
  }
 },
 "nbformat": 4,
 "nbformat_minor": 5
}
