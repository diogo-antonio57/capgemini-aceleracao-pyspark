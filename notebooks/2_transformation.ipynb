{
 "cells": [
  {
   "cell_type": "code",
   "execution_count": 1,
   "id": "eff0b4d3",
   "metadata": {},
   "outputs": [
    {
     "name": "stdout",
     "output_type": "stream",
     "text": [
      "Requirement already satisfied: pyspark in c:\\users\\diosilva\\anaconda3\\lib\\site-packages (3.2.1)\n",
      "Requirement already satisfied: py4j==0.10.9.3 in c:\\users\\diosilva\\anaconda3\\lib\\site-packages (from pyspark) (0.10.9.3)\n",
      "Requirement already satisfied: findspark in c:\\users\\diosilva\\anaconda3\\lib\\site-packages (2.0.1)\n"
     ]
    }
   ],
   "source": [
    "# Installing required packages\n",
    "!pip install pyspark\n",
    "!pip install findspark"
   ]
  },
  {
   "cell_type": "code",
   "execution_count": 2,
   "id": "5578e622",
   "metadata": {},
   "outputs": [],
   "source": [
    "# Importa e inicia o findspark\n",
    "import findspark\n",
    "findspark.init()"
   ]
  },
  {
   "cell_type": "code",
   "execution_count": 3,
   "id": "4b0ca592",
   "metadata": {},
   "outputs": [],
   "source": [
    "# Importa todos os módulos necessários\n",
    "from pyspark import SparkContext, SparkConf\n",
    "from pyspark.sql import SparkSession\n",
    "from pyspark.sql import functions as F\n",
    "from pyspark.sql.types import StructType, StructField, StringType, IntegerType, FloatType"
   ]
  },
  {
   "cell_type": "code",
   "execution_count": 4,
   "id": "773b1fac",
   "metadata": {},
   "outputs": [],
   "source": [
    "# Criar o contexto do spark\n",
    "sc = SparkContext()\n",
    "\n",
    "# Instancia o criador de sessao do spark\n",
    "spark = (SparkSession.builder\n",
    "                     .master(\"local[7]\") # usa a márquina local com 7 nucleos\n",
    "                     .appName(\"Aceleração PySpark - Capgemini\"))"
   ]
  },
  {
   "cell_type": "code",
   "execution_count": 5,
   "id": "a3992e05",
   "metadata": {},
   "outputs": [],
   "source": [
    "# Cria o Schema de todos os datasets\n",
    "schema_airports = StructType([\n",
    "    StructField(\"faa\",  StringType(),  True),\n",
    "    StructField(\"name\", StringType(),  True),\n",
    "    StructField(\"lat\",  FloatType(),   True),\n",
    "    StructField(\"lon\",  FloatType(),   True),\n",
    "    StructField(\"alt\",  IntegerType(), True),\n",
    "    StructField(\"tz\",   IntegerType(), True),\n",
    "    StructField(\"dst\",  StringType(),  True)\n",
    "])\n",
    "\n",
    "schema_planes = StructType([\n",
    "    StructField('tailnum', StringType(), True),\n",
    "    StructField('year', IntegerType(), True),\n",
    "    StructField('type', StringType(), True),\n",
    "    StructField('manufacturer', StringType(), True),\n",
    "    StructField('model', StringType(), True),\n",
    "    StructField('engines', IntegerType(), True),\n",
    "    StructField('seats', IntegerType(), True),\n",
    "    StructField('speed', IntegerType(), True),\n",
    "    StructField('engine', StringType(), True)\n",
    "])\n",
    "\n",
    "schema_flights = StructType([\n",
    "    StructField('year', IntegerType(), True),\n",
    "    StructField('month', IntegerType(), True),\n",
    "    StructField('day', IntegerType(), True),\n",
    "    StructField('dep_time', StringType(), True),\n",
    "    StructField('dep_delay', IntegerType(), True),\n",
    "    StructField('arr_time', StringType(), True),\n",
    "    StructField('arr_delay', IntegerType(), True),\n",
    "    StructField('carrier', StringType(), True),\n",
    "    StructField('tailnum', StringType(), True),\n",
    "    StructField('flight', StringType(), True),\n",
    "    StructField('origin', StringType(), True),\n",
    "    StructField('dest', StringType(), True),\n",
    "    StructField('air_time', IntegerType(), True),\n",
    "    StructField('distance', IntegerType(), True),\n",
    "    StructField('hour', IntegerType(), True),\n",
    "    StructField('minute', IntegerType(), True)\n",
    "])"
   ]
  },
  {
   "cell_type": "code",
   "execution_count": 6,
   "id": "b720dbe3",
   "metadata": {},
   "outputs": [],
   "source": [
    "# Cria os dataframes\n",
    "df_airports = (spark.getOrCreate().read\n",
    "                  .format(\"csv\")\n",
    "                  .option(\"header\", \"true\")\n",
    "                  .schema(schema_airports)\n",
    "                  .load(\"../data/airports.csv\"))\n",
    "\n",
    "df_planes = (spark.getOrCreate().read\n",
    "                  .format(\"csv\")\n",
    "                  .option(\"header\", \"true\")\n",
    "                  .schema(schema_planes)\n",
    "                  .load(\"../data/planes.csv\"))\n",
    "\n",
    "df_flights = (spark.getOrCreate().read\n",
    "                  .format(\"csv\")\n",
    "                  .option(\"header\", \"true\")\n",
    "                  .schema(schema_flights)\n",
    "                  .load(\"../data/flights.csv\"))"
   ]
  },
  {
   "cell_type": "code",
   "execution_count": 7,
   "id": "d85db0a3",
   "metadata": {},
   "outputs": [
    {
     "name": "stdout",
     "output_type": "stream",
     "text": [
      "+---+--------------------+---------+---------+----+---+---+\n",
      "|faa|                name|      lat|      lon| alt| tz|dst|\n",
      "+---+--------------------+---------+---------+----+---+---+\n",
      "|04G|   Lansdowne Airport|41.130474|-80.61958|1044| -5|  A|\n",
      "|06A|Moton Field Munic...| 32.46057|-85.68003| 264| -5|  A|\n",
      "|06C| Schaumburg Regional| 41.98934|-88.10124| 801| -6|  A|\n",
      "+---+--------------------+---------+---------+----+---+---+\n",
      "only showing top 3 rows\n",
      "\n",
      "+-------+----+--------------------+----------------+--------+-------+-----+-----+---------+\n",
      "|tailnum|year|                type|    manufacturer|   model|engines|seats|speed|   engine|\n",
      "+-------+----+--------------------+----------------+--------+-------+-----+-----+---------+\n",
      "| N102UW|1998|Fixed wing multi ...|AIRBUS INDUSTRIE|A320-214|      2|  182| null|Turbo-fan|\n",
      "| N103US|1999|Fixed wing multi ...|AIRBUS INDUSTRIE|A320-214|      2|  182| null|Turbo-fan|\n",
      "| N104UW|1999|Fixed wing multi ...|AIRBUS INDUSTRIE|A320-214|      2|  182| null|Turbo-fan|\n",
      "+-------+----+--------------------+----------------+--------+-------+-----+-----+---------+\n",
      "only showing top 3 rows\n",
      "\n",
      "+----+-----+---+--------+---------+--------+---------+-------+-------+------+------+----+--------+--------+----+------+\n",
      "|year|month|day|dep_time|dep_delay|arr_time|arr_delay|carrier|tailnum|flight|origin|dest|air_time|distance|hour|minute|\n",
      "+----+-----+---+--------+---------+--------+---------+-------+-------+------+------+----+--------+--------+----+------+\n",
      "|2014|   12|  8|     658|       -7|     935|       -5|     VX| N846VA|  1780|   SEA| LAX|     132|     954|   6|    58|\n",
      "|2014|    1| 22|    1040|        5|    1505|        5|     AS| N559AS|   851|   SEA| HNL|     360|    2677|  10|    40|\n",
      "|2014|    3|  9|    1443|       -2|    1652|        2|     VX| N847VA|   755|   SEA| SFO|     111|     679|  14|    43|\n",
      "+----+-----+---+--------+---------+--------+---------+-------+-------+------+------+----+--------+--------+----+------+\n",
      "only showing top 3 rows\n",
      "\n"
     ]
    }
   ],
   "source": [
    "df_airports.show(3)\n",
    "df_planes.show(3)\n",
    "df_flights.show(3)"
   ]
  },
  {
   "cell_type": "code",
   "execution_count": null,
   "id": "91cf92ef",
   "metadata": {},
   "outputs": [],
   "source": [
    "# Função de regex\n",
    "def regex_definition(element):\n",
    "    return r'|'.join(map(lambda x : f'.*{x}*', element))"
   ]
  },
  {
   "cell_type": "markdown",
   "id": "8f0a04f8",
   "metadata": {},
   "source": [
    "# -----------------------------------------------------------------------------------------------------------\n",
    "# Transformação airports\n",
    "# -----------------------------------------------------------------------------------------------------------\n",
    "## 1."
   ]
  },
  {
   "cell_type": "code",
   "execution_count": null,
   "id": "c9ce11d9",
   "metadata": {},
   "outputs": [],
   "source": [
    "df_airports.filter(F.col('alt') < 0).show()"
   ]
  },
  {
   "cell_type": "code",
   "execution_count": null,
   "id": "1bdc5744",
   "metadata": {},
   "outputs": [],
   "source": [
    "df_airports = df_airports.withColumn('alt', \n",
    "                                     F.when(F.col('alt') < 0, 0)\n",
    "                                      .otherwise(F.col('alt'))\n",
    "                                    )"
   ]
  },
  {
   "cell_type": "code",
   "execution_count": null,
   "id": "dc0111b3",
   "metadata": {},
   "outputs": [],
   "source": [
    "df_airports.filter(F.col('alt') == 0).count()"
   ]
  },
  {
   "cell_type": "code",
   "execution_count": null,
   "id": "a086b4a9",
   "metadata": {},
   "outputs": [],
   "source": [
    "df_airports.groupBy(F.col('alt')).count().orderBy(F.col('alt')).show()"
   ]
  },
  {
   "cell_type": "markdown",
   "id": "eeeef3a5",
   "metadata": {},
   "source": [
    "# -----------------------------------------------------------------------------------------------------------\n",
    "## 2."
   ]
  },
  {
   "cell_type": "code",
   "execution_count": null,
   "id": "58b735b8",
   "metadata": {},
   "outputs": [],
   "source": [
    "df_airports.filter(F.col('tz').between(-7, -5)).show(10)"
   ]
  },
  {
   "cell_type": "code",
   "execution_count": null,
   "id": "79ab8070",
   "metadata": {},
   "outputs": [],
   "source": [
    "df_airports = df_airports.withColumn('dst',\n",
    "                                     F.when(F.col('tz').between(-7, -5), 'A')\n",
    "                                      .otherwise(F.col('dst'))\n",
    "                                    )"
   ]
  },
  {
   "cell_type": "code",
   "execution_count": null,
   "id": "652db2a4",
   "metadata": {},
   "outputs": [],
   "source": [
    "df_airports.filter(F.col('tz').between(-7, -5)).show(10)\n",
    "df_airports.groupBy(\"dst\").count().show()"
   ]
  },
  {
   "cell_type": "code",
   "execution_count": null,
   "id": "1b864a29",
   "metadata": {},
   "outputs": [],
   "source": [
    "df_airports.groupBy(F.col('dst')).count().show(999)"
   ]
  },
  {
   "cell_type": "markdown",
   "id": "34f8211f",
   "metadata": {},
   "source": [
    "# -----------------------------------------------------------------------------------------------------------\n",
    "## 3."
   ]
  },
  {
   "cell_type": "code",
   "execution_count": null,
   "id": "96215fbb",
   "metadata": {},
   "outputs": [],
   "source": [
    "df_airports.filter(F.col('dst') == 'U').show()"
   ]
  },
  {
   "cell_type": "code",
   "execution_count": null,
   "id": "00010999",
   "metadata": {},
   "outputs": [],
   "source": [
    "df_airports = df_airports.withColumn('dst',\n",
    "                                     F.when(F.col('dst') == 'U', 'A')\n",
    "                                      .otherwise(F.col('dst'))\n",
    "                                    )"
   ]
  },
  {
   "cell_type": "code",
   "execution_count": null,
   "id": "736874d2",
   "metadata": {},
   "outputs": [],
   "source": [
    "df_airports.filter(F.col('faa') == 'GCW').show()\n",
    "df_airports.filter(F.col('dst') == 'A').count()\n",
    "df_airports.groupBy(\"dst\").count().show()"
   ]
  },
  {
   "cell_type": "markdown",
   "id": "5a115a33",
   "metadata": {},
   "source": [
    "# -----------------------------------------------------------------------------------------------------------\n",
    "## 4."
   ]
  },
  {
   "cell_type": "code",
   "execution_count": null,
   "id": "38ba3b1a",
   "metadata": {},
   "outputs": [],
   "source": [
    "# Alaska\n",
    "df_airports.filter(F.col('lon') < -124).show(5)\n",
    "\n",
    "# Mainland-west\n",
    "df_airports.filter(F.col('lon').between(-124, -95)).show(5)\n",
    "\n",
    "# Mainland-east\n",
    "df_airports.filter(F.col('lon').between(-95, -59)).show(5)\n",
    "\n",
    "# Offshore\n",
    "df_airports.filter((F.col('lon') > -50) | (F.col('lat') < 24)).show(5)"
   ]
  },
  {
   "cell_type": "code",
   "execution_count": null,
   "id": "e86cf426",
   "metadata": {},
   "outputs": [],
   "source": [
    "df_airports = df_airports.withColumn('region',\n",
    "                                      F.when(F.col('lon') < -124,                        'ALASKA')\n",
    "                                       .when(F.col('lon').between(-124, -95),            'MAINLAND-WEST')\n",
    "                                       .when(F.col('lon').between(-95, -54),             'MAINLAND-EAST')\n",
    "                                       .when((F.col('lon') > -50) | (F.col('lat') > 24), 'OFFSHORE')\n",
    "                                       .otherwise('NaN')\n",
    "                                    )\n",
    "\n",
    "df_airports.show(10)"
   ]
  },
  {
   "cell_type": "code",
   "execution_count": null,
   "id": "ff39d477",
   "metadata": {},
   "outputs": [],
   "source": [
    "df_airports.groupBy(\"region\").count().show()"
   ]
  },
  {
   "cell_type": "markdown",
   "id": "c448b875",
   "metadata": {},
   "source": [
    "# -----------------------------------------------------------------------------------------------------------\n",
    "## 5."
   ]
  },
  {
   "cell_type": "code",
   "execution_count": null,
   "id": "f81916f5",
   "metadata": {},
   "outputs": [],
   "source": [
    "LIST_AP  = ['Airport', 'Tradeport', 'Heliport', 'Airpor', 'Arpt']\n",
    "REGEX_AP = regex_definition(LIST_AP)\n",
    "\n",
    "LIST_AD  = ['Aerodrome']\n",
    "REGEX_AD = regex_definition(LIST_AD)\n",
    "\n",
    "LIST_AK  = ['Airpark', 'Aero Park']\n",
    "REGEX_AK = regex_definition(LIST_AK)\n",
    "\n",
    "LIST_AS  = ['Station', 'Air Station']\n",
    "REGEX_AS = regex_definition(LIST_AS)\n",
    "\n",
    "LIST_FL  = ['Field', 'Fld']\n",
    "REGEX_FL = regex_definition(LIST_FL)"
   ]
  },
  {
   "cell_type": "code",
   "execution_count": null,
   "id": "6994cbd7",
   "metadata": {},
   "outputs": [],
   "source": [
    "df_airports = df_airports.withColumn('type',\n",
    "                                     F.when(F.col('name').rlike(REGEX_AP),  'AP')\n",
    "                                       .when(F.col('name').rlike(REGEX_AD), 'AD')\n",
    "                                       .when(F.col('name').rlike(REGEX_AK), 'AK')\n",
    "                                       .when(F.col('name').rlike(REGEX_AS), 'AS')\n",
    "                                       .when(F.col('name').rlike(REGEX_FL), 'FL')\n",
    "                                       .otherwise('NaN')\n",
    "                                    )"
   ]
  },
  {
   "cell_type": "code",
   "execution_count": null,
   "id": "b13aaf3e",
   "metadata": {},
   "outputs": [],
   "source": [
    "df_airports.filter((F.col('name').rlike('(Airport).*(Field)'))).show(10, truncate=False)\n",
    "df_airports.groupBy(\"type\").count().show()"
   ]
  },
  {
   "cell_type": "markdown",
   "id": "4d8045cc",
   "metadata": {},
   "source": [
    "# -----------------------------------------------------------------------------------------------------------\n",
    "## 6."
   ]
  },
  {
   "cell_type": "code",
   "execution_count": null,
   "id": "a0e98ac6",
   "metadata": {},
   "outputs": [],
   "source": [
    "df_airports.filter(F.col('name').rlike('Afs')).show(10, False)"
   ]
  },
  {
   "cell_type": "code",
   "execution_count": null,
   "id": "fb8dc6c9",
   "metadata": {},
   "outputs": [],
   "source": [
    "LIST_MILITARY  = ['Base', 'Aaf', 'Afs', 'Ahp', 'Afb', 'LRRS', 'Lrrs', 'Arb', 'Naf', 'NAS', 'Nas', 'Jrb', 'Ns', 'As', 'Cgas', 'Angb']\n",
    "REGEX_MILITARY = r'|'.join(map(lambda x : f'^{x} | {x} | {x}$', LIST_MILITARY))"
   ]
  },
  {
   "cell_type": "code",
   "execution_count": null,
   "id": "6d78c255",
   "metadata": {},
   "outputs": [],
   "source": [
    "df_airports = df_airports.withColumn('military',\n",
    "                                     F.when(F.col('name').rlike(REGEX_MILITARY), True)\n",
    "                                      .otherwise(False)\n",
    "                                    )"
   ]
  },
  {
   "cell_type": "code",
   "execution_count": null,
   "id": "043b86f6",
   "metadata": {},
   "outputs": [],
   "source": [
    "df_airports.filter(F.col('military') == True).show(10, False)\n",
    "df_airports.filter(F.col('name').rlike('As')).show(50, False)\n",
    "df_airports.groupBy(\"military\").count().show()"
   ]
  },
  {
   "cell_type": "markdown",
   "id": "cb711730",
   "metadata": {},
   "source": [
    "# -----------------------------------------------------------------------------------------------------------\n",
    "## 7."
   ]
  },
  {
   "cell_type": "code",
   "execution_count": null,
   "id": "11281624",
   "metadata": {},
   "outputs": [],
   "source": [
    "df_airports.filter(F.col('name').rlike('(City).*(Intl)')).show(10, False)"
   ]
  },
  {
   "cell_type": "code",
   "execution_count": null,
   "id": "e7f952dd",
   "metadata": {},
   "outputs": [],
   "source": [
    "LIST_I  = ['International', 'Intl', 'Intercontinental']\n",
    "REGEX_I = regex_definition(LIST_I)\n",
    "\n",
    "LIST_N  = ['National', 'Natl']\n",
    "REGEX_N = regex_definition(LIST_N)\n",
    "\n",
    "LIST_R  = ['Regional', 'Reigonal', 'Rgnl', 'County', 'Metro', 'Metropolitan']\n",
    "REGEX_R = regex_definition(LIST_R)\n",
    "\n",
    "LIST_M  = ['Municipal', 'Muni', 'City']\n",
    "REGEX_M = regex_definition(LIST_M)"
   ]
  },
  {
   "cell_type": "code",
   "execution_count": null,
   "id": "42e5410b",
   "metadata": {},
   "outputs": [],
   "source": [
    "df_airports = df_airports.withColumn('administration',\n",
    "                                     F.when(F.col('name').rlike(REGEX_I), 'I')\n",
    "                                      .when(F.col('name').rlike(REGEX_N), 'N')\n",
    "                                      .when(F.col('name').rlike(REGEX_R), 'R')\n",
    "                                      .when(F.col('name').rlike(REGEX_M), 'M')\n",
    "                                      .otherwise('NaN')\n",
    "                                    )\n",
    "\n",
    "df_airports.show(10, False)"
   ]
  },
  {
   "cell_type": "code",
   "execution_count": null,
   "id": "0be191d8",
   "metadata": {},
   "outputs": [],
   "source": [
    "df_airports.filter(F.col('administration') == 'I').show(10, False)\n",
    "df_airports.groupBy(\"administration\").count().show()"
   ]
  },
  {
   "cell_type": "markdown",
   "id": "798e63da",
   "metadata": {},
   "source": [
    "# -----------------------------------------------------------------------------------------------------------\n",
    "# Transformação planes\n",
    "# -----------------------------------------------------------------------------------------------------------\n",
    "## 1."
   ]
  },
  {
   "cell_type": "code",
   "execution_count": null,
   "id": "5af61639",
   "metadata": {},
   "outputs": [],
   "source": [
    "df_planes = df_planes.withColumn('tailchar', F.regexp_replace(F.col('tailnum'), '[0-9]|^N', \"\"))\n",
    "\n",
    "df_planes.show()"
   ]
  },
  {
   "cell_type": "code",
   "execution_count": null,
   "id": "4e3450f0",
   "metadata": {},
   "outputs": [],
   "source": [
    "df_planes.groupBy(\"tailchar\").count().show()"
   ]
  },
  {
   "cell_type": "markdown",
   "id": "01e57dda",
   "metadata": {},
   "source": [
    "# -----------------------------------------------------------------------------------------------------------\n",
    "## 2."
   ]
  },
  {
   "cell_type": "code",
   "execution_count": null,
   "id": "dea071aa",
   "metadata": {},
   "outputs": [],
   "source": [
    "df_planes.filter(F.col('year') == 0).show()"
   ]
  },
  {
   "cell_type": "code",
   "execution_count": null,
   "id": "d4f263f5",
   "metadata": {},
   "outputs": [],
   "source": [
    "df_planes = df_planes.withColumn('year',\n",
    "                                 F.when(F.col('year') == 0, 1996)\n",
    "                                  .otherwise(F.col('year')))\n",
    " \n",
    "df_planes.filter(F.col('year') == 0).show()\n",
    "df_planes.groupBy(\"year\").count().show()"
   ]
  },
  {
   "cell_type": "markdown",
   "id": "d80ce013",
   "metadata": {},
   "source": [
    "# -----------------------------------------------------------------------------------------------------------\n",
    "## 3."
   ]
  },
  {
   "cell_type": "code",
   "execution_count": null,
   "id": "f5230bc4",
   "metadata": {},
   "outputs": [],
   "source": [
    "df_planes.filter(F.col('year').isNull()).show(10)\n",
    "df_planes.filter(F.col('year').isNull()).count()"
   ]
  },
  {
   "cell_type": "code",
   "execution_count": null,
   "id": "9470e61a",
   "metadata": {},
   "outputs": [],
   "source": [
    "df_planes_order = df_planes.orderBy(F.col('manufacturer'), F.col('model'), F.col('year')).filter(F.col('year').isNotNull())\n",
    "df_planes_order.show(10)"
   ]
  },
  {
   "cell_type": "code",
   "execution_count": null,
   "id": "0a935be3",
   "metadata": {},
   "outputs": [],
   "source": [
    "df_planes.filter(F.col('manufacturer') == 'LAMBERT RICHARD').show()"
   ]
  },
  {
   "cell_type": "code",
   "execution_count": null,
   "id": "c162a0e4",
   "metadata": {},
   "outputs": [],
   "source": [
    "# Reduz o dataframe\n",
    "df_yeara = df_planes_order.groupBy(\"manufacturer\", \"model\").min(\"year\").orderBy(F.col('manufacturer'), F.col('model'))\n",
    "df_yeara.show()"
   ]
  },
  {
   "cell_type": "code",
   "execution_count": null,
   "id": "5904ddcb",
   "metadata": {},
   "outputs": [],
   "source": [
    "# Reduz ainda mais\n",
    "df_yearb = df_yeara.groupBy('manufacturer').min('min(year)').orderBy(F.col('manufacturer'))\n",
    "df_yearb.show()"
   ]
  },
  {
   "cell_type": "code",
   "execution_count": null,
   "id": "d628dca8",
   "metadata": {},
   "outputs": [],
   "source": [
    "# Renomeando as colunar do dataframe year_a e de year_b\n",
    "df_yeara = (df_yeara.withColumnRenamed('manufacturer', 'manuf_a')\n",
    "                    .withColumnRenamed('model', 'model_a')\n",
    "                    .withColumnRenamed('min(year)', 'year_a'))\n",
    "\n",
    "df_yearb = (df_yearb.withColumnRenamed('manufacturer', 'manuf_b')\n",
    "                    .withColumnRenamed('min(min(year))', 'year_b'))"
   ]
  },
  {
   "cell_type": "code",
   "execution_count": null,
   "id": "8abc0152",
   "metadata": {},
   "outputs": [],
   "source": [
    "# Unindo os dataframe df_planes + df_yeara + df_yearb \n",
    "df_join = df_planes.join(df_yeara, \n",
    "                        (df_planes['manufacturer'] == df_yeara['manuf_a']) &\n",
    "                        (df_planes['model'] == df_yeara['model_a']),\n",
    "                        'left')\n",
    "\n",
    "df_join = df_join.join(df_yearb,\n",
    "                       df_join['manufacturer'] == df_yearb['manuf_b'],\n",
    "                       'left')"
   ]
  },
  {
   "cell_type": "code",
   "execution_count": null,
   "id": "4a3ba4d3",
   "metadata": {},
   "outputs": [],
   "source": [
    "# Verificando se a união ocorreu corretamente\n",
    "df_join.show(3, 7)\n",
    "df_join.filter(F.col('year').isNull()).show(20, 7)"
   ]
  },
  {
   "cell_type": "code",
   "execution_count": null,
   "id": "e07877ea",
   "metadata": {},
   "outputs": [],
   "source": [
    "# aplicando as mudanças na coluna year\n",
    "df_join = df_join.withColumn('year',\n",
    "                              F.when((F.col('year').isNull()) &\n",
    "                                     (F.col('manuf_a').isNotNull()) &\n",
    "                                     (F.col('model_a').isNotNull()), F.col('year_a'))\n",
    "                               .when((F.col('year').isNull()) &\n",
    "                                     (F.col('manuf_b').isNotNull()), F.col('year_b'))\n",
    "                               .otherwise(F.col('year'))\n",
    "                            )\n",
    "\n",
    "df_join.filter(F.col('year').isNull()).show(truncate = 7)"
   ]
  },
  {
   "cell_type": "code",
   "execution_count": null,
   "id": "2ab1be8a",
   "metadata": {},
   "outputs": [],
   "source": [
    "df_planes = df_join.drop('manuf_a', \n",
    "                         'model_a', \n",
    "                         'year_a', \n",
    "                         'manuf_b',\n",
    "                         'year_b')"
   ]
  },
  {
   "cell_type": "code",
   "execution_count": null,
   "id": "6c394a01",
   "metadata": {},
   "outputs": [],
   "source": [
    "df_planes.filter(F.col('year').isNull()).show()"
   ]
  },
  {
   "cell_type": "markdown",
   "id": "cb5a3675",
   "metadata": {},
   "source": [
    "# -----------------------------------------------------------------------------------------------------------\n",
    "## 4."
   ]
  },
  {
   "cell_type": "code",
   "execution_count": null,
   "id": "418b6e73",
   "metadata": {},
   "outputs": [],
   "source": [
    "ANO_ATUAL = 2022\n",
    "\n",
    "df_planes = df_planes.withColumn('age',\n",
    "                                 F.when(F.col('year').isNotNull(), ANO_ATUAL - F.col('year'))\n",
    "                                  .otherwise(None)\n",
    "                                ) \n",
    "\n",
    "df_planes.show()"
   ]
  },
  {
   "cell_type": "code",
   "execution_count": null,
   "id": "a95ae7f0",
   "metadata": {},
   "outputs": [],
   "source": [
    "df_planes.groupBy(\"age\").count().orderBy(F.col('age')).show()"
   ]
  },
  {
   "cell_type": "markdown",
   "id": "dcaecc32",
   "metadata": {},
   "source": [
    "# -----------------------------------------------------------------------------------------------------------\n",
    "## 5."
   ]
  },
  {
   "cell_type": "code",
   "execution_count": null,
   "id": "f2cc5d0a",
   "metadata": {},
   "outputs": [],
   "source": [
    "df_planes = df_planes.withColumn('type',\n",
    "                                 F.when(F.col('type') == 'Fixed wing multi engine',  'MULTI_ENG')\n",
    "                                  .when(F.col('type') == 'Fixed wing single engine', 'SINGLE_ENG')\n",
    "                                  .when(F.col('type') == 'Rotorcraft',               'ROTORCRAFT')\n",
    "                                  .otherwise(F.col('type'))\n",
    "                                )\n",
    "\n",
    "df_planes.show()"
   ]
  },
  {
   "cell_type": "code",
   "execution_count": null,
   "id": "54f14896",
   "metadata": {},
   "outputs": [],
   "source": [
    "df_planes.groupBy(\"type\").count().orderBy(F.col('type')).show(999)"
   ]
  },
  {
   "cell_type": "markdown",
   "id": "a01eff79",
   "metadata": {},
   "source": [
    "# -----------------------------------------------------------------------------------------------------------\n",
    "## 6."
   ]
  },
  {
   "cell_type": "code",
   "execution_count": null,
   "id": "a5407443",
   "metadata": {},
   "outputs": [],
   "source": [
    "df_planes.filter(F.col('manufacturer').rlike('BELL')).show(truncate=False)"
   ]
  },
  {
   "cell_type": "code",
   "execution_count": null,
   "id": "ba124296",
   "metadata": {},
   "outputs": [],
   "source": [
    "# Realiza as mudanças\n",
    "df_planes = df_planes.withColumn('manufacturer',\n",
    "            F.when(F.col('manufacturer').rlike('AIRBUS'),              'AIRBUS')\n",
    "             .when(F.col('manufacturer').rlike('BOEING'),              'BOEING')\n",
    "             .when(F.col('manufacturer').rlike('BOMBARDIER'),          'BOMBARDIER')\n",
    "             .when(F.col('manufacturer').rlike('CESSNA'),              'CESSNA')\n",
    "             .when(F.col('manufacturer').rlike('EMBRAER'),             'EMBRAER')\n",
    "             .when(F.col('manufacturer').rlike('SIKORSKY'),            'SIKORSKY')\n",
    "             .when(F.col('manufacturer').rlike('CANADAIR'),            'CANADAIR')\n",
    "             .when(F.col('manufacturer').rlike('PIPER'),               'PIPER')\n",
    "             .when(F.col('manufacturer').rlike('MCDONNELL DOUGLAS'),   'MCDONNELL DOUGLAS')\n",
    "             .when(F.col('manufacturer').rlike('CIRRUS'),              'CIRRUS')\n",
    "             .when(F.col('manufacturer').rlike('BELL'),                'BELL')\n",
    "             .when(F.col('manufacturer').rlike('KILDALL GARY'),        'KILDALL GARY')\n",
    "             .when(F.col('manufacturer').rlike('LAMBERT RICHARD'),     'LAMBERT RICHARD')\n",
    "             .when(F.col('manufacturer').rlike('BARKER JACK'),         'BARKER JACK')\n",
    "             .when(F.col('manufacturer').rlike('ROBINSON HELICOPTER'), 'ROBINSON HELICOPTER')\n",
    "             .when(F.col('manufacturer').rlike('GULFSTREAM'),          'GULFSTREAM')\n",
    "             .when(F.col('manufacturer').rlike('MARZ BARRY'),          'MARZ BARRY'))\n",
    "\n",
    "df_planes.show()"
   ]
  },
  {
   "cell_type": "code",
   "execution_count": null,
   "id": "49cc6ea8",
   "metadata": {},
   "outputs": [],
   "source": [
    "df_planes.groupBy(\"manufacturer\").count().orderBy(F.col('manufacturer')).show(999)"
   ]
  },
  {
   "cell_type": "code",
   "execution_count": null,
   "id": "ebad14f7",
   "metadata": {},
   "outputs": [],
   "source": []
  },
  {
   "cell_type": "markdown",
   "id": "5414513c",
   "metadata": {},
   "source": [
    "# -----------------------------------------------------------------------------------------------------------\n",
    "## 7."
   ]
  },
  {
   "cell_type": "code",
   "execution_count": null,
   "id": "8d673738",
   "metadata": {},
   "outputs": [],
   "source": [
    "df_planes.filter(F.col('model').rlike('[(]')).show()\n",
    "df_planes.filter(F.col('model').rlike('[(]')).count()"
   ]
  },
  {
   "cell_type": "code",
   "execution_count": null,
   "id": "db87824e",
   "metadata": {},
   "outputs": [],
   "source": [
    "# Retira todos os caracteres que se encontram entre ()\n",
    "REGEX_PS = r'\\s*\\([^()]*\\)\\s*'\n",
    "\n",
    "df_planes = df_planes.withColumn('model', F.regexp_replace(F.col('model'), REGEX_PS, ''))\n",
    "\n",
    "df_planes.show()"
   ]
  },
  {
   "cell_type": "code",
   "execution_count": null,
   "id": "baf4302a",
   "metadata": {},
   "outputs": [],
   "source": [
    "df_planes.filter(F.col('tailnum') == 'N550AA').show()"
   ]
  },
  {
   "cell_type": "code",
   "execution_count": null,
   "id": "516a2f26",
   "metadata": {},
   "outputs": [],
   "source": [
    "df_planes.filter(F.col('model').rlike('[\\s]')).show()"
   ]
  },
  {
   "cell_type": "markdown",
   "id": "ee2f079d",
   "metadata": {},
   "source": [
    "# -----------------------------------------------------------------------------------------------------------\n",
    "## 8."
   ]
  },
  {
   "cell_type": "code",
   "execution_count": null,
   "id": "a10753b7",
   "metadata": {},
   "outputs": [],
   "source": [
    "df_planes.filter(F.col('speed').isNull()).show(10)"
   ]
  },
  {
   "cell_type": "code",
   "execution_count": null,
   "id": "c705b623",
   "metadata": {},
   "outputs": [],
   "source": [
    "df_planes.groupBy('speed').count().show()"
   ]
  },
  {
   "cell_type": "code",
   "execution_count": null,
   "id": "00464f08",
   "metadata": {},
   "outputs": [],
   "source": [
    "df_planes = df_planes.withColumn('speed',\n",
    "                                 F.when((F.col('speed').isNull()) &\n",
    "                                        (F.col('seats').isNotNull()), F.ceil(F.expr('seats/0.36')))\n",
    "                                  .otherwise(F.col('speed'))\n",
    "                                )\n",
    "\n",
    "df_planes.filter(F.col('tailnum') == 'N102UW').show()"
   ]
  },
  {
   "cell_type": "code",
   "execution_count": null,
   "id": "e912217d",
   "metadata": {},
   "outputs": [],
   "source": [
    "df_planes = df_planes.withColumn(\"speed\",\n",
    "                                 F.when(~F.col('speed').between(50, 150), 0)\n",
    "                                  .otherwise(F.col('speed'))\n",
    "                                )"
   ]
  },
  {
   "cell_type": "code",
   "execution_count": null,
   "id": "ea9effcf",
   "metadata": {},
   "outputs": [],
   "source": [
    "df_planes.groupBy(\"speed\").count().orderBy(F.col('speed')).show(999)\n",
    "df_planes.filter(F.col('speed').isNull()).show()"
   ]
  },
  {
   "cell_type": "markdown",
   "id": "b940d2f9",
   "metadata": {},
   "source": [
    "# -----------------------------------------------------------------------------------------------------------\n",
    "## 9."
   ]
  },
  {
   "cell_type": "code",
   "execution_count": null,
   "id": "279a6e14",
   "metadata": {},
   "outputs": [],
   "source": [
    "df_planes.filter(F.col('engine') == '4 Cycle').show()"
   ]
  },
  {
   "cell_type": "code",
   "execution_count": null,
   "id": "1cf15ce7",
   "metadata": {},
   "outputs": [],
   "source": [
    "df_planes = df_planes.withColumn('engine_type',\n",
    "                                 F.when(F.col('engine') == 'Turbo-fan',   'FAN')\n",
    "                                  .when(F.col('engine') == 'Turbo-jet',   'JET')\n",
    "                                  .when(F.col('engine') == 'Turbo-prop',  'PROP')\n",
    "                                  .when(F.col('engine') == 'Turbo-shaft', 'SHAFT')\n",
    "                                  .when(F.col('engine') == '4 Cycle',     'CYCLE')\n",
    "                                )\n",
    "\n",
    "df_planes.show(10)\n",
    "df_planes.filter(F.col('engine_type').isNull()).show()\n",
    "df_planes.groupBy(\"engine_type\").count().orderBy(F.col('engine_type')).show(999)"
   ]
  },
  {
   "cell_type": "markdown",
   "id": "3eefa8e1",
   "metadata": {},
   "source": [
    "# -----------------------------------------------------------------------------------------------------------\n",
    "# Transformação flights\n",
    "# -----------------------------------------------------------------------------------------------------------\n",
    "## 1."
   ]
  },
  {
   "cell_type": "code",
   "execution_count": null,
   "id": "56721699",
   "metadata": {},
   "outputs": [],
   "source": [
    "df_flights.filter(F.col('hour').isNull()).show(10)\n",
    "df_flights.filter(F.col('minute').isNull()).count()"
   ]
  },
  {
   "cell_type": "code",
   "execution_count": null,
   "id": "704868e4",
   "metadata": {},
   "outputs": [],
   "source": [
    "df_flights = df_flights.withColumn('hour',\n",
    "                                   F.when(F.col('hour').isNull(), 0)\n",
    "                                    .otherwise(F.col('hour'))\n",
    "                                  )\n",
    " \n",
    "df_flights = df_flights.withColumn('minute',\n",
    "                                   F.when(F.col('minute').isNull(), 0)\n",
    "                                    .otherwise(F.col('minute'))\n",
    "                                  )\n",
    " \n",
    "df_flights.show(5)\n",
    "df_flights.filter(F.col('minute').isNull()).show()"
   ]
  },
  {
   "cell_type": "code",
   "execution_count": null,
   "id": "5e443110",
   "metadata": {},
   "outputs": [],
   "source": [
    "df_flights.groupBy(\"hour\").count().orderBy(F.col('hour')).show()"
   ]
  },
  {
   "cell_type": "markdown",
   "id": "5bee5029",
   "metadata": {},
   "source": [
    "# -----------------------------------------------------------------------------------------------------------\n",
    "## 2."
   ]
  },
  {
   "cell_type": "code",
   "execution_count": null,
   "id": "6053de7f",
   "metadata": {},
   "outputs": [],
   "source": [
    "df_flights.filter(F.col('hour') == 24).show()"
   ]
  },
  {
   "cell_type": "code",
   "execution_count": null,
   "id": "d3a1ece4",
   "metadata": {},
   "outputs": [],
   "source": [
    "df_flights = df_flights.withColumn('hour',\n",
    "                                   F.when(F.col('hour') == 24, 0)\n",
    "                                    .otherwise(F.col('hour'))\n",
    "                                  )\n",
    " \n",
    "df_flights.filter(F.col('hour') == 24).show()"
   ]
  },
  {
   "cell_type": "code",
   "execution_count": null,
   "id": "3c5a1c32",
   "metadata": {},
   "outputs": [],
   "source": [
    "df_flights.groupBy(\"hour\").count().orderBy(F.col('hour')).show(999)"
   ]
  },
  {
   "cell_type": "markdown",
   "id": "7a872e2c",
   "metadata": {},
   "source": [
    "# -----------------------------------------------------------------------------------------------------------\n",
    "## 3."
   ]
  },
  {
   "cell_type": "code",
   "execution_count": null,
   "id": "fa6ab520",
   "metadata": {},
   "outputs": [],
   "source": [
    "df_flights.filter(F.col('hour').isNull()).show()"
   ]
  },
  {
   "cell_type": "code",
   "execution_count": null,
   "id": "6b3f3226",
   "metadata": {},
   "outputs": [],
   "source": [
    "df_flights = df_flights.withColumn(\"dep_datetime\", F.expr(\"make_timestamp(year, month, day, hour, minute, 00)\"))\n",
    "\n",
    "df_flights.show(vertical = True, truncate = False)"
   ]
  },
  {
   "cell_type": "markdown",
   "id": "ead82217",
   "metadata": {},
   "source": [
    "# -----------------------------------------------------------------------------------------------------------\n",
    "## 4."
   ]
  },
  {
   "cell_type": "code",
   "execution_count": null,
   "id": "b566345e",
   "metadata": {},
   "outputs": [],
   "source": [
    "df_flights.filter(F.col('dep_time') == 'NA').show(5)\n",
    "df_flights.where(F.col('dep_time') == 'NA').count()"
   ]
  },
  {
   "cell_type": "code",
   "execution_count": null,
   "id": "18d3c1d8",
   "metadata": {},
   "outputs": [],
   "source": [
    "df_flights = df_flights.withColumn('dep_time',\n",
    "                                   F.when(F.col('dep_time') == 'NA', F.concat(F.col('hour'), F.lpad(F.col('minute'), 2, '0')))\n",
    "                                    .otherwise(F.col('dep_time'))\n",
    "                                  ) \n",
    "\n",
    "df_flights.filter(F.col('dep_time') == 'NA').show()\n",
    "df_flights.filter(F.col('dep_time') < 1).show(5)"
   ]
  },
  {
   "cell_type": "code",
   "execution_count": null,
   "id": "ca14ad47",
   "metadata": {},
   "outputs": [],
   "source": [
    "df_flights.groupBy('dep_time').count().orderBy(F.col('dep_time')).show()"
   ]
  },
  {
   "cell_type": "markdown",
   "id": "4094fc67",
   "metadata": {},
   "source": [
    "# -----------------------------------------------------------------------------------------------------------\n",
    "## 5."
   ]
  },
  {
   "cell_type": "code",
   "execution_count": null,
   "id": "f4cd660c",
   "metadata": {},
   "outputs": [],
   "source": [
    "df_flights.filter(F.col('dep_delay').isNull()).show(10)\n",
    "df_flights.filter(F.col('dep_delay').isNull()).count()"
   ]
  },
  {
   "cell_type": "code",
   "execution_count": null,
   "id": "40688f2d",
   "metadata": {},
   "outputs": [],
   "source": [
    "df_flights = df_flights.withColumn('dep_delay',\n",
    "                                   F.when(F.col('dep_delay').isNull(), 0)\n",
    "                                    .otherwise(F.col('dep_delay'))\n",
    "                                  ) \n",
    "\n",
    "df_flights.filter(F.col('dep_delay').isNull()).show()\n",
    "df_flights.filter(F.col('dep_delay').isNull()).count()\n",
    "df_flights.filter(F.col('dep_delay') == 0).count()"
   ]
  },
  {
   "cell_type": "code",
   "execution_count": null,
   "id": "321b50e7",
   "metadata": {},
   "outputs": [],
   "source": [
    "df_flights.groupBy(\"dep_delay\").count().orderBy(F.col('dep_delay')).show()"
   ]
  },
  {
   "cell_type": "markdown",
   "id": "2c1f3bc9",
   "metadata": {},
   "source": [
    "# -----------------------------------------------------------------------------------------------------------\n",
    "## 6."
   ]
  },
  {
   "cell_type": "code",
   "execution_count": null,
   "id": "d5c81765",
   "metadata": {},
   "outputs": [],
   "source": [
    "df_flights.filter(F.col('arr_delay').isNull()).show(10)\n",
    "df_flights.filter(F.col('arr_delay').isNull()).count()"
   ]
  },
  {
   "cell_type": "code",
   "execution_count": null,
   "id": "18398a22",
   "metadata": {},
   "outputs": [],
   "source": [
    "df_flights = df_flights.withColumn('arr_delay',\n",
    "                                   F.when(F.col('arr_delay').isNull(), 0)\n",
    "                                    .otherwise(F.col('arr_delay'))\n",
    "                                  )\n",
    " \n",
    "df_flights.filter(F.col('arr_delay').isNull()).show()\n",
    "df_flights.filter(F.col('arr_delay') == 0).count()"
   ]
  },
  {
   "cell_type": "code",
   "execution_count": null,
   "id": "dda38794",
   "metadata": {},
   "outputs": [],
   "source": [
    "df_flights.groupBy(\"arr_delay\").count().orderBy(F.col('arr_delay')).show()"
   ]
  },
  {
   "cell_type": "markdown",
   "id": "4665fd51",
   "metadata": {},
   "source": [
    "# -----------------------------------------------------------------------------------------------------------\n",
    "## 7."
   ]
  },
  {
   "cell_type": "code",
   "execution_count": null,
   "id": "a188f62c",
   "metadata": {},
   "outputs": [],
   "source": [
    "df_flights = df_flights.drop('year', 'month', 'day', 'hour', 'minute')\n",
    "\n",
    "df_flights.show(10)"
   ]
  },
  {
   "cell_type": "markdown",
   "id": "397e82b3",
   "metadata": {},
   "source": [
    "# -----------------------------------------------------------------------------------------------------------\n",
    "## 8."
   ]
  },
  {
   "cell_type": "code",
   "execution_count": null,
   "id": "74bfabe9",
   "metadata": {},
   "outputs": [],
   "source": [
    "df_flights = df_flights.withColumn('air_time_projected', (F.col('distance') * 0.1 + 20).cast('int'))"
   ]
  },
  {
   "cell_type": "code",
   "execution_count": null,
   "id": "3848274b",
   "metadata": {},
   "outputs": [],
   "source": [
    "df_flights.show(truncate = 10)\n",
    "df_flights.groupBy(\"air_time_projected\").count().orderBy(F.col('air_time_projected')).show()"
   ]
  },
  {
   "cell_type": "code",
   "execution_count": null,
   "id": "18a4888e",
   "metadata": {},
   "outputs": [],
   "source": []
  }
 ],
 "metadata": {
  "kernelspec": {
   "display_name": "Python 3 (ipykernel)",
   "language": "python",
   "name": "python3"
  },
  "language_info": {
   "codemirror_mode": {
    "name": "ipython",
    "version": 3
   },
   "file_extension": ".py",
   "mimetype": "text/x-python",
   "name": "python",
   "nbconvert_exporter": "python",
   "pygments_lexer": "ipython3",
   "version": "3.9.7"
  }
 },
 "nbformat": 4,
 "nbformat_minor": 5
}
