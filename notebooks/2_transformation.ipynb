{
 "cells": [
  {
   "cell_type": "code",
   "execution_count": 1,
   "id": "ccefd621",
   "metadata": {},
   "outputs": [
    {
     "name": "stdout",
     "output_type": "stream",
     "text": [
      "Requirement already satisfied: pyspark in c:\\users\\diosilva\\anaconda3\\lib\\site-packages (3.2.1)\n",
      "Requirement already satisfied: py4j==0.10.9.3 in c:\\users\\diosilva\\anaconda3\\lib\\site-packages (from pyspark) (0.10.9.3)\n",
      "Requirement already satisfied: findspark in c:\\users\\diosilva\\anaconda3\\lib\\site-packages (2.0.1)\n"
     ]
    }
   ],
   "source": [
    "# Installing required packages\n",
    "!pip install pyspark\n",
    "!pip install findspark"
   ]
  },
  {
   "cell_type": "code",
   "execution_count": 2,
   "id": "c4881baa",
   "metadata": {},
   "outputs": [],
   "source": [
    "# Importa e inicia o findspark\n",
    "import findspark\n",
    "findspark.init()"
   ]
  },
  {
   "cell_type": "code",
   "execution_count": 3,
   "id": "e5911345",
   "metadata": {},
   "outputs": [],
   "source": [
    "# Importa todos os módulos necessários\n",
    "from pyspark import SparkContext, SparkConf\n",
    "from pyspark.sql import SparkSession\n",
    "from pyspark.sql import functions as F\n",
    "from pyspark.sql.types import StructType, StructField, StringType, IntegerType, FloatType"
   ]
  },
  {
   "cell_type": "code",
   "execution_count": 4,
   "id": "a6cb2f5d",
   "metadata": {},
   "outputs": [],
   "source": [
    "# Criar o contexto do spark\n",
    "sc = SparkContext()\n",
    "\n",
    "# Instancia o criador de sessao do spark\n",
    "spark = (SparkSession.builder\n",
    "                     .master(\"local[7]\") # usa a márquina local com 7 nucleos\n",
    "                     .appName(\"Aceleração PySpark - Capgemini\"))"
   ]
  },
  {
   "cell_type": "code",
   "execution_count": 5,
   "id": "6cbdc397",
   "metadata": {},
   "outputs": [],
   "source": [
    "# Cria o Schema de todos os datasets\n",
    "schema_airports = StructType([\n",
    "    StructField(\"faa\",  StringType(),  True),\n",
    "    StructField(\"name\", StringType(),  True),\n",
    "    StructField(\"lat\",  FloatType(),   True),\n",
    "    StructField(\"lon\",  FloatType(),   True),\n",
    "    StructField(\"alt\",  IntegerType(), True),\n",
    "    StructField(\"tz\",   IntegerType(), True),\n",
    "    StructField(\"dst\",  StringType(),  True)\n",
    "])\n",
    "\n",
    "schema_planes = StructType([\n",
    "    StructField('tailnum', StringType(), True),\n",
    "    StructField('year', IntegerType(), True),\n",
    "    StructField('type', StringType(), True),\n",
    "    StructField('manufacturer', StringType(), True),\n",
    "    StructField('model', StringType(), True),\n",
    "    StructField('engines', IntegerType(), True),\n",
    "    StructField('seats', IntegerType(), True),\n",
    "    StructField('speed', IntegerType(), True),\n",
    "    StructField('engine', StringType(), True)\n",
    "])\n",
    "\n",
    "schema_flights = StructType([\n",
    "    StructField('year', IntegerType(), True),\n",
    "    StructField('month', IntegerType(), True),\n",
    "    StructField('day', IntegerType(), True),\n",
    "    StructField('dep_time', StringType(), True),\n",
    "    StructField('dep_delay', IntegerType(), True),\n",
    "    StructField('arr_time', StringType(), True),\n",
    "    StructField('arr_delay', IntegerType(), True),\n",
    "    StructField('carrier', StringType(), True),\n",
    "    StructField('tailnum', StringType(), True),\n",
    "    StructField('flight', StringType(), True),\n",
    "    StructField('origin', StringType(), True),\n",
    "    StructField('dest', StringType(), True),\n",
    "    StructField('air_time', IntegerType(), True),\n",
    "    StructField('distance', IntegerType(), True),\n",
    "    StructField('hour', IntegerType(), True),\n",
    "    StructField('minute', IntegerType(), True)\n",
    "])"
   ]
  },
  {
   "cell_type": "code",
   "execution_count": 6,
   "id": "e89ebba3",
   "metadata": {},
   "outputs": [],
   "source": [
    "# Cria os dataframes\n",
    "df_airports = (spark.getOrCreate().read\n",
    "                  .format(\"csv\")\n",
    "                  .option(\"header\", \"true\")\n",
    "                  .schema(schema_airports)\n",
    "                  .load(\"../data/airports.csv\"))\n",
    "\n",
    "df_planes = (spark.getOrCreate().read\n",
    "                  .format(\"csv\")\n",
    "                  .option(\"header\", \"true\")\n",
    "                  .schema(schema_planes)\n",
    "                  .load(\"../data/planes.csv\"))\n",
    "\n",
    "df_flights = (spark.getOrCreate().read\n",
    "                  .format(\"csv\")\n",
    "                  .option(\"header\", \"true\")\n",
    "                  .schema(schema_flights)\n",
    "                  .load(\"../data/flights.csv\"))"
   ]
  },
  {
   "cell_type": "code",
   "execution_count": 7,
   "id": "c9e6f55f",
   "metadata": {},
   "outputs": [
    {
     "name": "stdout",
     "output_type": "stream",
     "text": [
      "+---+--------------------+---------+---------+----+---+---+\n",
      "|faa|                name|      lat|      lon| alt| tz|dst|\n",
      "+---+--------------------+---------+---------+----+---+---+\n",
      "|04G|   Lansdowne Airport|41.130474|-80.61958|1044| -5|  A|\n",
      "|06A|Moton Field Munic...| 32.46057|-85.68003| 264| -5|  A|\n",
      "|06C| Schaumburg Regional| 41.98934|-88.10124| 801| -6|  A|\n",
      "+---+--------------------+---------+---------+----+---+---+\n",
      "only showing top 3 rows\n",
      "\n",
      "+-------+----+--------------------+----------------+--------+-------+-----+-----+---------+\n",
      "|tailnum|year|                type|    manufacturer|   model|engines|seats|speed|   engine|\n",
      "+-------+----+--------------------+----------------+--------+-------+-----+-----+---------+\n",
      "| N102UW|1998|Fixed wing multi ...|AIRBUS INDUSTRIE|A320-214|      2|  182| null|Turbo-fan|\n",
      "| N103US|1999|Fixed wing multi ...|AIRBUS INDUSTRIE|A320-214|      2|  182| null|Turbo-fan|\n",
      "| N104UW|1999|Fixed wing multi ...|AIRBUS INDUSTRIE|A320-214|      2|  182| null|Turbo-fan|\n",
      "+-------+----+--------------------+----------------+--------+-------+-----+-----+---------+\n",
      "only showing top 3 rows\n",
      "\n",
      "+----+-----+---+--------+---------+--------+---------+-------+-------+------+------+----+--------+--------+----+------+\n",
      "|year|month|day|dep_time|dep_delay|arr_time|arr_delay|carrier|tailnum|flight|origin|dest|air_time|distance|hour|minute|\n",
      "+----+-----+---+--------+---------+--------+---------+-------+-------+------+------+----+--------+--------+----+------+\n",
      "|2014|   12|  8|     658|       -7|     935|       -5|     VX| N846VA|  1780|   SEA| LAX|     132|     954|   6|    58|\n",
      "|2014|    1| 22|    1040|        5|    1505|        5|     AS| N559AS|   851|   SEA| HNL|     360|    2677|  10|    40|\n",
      "|2014|    3|  9|    1443|       -2|    1652|        2|     VX| N847VA|   755|   SEA| SFO|     111|     679|  14|    43|\n",
      "+----+-----+---+--------+---------+--------+---------+-------+-------+------+------+----+--------+--------+----+------+\n",
      "only showing top 3 rows\n",
      "\n"
     ]
    }
   ],
   "source": [
    "df_airports.show(3)\n",
    "df_planes.show(3)\n",
    "df_flights.show(3)"
   ]
  },
  {
   "cell_type": "code",
   "execution_count": null,
   "id": "dbb27736",
   "metadata": {},
   "outputs": [],
   "source": [
    "# Função de regex\n",
    "def regex_definition(element):\n",
    "    return r'|'.join(map(lambda x : f'.*{x}*', element))"
   ]
  },
  {
   "cell_type": "markdown",
   "id": "d7053392",
   "metadata": {},
   "source": [
    "# -----------------------------------------------------------------------------------------------------------\n",
    "# Transformação airports\n",
    "# -----------------------------------------------------------------------------------------------------------\n",
    "## 1."
   ]
  },
  {
   "cell_type": "code",
   "execution_count": null,
   "id": "05162a69",
   "metadata": {},
   "outputs": [],
   "source": [
    "df_airports.filter(F.col('alt') < 0).show()"
   ]
  },
  {
   "cell_type": "code",
   "execution_count": null,
   "id": "3f6dd8e2",
   "metadata": {},
   "outputs": [],
   "source": [
    "df_airports = df_airports.withColumn('alt', \n",
    "                                     F.when(F.col('alt') < 0, 0)\n",
    "                                      .otherwise(F.col('alt'))\n",
    "                                    )"
   ]
  },
  {
   "cell_type": "code",
   "execution_count": null,
   "id": "849457fe",
   "metadata": {},
   "outputs": [],
   "source": [
    "df_airports.filter(F.col('alt') == 0).count()"
   ]
  },
  {
   "cell_type": "code",
   "execution_count": null,
   "id": "d3c51fdf",
   "metadata": {},
   "outputs": [],
   "source": [
    "df_airports.groupBy(F.col('alt')).count().orderBy(F.col('alt')).show()"
   ]
  },
  {
   "cell_type": "markdown",
   "id": "2161e854",
   "metadata": {},
   "source": [
    "# -----------------------------------------------------------------------------------------------------------\n",
    "## 2."
   ]
  },
  {
   "cell_type": "code",
   "execution_count": null,
   "id": "3a997501",
   "metadata": {},
   "outputs": [],
   "source": [
    "df_airports.filter(F.col('tz').between(-7, -5)).show(10)"
   ]
  },
  {
   "cell_type": "code",
   "execution_count": null,
   "id": "e7f845f8",
   "metadata": {},
   "outputs": [],
   "source": [
    "df_airports = df_airports.withColumn('dst',\n",
    "                                     F.when(F.col('tz').between(-7, -5), 'A')\n",
    "                                      .otherwise(F.col('dst'))\n",
    "                                    )"
   ]
  },
  {
   "cell_type": "code",
   "execution_count": null,
   "id": "bb2f45b9",
   "metadata": {},
   "outputs": [],
   "source": [
    "df_airports.filter(F.col('tz').between(-7, -5)).show(10)\n",
    "df_airports.groupBy(\"dst\").count().show()"
   ]
  },
  {
   "cell_type": "code",
   "execution_count": null,
   "id": "03faefd8",
   "metadata": {},
   "outputs": [],
   "source": [
    "df_airports.groupBy(F.col('dst')).count().show(999)"
   ]
  },
  {
   "cell_type": "markdown",
   "id": "f08e5bc4",
   "metadata": {},
   "source": [
    "# -----------------------------------------------------------------------------------------------------------\n",
    "## 3."
   ]
  },
  {
   "cell_type": "code",
   "execution_count": null,
   "id": "ab2a93ff",
   "metadata": {},
   "outputs": [],
   "source": [
    "df_airports.filter(F.col('dst') == 'U').show()"
   ]
  },
  {
   "cell_type": "code",
   "execution_count": null,
   "id": "422eb74c",
   "metadata": {},
   "outputs": [],
   "source": [
    "df_airports = df_airports.withColumn('dst',\n",
    "                                     F.when(F.col('dst') == 'U', 'A')\n",
    "                                      .otherwise(F.col('dst'))\n",
    "                                    )"
   ]
  },
  {
   "cell_type": "code",
   "execution_count": null,
   "id": "17fdca9f",
   "metadata": {},
   "outputs": [],
   "source": [
    "df_airports.filter(F.col('faa') == 'GCW').show()\n",
    "df_airports.filter(F.col('dst') == 'A').count()\n",
    "df_airports.groupBy(\"dst\").count().show()"
   ]
  },
  {
   "cell_type": "markdown",
   "id": "52eba71d",
   "metadata": {},
   "source": [
    "# -----------------------------------------------------------------------------------------------------------\n",
    "## 4."
   ]
  },
  {
   "cell_type": "code",
   "execution_count": null,
   "id": "50644208",
   "metadata": {},
   "outputs": [],
   "source": [
    "# Alaska\n",
    "df_airports.filter(F.col('lon') < -124).show(5)\n",
    "\n",
    "# Mainland-west\n",
    "df_airports.filter(F.col('lon').between(-124, -95)).show(5)\n",
    "\n",
    "# Mainland-east\n",
    "df_airports.filter(F.col('lon').between(-95, -59)).show(5)\n",
    "\n",
    "# Offshore\n",
    "df_airports.filter((F.col('lon') > -50) | (F.col('lat') < 24)).show(5)"
   ]
  },
  {
   "cell_type": "code",
   "execution_count": null,
   "id": "5d763791",
   "metadata": {},
   "outputs": [],
   "source": [
    "df_airports = df_airports.withColumn('region',\n",
    "                                      F.when(F.col('lon') < -124,                        'ALASKA')\n",
    "                                       .when(F.col('lon').between(-124, -95),            'MAINLAND-WEST')\n",
    "                                       .when(F.col('lon').between(-95, -54),             'MAINLAND-EAST')\n",
    "                                       .when((F.col('lon') > -50) | (F.col('lat') > 24), 'OFFSHORE')\n",
    "                                       .otherwise('NaN')\n",
    "                                    )\n",
    "\n",
    "df_airports.show(10)"
   ]
  },
  {
   "cell_type": "code",
   "execution_count": null,
   "id": "84011fbb",
   "metadata": {},
   "outputs": [],
   "source": [
    "df_airports.groupBy(\"region\").count().show()"
   ]
  },
  {
   "cell_type": "markdown",
   "id": "6723b2f1",
   "metadata": {},
   "source": [
    "# -----------------------------------------------------------------------------------------------------------\n",
    "## 5."
   ]
  },
  {
   "cell_type": "code",
   "execution_count": null,
   "id": "77927f14",
   "metadata": {},
   "outputs": [],
   "source": [
    "LIST_AP  = ['Airport', 'Tradeport', 'Heliport', 'Airpor', 'Arpt']\n",
    "REGEX_AP = regex_definition(LIST_AP)\n",
    "\n",
    "LIST_AD  = ['Aerodrome']\n",
    "REGEX_AD = regex_definition(LIST_AD)\n",
    "\n",
    "LIST_AK  = ['Airpark', 'Aero Park']\n",
    "REGEX_AK = regex_definition(LIST_AK)\n",
    "\n",
    "LIST_AS  = ['Station', 'Air Station']\n",
    "REGEX_AS = regex_definition(LIST_AS)\n",
    "\n",
    "LIST_FL  = ['Field', 'Fld']\n",
    "REGEX_FL = regex_definition(LIST_FL)"
   ]
  },
  {
   "cell_type": "code",
   "execution_count": null,
   "id": "afbeb2ee",
   "metadata": {},
   "outputs": [],
   "source": [
    "df_airports = df_airports.withColumn('type',\n",
    "                                     F.when(F.col('name').rlike(REGEX_AP),  'AP')\n",
    "                                       .when(F.col('name').rlike(REGEX_AD), 'AD')\n",
    "                                       .when(F.col('name').rlike(REGEX_AK), 'AK')\n",
    "                                       .when(F.col('name').rlike(REGEX_AS), 'AS')\n",
    "                                       .when(F.col('name').rlike(REGEX_FL), 'FL')\n",
    "                                       .otherwise('NaN')\n",
    "                                    )"
   ]
  },
  {
   "cell_type": "code",
   "execution_count": null,
   "id": "9421b6ae",
   "metadata": {},
   "outputs": [],
   "source": [
    "df_airports.filter((F.col('name').rlike('(Airport).*(Field)'))).show(10, truncate=False)\n",
    "df_airports.groupBy(\"type\").count().show()"
   ]
  },
  {
   "cell_type": "markdown",
   "id": "9f0c19b2",
   "metadata": {},
   "source": [
    "# -----------------------------------------------------------------------------------------------------------\n",
    "## 6."
   ]
  },
  {
   "cell_type": "code",
   "execution_count": null,
   "id": "84193581",
   "metadata": {},
   "outputs": [],
   "source": [
    "df_airports.filter(F.col('name').rlike('Afs')).show(10, False)"
   ]
  },
  {
   "cell_type": "code",
   "execution_count": null,
   "id": "6cd0bcea",
   "metadata": {},
   "outputs": [],
   "source": [
    "LIST_MILITARY  = ['Base', 'Aaf', 'Afs', 'Ahp', 'Afb', 'LRRS', 'Lrrs', 'Arb', 'Naf', 'NAS', 'Nas', 'Jrb', 'Ns', 'As', 'Cgas', 'Angb']\n",
    "REGEX_MILITARY = r'|'.join(map(lambda x : f'^{x} | {x} | {x}$', LIST_MILITARY))"
   ]
  },
  {
   "cell_type": "code",
   "execution_count": null,
   "id": "ee750883",
   "metadata": {},
   "outputs": [],
   "source": [
    "df_airports = df_airports.withColumn('military',\n",
    "                                     F.when(F.col('name').rlike(REGEX_MILITARY), True)\n",
    "                                      .otherwise(False)\n",
    "                                    )"
   ]
  },
  {
   "cell_type": "code",
   "execution_count": null,
   "id": "cac98e2a",
   "metadata": {},
   "outputs": [],
   "source": [
    "df_airports.filter(F.col('military') == True).show(10, False)\n",
    "df_airports.filter(F.col('name').rlike('As')).show(50, False)\n",
    "df_airports.groupBy(\"military\").count().show()"
   ]
  },
  {
   "cell_type": "markdown",
   "id": "9fbac14a",
   "metadata": {},
   "source": [
    "# -----------------------------------------------------------------------------------------------------------\n",
    "## 7."
   ]
  },
  {
   "cell_type": "code",
   "execution_count": null,
   "id": "e287daa0",
   "metadata": {},
   "outputs": [],
   "source": [
    "df_airports.filter(F.col('name').rlike('(City).*(Intl)')).show(10, False)"
   ]
  },
  {
   "cell_type": "code",
   "execution_count": null,
   "id": "d5795a11",
   "metadata": {},
   "outputs": [],
   "source": [
    "LIST_I  = ['International', 'Intl', 'Intercontinental']\n",
    "REGEX_I = regex_definition(LIST_I)\n",
    "\n",
    "LIST_N  = ['National', 'Natl']\n",
    "REGEX_N = regex_definition(LIST_N)\n",
    "\n",
    "LIST_R  = ['Regional', 'Reigonal', 'Rgnl', 'County', 'Metro', 'Metropolitan']\n",
    "REGEX_R = regex_definition(LIST_R)\n",
    "\n",
    "LIST_M  = ['Municipal', 'Muni', 'City']\n",
    "REGEX_M = regex_definition(LIST_M)"
   ]
  },
  {
   "cell_type": "code",
   "execution_count": null,
   "id": "b910740d",
   "metadata": {},
   "outputs": [],
   "source": [
    "df_airports = df_airports.withColumn('administration',\n",
    "                                     F.when(F.col('name').rlike(REGEX_I), 'I')\n",
    "                                      .when(F.col('name').rlike(REGEX_N), 'N')\n",
    "                                      .when(F.col('name').rlike(REGEX_R), 'R')\n",
    "                                      .when(F.col('name').rlike(REGEX_M), 'M')\n",
    "                                      .otherwise('NaN')\n",
    "                                    )\n",
    "\n",
    "df_airports.show(10, False)"
   ]
  },
  {
   "cell_type": "code",
   "execution_count": null,
   "id": "acb97ece",
   "metadata": {},
   "outputs": [],
   "source": [
    "df_airports.filter(F.col('administration') == 'I').show(10, False)\n",
    "df_airports.groupBy(\"administration\").count().show()"
   ]
  },
  {
   "cell_type": "markdown",
   "id": "370aeef8",
   "metadata": {},
   "source": [
    "# -----------------------------------------------------------------------------------------------------------\n",
    "# Transformação planes\n",
    "# -----------------------------------------------------------------------------------------------------------\n",
    "## 1."
   ]
  },
  {
   "cell_type": "code",
   "execution_count": null,
   "id": "340f0d1f",
   "metadata": {},
   "outputs": [],
   "source": [
    "df_planes = df_planes.withColumn('tailchar', F.regexp_replace(F.col('tailnum'), '[0-9]|^N', \"\"))\n",
    "\n",
    "df_planes.show()"
   ]
  },
  {
   "cell_type": "code",
   "execution_count": null,
   "id": "46b2be53",
   "metadata": {},
   "outputs": [],
   "source": [
    "df_planes.groupBy(\"tailchar\").count().show()"
   ]
  },
  {
   "cell_type": "markdown",
   "id": "ddedd833",
   "metadata": {},
   "source": [
    "# -----------------------------------------------------------------------------------------------------------\n",
    "## 2."
   ]
  },
  {
   "cell_type": "code",
   "execution_count": null,
   "id": "6b6007ba",
   "metadata": {},
   "outputs": [],
   "source": [
    "df_planes.filter(F.col('year') == 0).show()"
   ]
  },
  {
   "cell_type": "code",
   "execution_count": null,
   "id": "f88b2e4e",
   "metadata": {},
   "outputs": [],
   "source": [
    "df_planes = df_planes.withColumn('year',\n",
    "                                 F.when(F.col('year') == 0, 1996)\n",
    "                                  .otherwise(F.col('year')))\n",
    " \n",
    "df_planes.filter(F.col('year') == 0).show()\n",
    "df_planes.groupBy(\"year\").count().show()"
   ]
  },
  {
   "cell_type": "markdown",
   "id": "a2fcbcb6",
   "metadata": {},
   "source": [
    "# -----------------------------------------------------------------------------------------------------------\n",
    "## 3."
   ]
  },
  {
   "cell_type": "code",
   "execution_count": null,
   "id": "b6afbd8e",
   "metadata": {},
   "outputs": [],
   "source": [
    "df_planes.filter(F.col('year').isNull()).show(10)\n",
    "df_planes.filter(F.col('year').isNull()).count()"
   ]
  },
  {
   "cell_type": "code",
   "execution_count": null,
   "id": "01c4a775",
   "metadata": {},
   "outputs": [],
   "source": [
    "df_planes_order = df_planes.orderBy(F.col('manufacturer'), F.col('model'), F.col('year')).filter(F.col('year').isNotNull())\n",
    "df_planes_order.show(10)"
   ]
  },
  {
   "cell_type": "code",
   "execution_count": null,
   "id": "4d90efe8",
   "metadata": {},
   "outputs": [],
   "source": [
    "df_planes.filter(F.col('manufacturer') == 'LAMBERT RICHARD').show()"
   ]
  },
  {
   "cell_type": "code",
   "execution_count": null,
   "id": "e9760a99",
   "metadata": {},
   "outputs": [],
   "source": [
    "# Reduz o dataframe\n",
    "df_yeara = df_planes_order.groupBy(\"manufacturer\", \"model\").min(\"year\").orderBy(F.col('manufacturer'), F.col('model'))\n",
    "df_yeara.show()"
   ]
  },
  {
   "cell_type": "code",
   "execution_count": null,
   "id": "7eb82179",
   "metadata": {},
   "outputs": [],
   "source": [
    "# Reduz ainda mais\n",
    "df_yearb = df_yeara.groupBy('manufacturer').min('min(year)').orderBy(F.col('manufacturer'))\n",
    "df_yearb.show()"
   ]
  },
  {
   "cell_type": "code",
   "execution_count": null,
   "id": "e3e5cfb1",
   "metadata": {},
   "outputs": [],
   "source": [
    "# Renomeando as colunar do dataframe year_a e de year_b\n",
    "df_yeara = (df_yeara.withColumnRenamed('manufacturer', 'manuf_a')\n",
    "                    .withColumnRenamed('model', 'model_a')\n",
    "                    .withColumnRenamed('min(year)', 'year_a'))\n",
    "\n",
    "df_yearb = (df_yearb.withColumnRenamed('manufacturer', 'manuf_b')\n",
    "                    .withColumnRenamed('min(min(year))', 'year_b'))"
   ]
  },
  {
   "cell_type": "code",
   "execution_count": null,
   "id": "ecb067ae",
   "metadata": {},
   "outputs": [],
   "source": [
    "# Unindo os dataframe df_planes + df_yeara + df_yearb \n",
    "df_join = df_planes.join(df_yeara, \n",
    "                        (df_planes['manufacturer'] == df_yeara['manuf_a']) &\n",
    "                        (df_planes['model'] == df_yeara['model_a']),\n",
    "                        'left')\n",
    "\n",
    "df_join = df_join.join(df_yearb,\n",
    "                       df_join['manufacturer'] == df_yearb['manuf_b'],\n",
    "                       'left')"
   ]
  },
  {
   "cell_type": "code",
   "execution_count": null,
   "id": "a07d1fbd",
   "metadata": {},
   "outputs": [],
   "source": [
    "# Verificando se a união ocorreu corretamente\n",
    "df_join.show(3, 7)\n",
    "df_join.filter(F.col('year').isNull()).show(20, 7)"
   ]
  },
  {
   "cell_type": "code",
   "execution_count": null,
   "id": "75a66b9f",
   "metadata": {},
   "outputs": [],
   "source": [
    "# aplicando as mudanças na coluna year\n",
    "df_join = df_join.withColumn('year',\n",
    "                              F.when((F.col('year').isNull()) &\n",
    "                                     (F.col('manuf_a').isNotNull()) &\n",
    "                                     (F.col('model_a').isNotNull()), F.col('year_a'))\n",
    "                               .when((F.col('year').isNull()) &\n",
    "                                     (F.col('manuf_b').isNotNull()), F.col('year_b'))\n",
    "                               .otherwise(F.col('year'))\n",
    "                            )\n",
    "\n",
    "df_join.filter(F.col('year').isNull()).show(truncate = 7)"
   ]
  },
  {
   "cell_type": "code",
   "execution_count": null,
   "id": "ab055fca",
   "metadata": {},
   "outputs": [],
   "source": [
    "df_planes = df_join.drop('manuf_a', \n",
    "                         'model_a', \n",
    "                         'year_a', \n",
    "                         'manuf_b',\n",
    "                         'year_b')"
   ]
  },
  {
   "cell_type": "code",
   "execution_count": null,
   "id": "017a5343",
   "metadata": {},
   "outputs": [],
   "source": [
    "df_planes.filter(F.col('year').isNull()).show()"
   ]
  },
  {
   "cell_type": "markdown",
   "id": "7efa641c",
   "metadata": {},
   "source": [
    "# -----------------------------------------------------------------------------------------------------------\n",
    "## 4."
   ]
  },
  {
   "cell_type": "code",
   "execution_count": null,
   "id": "b3ae9f66",
   "metadata": {},
   "outputs": [],
   "source": [
    "ANO_ATUAL = 2022\n",
    "\n",
    "df_planes = df_planes.withColumn('age',\n",
    "                                 F.when(F.col('year').isNotNull(), ANO_ATUAL - F.col('year'))\n",
    "                                  .otherwise(None)\n",
    "                                ) \n",
    "\n",
    "df_planes.show()"
   ]
  },
  {
   "cell_type": "code",
   "execution_count": null,
   "id": "0e367c87",
   "metadata": {},
   "outputs": [],
   "source": [
    "df_planes.groupBy(\"age\").count().orderBy(F.col('age')).show()"
   ]
  },
  {
   "cell_type": "markdown",
   "id": "c9654f80",
   "metadata": {},
   "source": [
    "# -----------------------------------------------------------------------------------------------------------\n",
    "## 5."
   ]
  },
  {
   "cell_type": "code",
   "execution_count": null,
   "id": "74a4e230",
   "metadata": {},
   "outputs": [],
   "source": [
    "df_planes = df_planes.withColumn('type',\n",
    "                                 F.when(F.col('type') == 'Fixed wing multi engine',  'MULTI_ENG')\n",
    "                                  .when(F.col('type') == 'Fixed wing single engine', 'SINGLE_ENG')\n",
    "                                  .when(F.col('type') == 'Rotorcraft',               'ROTORCRAFT')\n",
    "                                  .otherwise(F.col('type'))\n",
    "                                )\n",
    "\n",
    "df_planes.show()"
   ]
  },
  {
   "cell_type": "code",
   "execution_count": null,
   "id": "2e958b99",
   "metadata": {},
   "outputs": [],
   "source": [
    "df_planes.groupBy(\"type\").count().orderBy(F.col('type')).show(999)"
   ]
  },
  {
   "cell_type": "markdown",
   "id": "1f69452b",
   "metadata": {},
   "source": [
    "# -----------------------------------------------------------------------------------------------------------\n",
    "## 6."
   ]
  },
  {
   "cell_type": "code",
   "execution_count": null,
   "id": "1044f367",
   "metadata": {},
   "outputs": [],
   "source": [
    "df_planes.filter(F.col('manufacturer').rlike('BELL')).show(truncate=False)"
   ]
  },
  {
   "cell_type": "code",
   "execution_count": null,
   "id": "03ea4932",
   "metadata": {},
   "outputs": [],
   "source": [
    "# Realiza as mudanças\n",
    "df_planes = df_planes.withColumn('manufacturer',\n",
    "            F.when(F.col('manufacturer').rlike('AIRBUS'),              'AIRBUS')\n",
    "             .when(F.col('manufacturer').rlike('BOEING'),              'BOEING')\n",
    "             .when(F.col('manufacturer').rlike('BOMBARDIER'),          'BOMBARDIER')\n",
    "             .when(F.col('manufacturer').rlike('CESSNA'),              'CESSNA')\n",
    "             .when(F.col('manufacturer').rlike('EMBRAER'),             'EMBRAER')\n",
    "             .when(F.col('manufacturer').rlike('SIKORSKY'),            'SIKORSKY')\n",
    "             .when(F.col('manufacturer').rlike('CANADAIR'),            'CANADAIR')\n",
    "             .when(F.col('manufacturer').rlike('PIPER'),               'PIPER')\n",
    "             .when(F.col('manufacturer').rlike('MCDONNELL DOUGLAS'),   'MCDONNELL DOUGLAS')\n",
    "             .when(F.col('manufacturer').rlike('CIRRUS'),              'CIRRUS')\n",
    "             .when(F.col('manufacturer').rlike('BELL'),                'BELL')\n",
    "             .when(F.col('manufacturer').rlike('KILDALL GARY'),        'KILDALL GARY')\n",
    "             .when(F.col('manufacturer').rlike('LAMBERT RICHARD'),     'LAMBERT RICHARD')\n",
    "             .when(F.col('manufacturer').rlike('BARKER JACK'),         'BARKER JACK')\n",
    "             .when(F.col('manufacturer').rlike('ROBINSON HELICOPTER'), 'ROBINSON HELICOPTER')\n",
    "             .when(F.col('manufacturer').rlike('GULFSTREAM'),          'GULFSTREAM')\n",
    "             .when(F.col('manufacturer').rlike('MARZ BARRY'),          'MARZ BARRY'))\n",
    "\n",
    "df_planes.show()"
   ]
  },
  {
   "cell_type": "code",
   "execution_count": null,
   "id": "f59f3850",
   "metadata": {},
   "outputs": [],
   "source": [
    "df_planes.groupBy(\"manufacturer\").count().orderBy(F.col('manufacturer')).show(999)"
   ]
  },
  {
   "cell_type": "code",
   "execution_count": null,
   "id": "1379b963",
   "metadata": {},
   "outputs": [],
   "source": []
  },
  {
   "cell_type": "markdown",
   "id": "32b6ebab",
   "metadata": {},
   "source": [
    "# -----------------------------------------------------------------------------------------------------------\n",
    "## 7."
   ]
  },
  {
   "cell_type": "code",
   "execution_count": null,
   "id": "efd811d9",
   "metadata": {},
   "outputs": [],
   "source": [
    "df_planes.filter(F.col('model').rlike('[(]')).show()\n",
    "df_planes.filter(F.col('model').rlike('[(]')).count()"
   ]
  },
  {
   "cell_type": "code",
   "execution_count": null,
   "id": "753a70d5",
   "metadata": {},
   "outputs": [],
   "source": [
    "# Retira todos os caracteres que se encontram entre ()\n",
    "REGEX_PS = r'\\s*\\([^()]*\\)\\s*'\n",
    "\n",
    "df_planes = df_planes.withColumn('model', F.regexp_replace(F.col('model'), REGEX_PS, ''))\n",
    "\n",
    "df_planes.show()"
   ]
  },
  {
   "cell_type": "code",
   "execution_count": null,
   "id": "2348aba5",
   "metadata": {},
   "outputs": [],
   "source": [
    "df_planes.filter(F.col('tailnum') == 'N550AA').show()"
   ]
  },
  {
   "cell_type": "code",
   "execution_count": null,
   "id": "dacb3c84",
   "metadata": {},
   "outputs": [],
   "source": [
    "df_planes.filter(F.col('model').rlike('[\\s]')).show()"
   ]
  },
  {
   "cell_type": "markdown",
   "id": "f0bfb70c",
   "metadata": {},
   "source": [
    "# -----------------------------------------------------------------------------------------------------------\n",
    "## 8."
   ]
  },
  {
   "cell_type": "code",
   "execution_count": null,
   "id": "c9c78332",
   "metadata": {},
   "outputs": [],
   "source": [
    "df_planes.filter(F.col('speed').isNull()).show(10)"
   ]
  },
  {
   "cell_type": "code",
   "execution_count": null,
   "id": "13e4e424",
   "metadata": {},
   "outputs": [],
   "source": [
    "df_planes.groupBy('speed').count().show()"
   ]
  },
  {
   "cell_type": "code",
   "execution_count": null,
   "id": "0f37a40d",
   "metadata": {},
   "outputs": [],
   "source": [
    "df_planes = df_planes.withColumn('speed',\n",
    "                                 F.when((F.col('speed').isNull()) &\n",
    "                                        (F.col('seats').isNotNull()), F.ceil(F.expr('seats/0.36')))\n",
    "                                  .otherwise(F.col('speed'))\n",
    "                                )\n",
    "\n",
    "df_planes.filter(F.col('tailnum') == 'N102UW').show()"
   ]
  },
  {
   "cell_type": "code",
   "execution_count": null,
   "id": "2cc5a0bb",
   "metadata": {},
   "outputs": [],
   "source": [
    "df_planes = df_planes.withColumn(\"speed\",\n",
    "                                 F.when(~F.col('speed').between(50, 150), 0)\n",
    "                                  .otherwise(F.col('speed'))\n",
    "                                )"
   ]
  },
  {
   "cell_type": "code",
   "execution_count": null,
   "id": "c4dc6e27",
   "metadata": {},
   "outputs": [],
   "source": [
    "df_planes.groupBy(\"speed\").count().orderBy(F.col('speed')).show(999)\n",
    "df_planes.filter(F.col('speed').isNull()).show()"
   ]
  },
  {
   "cell_type": "markdown",
   "id": "de0816b9",
   "metadata": {},
   "source": [
    "# -----------------------------------------------------------------------------------------------------------\n",
    "## 9."
   ]
  },
  {
   "cell_type": "code",
   "execution_count": null,
   "id": "392358a2",
   "metadata": {},
   "outputs": [],
   "source": [
    "df_planes.filter(F.col('engine') == '4 Cycle').show()"
   ]
  },
  {
   "cell_type": "code",
   "execution_count": null,
   "id": "58712c86",
   "metadata": {},
   "outputs": [],
   "source": [
    "df_planes = df_planes.withColumn('engine_type',\n",
    "                                 F.when(F.col('engine') == 'Turbo-fan',   'FAN')\n",
    "                                  .when(F.col('engine') == 'Turbo-jet',   'JET')\n",
    "                                  .when(F.col('engine') == 'Turbo-prop',  'PROP')\n",
    "                                  .when(F.col('engine') == 'Turbo-shaft', 'SHAFT')\n",
    "                                  .when(F.col('engine') == '4 Cycle',     'CYCLE')\n",
    "                                )\n",
    "\n",
    "df_planes.show(10)\n",
    "df_planes.filter(F.col('engine_type').isNull()).show()\n",
    "df_planes.groupBy(\"engine_type\").count().orderBy(F.col('engine_type')).show(999)"
   ]
  },
  {
   "cell_type": "markdown",
   "id": "74e2f0d7",
   "metadata": {},
   "source": [
    "# -----------------------------------------------------------------------------------------------------------\n",
    "# Transformação flights\n",
    "# -----------------------------------------------------------------------------------------------------------\n",
    "## 1."
   ]
  },
  {
   "cell_type": "code",
   "execution_count": null,
   "id": "b695e369",
   "metadata": {},
   "outputs": [],
   "source": [
    "df_flights.filter(F.col('hour').isNull()).show(10)\n",
    "df_flights.filter(F.col('minute').isNull()).count()"
   ]
  },
  {
   "cell_type": "code",
   "execution_count": null,
   "id": "9282f272",
   "metadata": {},
   "outputs": [],
   "source": [
    "df_flights = df_flights.withColumn('hour',\n",
    "                                   F.when(F.col('hour').isNull(), 0)\n",
    "                                    .otherwise(F.col('hour'))\n",
    "                                  )\n",
    " \n",
    "df_flights = df_flights.withColumn('minute',\n",
    "                                   F.when(F.col('minute').isNull(), 0)\n",
    "                                    .otherwise(F.col('minute'))\n",
    "                                  )\n",
    " \n",
    "df_flights.show(5)\n",
    "df_flights.filter(F.col('minute').isNull()).show()"
   ]
  },
  {
   "cell_type": "code",
   "execution_count": null,
   "id": "6816a736",
   "metadata": {},
   "outputs": [],
   "source": [
    "df_flights.groupBy(\"hour\").count().orderBy(F.col('hour')).show()"
   ]
  },
  {
   "cell_type": "markdown",
   "id": "94ab24e5",
   "metadata": {},
   "source": [
    "# -----------------------------------------------------------------------------------------------------------\n",
    "## 2."
   ]
  },
  {
   "cell_type": "code",
   "execution_count": null,
   "id": "3e5c4035",
   "metadata": {},
   "outputs": [],
   "source": [
    "df_flights.filter(F.col('hour') == 24).show()"
   ]
  },
  {
   "cell_type": "code",
   "execution_count": null,
   "id": "96ad1d3c",
   "metadata": {},
   "outputs": [],
   "source": [
    "df_flights = df_flights.withColumn('hour',\n",
    "                                   F.when(F.col('hour') == 24, 0)\n",
    "                                    .otherwise(F.col('hour'))\n",
    "                                  )\n",
    " \n",
    "df_flights.filter(F.col('hour') == 24).show()"
   ]
  },
  {
   "cell_type": "code",
   "execution_count": null,
   "id": "6d2af2e7",
   "metadata": {},
   "outputs": [],
   "source": [
    "df_flights.groupBy(\"hour\").count().orderBy(F.col('hour')).show(999)"
   ]
  },
  {
   "cell_type": "markdown",
   "id": "6b90469e",
   "metadata": {},
   "source": [
    "# -----------------------------------------------------------------------------------------------------------\n",
    "## 3."
   ]
  },
  {
   "cell_type": "code",
   "execution_count": null,
   "id": "b50a319f",
   "metadata": {},
   "outputs": [],
   "source": [
    "df_flights.filter(F.col('hour').isNull()).show()"
   ]
  },
  {
   "cell_type": "code",
   "execution_count": null,
   "id": "1c5adeb3",
   "metadata": {},
   "outputs": [],
   "source": [
    "df_flights = df_flights.withColumn(\"dep_datetime\", F.expr(\"make_timestamp(year, month, day, hour, minute, 00)\"))\n",
    "\n",
    "df_flights.show(vertical = True, truncate = False)"
   ]
  },
  {
   "cell_type": "markdown",
   "id": "d801bd32",
   "metadata": {},
   "source": [
    "# -----------------------------------------------------------------------------------------------------------\n",
    "## 4."
   ]
  },
  {
   "cell_type": "code",
   "execution_count": null,
   "id": "1cb10708",
   "metadata": {},
   "outputs": [],
   "source": [
    "df_flights.filter(F.col('dep_time') == 'NA').show(5)\n",
    "df_flights.where(F.col('dep_time') == 'NA').count()"
   ]
  },
  {
   "cell_type": "code",
   "execution_count": null,
   "id": "72c85fd4",
   "metadata": {},
   "outputs": [],
   "source": [
    "df_flights = df_flights.withColumn('dep_time',\n",
    "                                   F.when(F.col('dep_time') == 'NA', F.concat(F.col('hour'), F.lpad(F.col('minute'), 2, '0')))\n",
    "                                    .otherwise(F.col('dep_time'))\n",
    "                                  ) \n",
    "\n",
    "df_flights.filter(F.col('dep_time') == 'NA').show()\n",
    "df_flights.filter(F.col('dep_time') < 1).show(5)"
   ]
  },
  {
   "cell_type": "code",
   "execution_count": null,
   "id": "fe72e0d5",
   "metadata": {},
   "outputs": [],
   "source": [
    "df_flights.groupBy('dep_time').count().orderBy(F.col('dep_time')).show()"
   ]
  },
  {
   "cell_type": "markdown",
   "id": "831ee2fd",
   "metadata": {},
   "source": [
    "# -----------------------------------------------------------------------------------------------------------\n",
    "## 5."
   ]
  },
  {
   "cell_type": "code",
   "execution_count": null,
   "id": "76c7df99",
   "metadata": {},
   "outputs": [],
   "source": [
    "df_flights.filter(F.col('dep_delay').isNull()).show(10)\n",
    "df_flights.filter(F.col('dep_delay').isNull()).count()"
   ]
  },
  {
   "cell_type": "code",
   "execution_count": null,
   "id": "6f7a2717",
   "metadata": {},
   "outputs": [],
   "source": [
    "df_flights = df_flights.withColumn('dep_delay',\n",
    "                                   F.when(F.col('dep_delay').isNull(), 0)\n",
    "                                    .otherwise(F.col('dep_delay'))\n",
    "                                  ) \n",
    "\n",
    "df_flights.filter(F.col('dep_delay').isNull()).show()\n",
    "df_flights.filter(F.col('dep_delay').isNull()).count()\n",
    "df_flights.filter(F.col('dep_delay') == 0).count()"
   ]
  },
  {
   "cell_type": "code",
   "execution_count": null,
   "id": "09d07b64",
   "metadata": {},
   "outputs": [],
   "source": [
    "df_flights.groupBy(\"dep_delay\").count().orderBy(F.col('dep_delay')).show()"
   ]
  },
  {
   "cell_type": "markdown",
   "id": "66a497e2",
   "metadata": {},
   "source": [
    "# -----------------------------------------------------------------------------------------------------------\n",
    "## 6."
   ]
  },
  {
   "cell_type": "code",
   "execution_count": null,
   "id": "6b9e812d",
   "metadata": {},
   "outputs": [],
   "source": [
    "df_flights.filter(F.col('arr_delay').isNull()).show(10)\n",
    "df_flights.filter(F.col('arr_delay').isNull()).count()"
   ]
  },
  {
   "cell_type": "code",
   "execution_count": null,
   "id": "ec85fe7c",
   "metadata": {},
   "outputs": [],
   "source": [
    "df_flights = df_flights.withColumn('arr_delay',\n",
    "                                   F.when(F.col('arr_delay').isNull(), 0)\n",
    "                                    .otherwise(F.col('arr_delay'))\n",
    "                                  )\n",
    " \n",
    "df_flights.filter(F.col('arr_delay').isNull()).show()\n",
    "df_flights.filter(F.col('arr_delay') == 0).count()"
   ]
  },
  {
   "cell_type": "code",
   "execution_count": null,
   "id": "5333d10b",
   "metadata": {},
   "outputs": [],
   "source": [
    "df_flights.groupBy(\"arr_delay\").count().orderBy(F.col('arr_delay')).show()"
   ]
  },
  {
   "cell_type": "markdown",
   "id": "f577cf17",
   "metadata": {},
   "source": [
    "# -----------------------------------------------------------------------------------------------------------\n",
    "## 7."
   ]
  },
  {
   "cell_type": "code",
   "execution_count": null,
   "id": "b1fae16c",
   "metadata": {},
   "outputs": [],
   "source": [
    "df_flights = df_flights.drop('year', 'month', 'day', 'hour', 'minute')\n",
    "\n",
    "df_flights.show(10)"
   ]
  },
  {
   "cell_type": "code",
   "execution_count": null,
   "id": "01d08411",
   "metadata": {},
   "outputs": [],
   "source": [
    "df_flights = df_flights.withColumn('air_time_projected', (F.col('distance') * 0.1 + 20).cast('int'))"
   ]
  },
  {
   "cell_type": "markdown",
   "id": "771b0d89",
   "metadata": {},
   "source": [
    "# -----------------------------------------------------------------------------------------------------------\n",
    "## 8."
   ]
  },
  {
   "cell_type": "code",
   "execution_count": null,
   "id": "ace1975e",
   "metadata": {},
   "outputs": [],
   "source": [
    "df_flights.show(truncate = 10)\n",
    "df_flights.groupBy(\"air_time_projected\").count().orderBy(F.col('air_time_projected')).show()"
   ]
  },
  {
   "cell_type": "markdown",
   "id": "ff17ea65",
   "metadata": {},
   "source": [
    "# -----------------------------------------------------------------------------------------------------------\n",
    "## 9."
   ]
  },
  {
   "cell_type": "code",
   "execution_count": null,
   "id": "8daba865",
   "metadata": {},
   "outputs": [],
   "source": [
    "df_flights.groupBy(F.col('origin'), F.col('dest')).agg((F.avg('air_time').cast('int')).alias('air_time_expected')).show()"
   ]
  },
  {
   "cell_type": "code",
   "execution_count": null,
   "id": "cc52ebda",
   "metadata": {},
   "outputs": [],
   "source": [
    "# Cria um dataframe agrupado o origin e o destino\n",
    "\n",
    "df_expected = df_flights.groupBy(F.col('origin'), F.col('dest')).agg((F.avg('air_time').cast('int')).alias('air_time_expected'))\n",
    "\n",
    "df_expected = (df_expected.withColumnRenamed('origin', 'o1')\n",
    "                          .withColumnRenamed('dest',   'd1'))"
   ]
  },
  {
   "cell_type": "code",
   "execution_count": null,
   "id": "62a74738",
   "metadata": {},
   "outputs": [],
   "source": [
    "# Junta os dataframes\n",
    "df_final = df_flights.join(df_expected, \n",
    "                          (df_flights['origin'] == df_expected['o1']) &\n",
    "                          (df_flights['dest'] == df_expected['d1']),\n",
    "                          'left')\n",
    "\n",
    "# Exclue as colunas duplicadas\n",
    "df_flights = df_final.drop('o1', 'd1')\n",
    "\n",
    "del df_final, df_expected\n",
    "\n",
    "df_flights.toPandas()"
   ]
  },
  {
   "cell_type": "code",
   "execution_count": null,
   "id": "75a20570",
   "metadata": {},
   "outputs": [],
   "source": [
    "df_flights.groupBy(\"air_time_expected\").count().orderBy(F.col('air_time_expected')).show()"
   ]
  },
  {
   "cell_type": "markdown",
   "id": "196ca601",
   "metadata": {},
   "source": [
    "# -----------------------------------------------------------------------------------------------------------\n",
    "## 10."
   ]
  },
  {
   "cell_type": "code",
   "execution_count": null,
   "id": "fa5e0f49",
   "metadata": {},
   "outputs": [],
   "source": [
    "df_flights.filter(F.col('air_time').isNull()).toPandas()"
   ]
  },
  {
   "cell_type": "code",
   "execution_count": null,
   "id": "0fce29cb",
   "metadata": {},
   "outputs": [],
   "source": [
    "df_flights = df_flights.withColumn('air_time',\n",
    "                                   F.when(F.col('air_time').isNull(), F.greatest(F.col('air_time_projected'), \n",
    "                                                                                 F.col('air_time_expected')))\n",
    "                                    .otherwise(F.col('air_time'))\n",
    "                                  )\n",
    " \n",
    "df_flights.toPandas()"
   ]
  },
  {
   "cell_type": "code",
   "execution_count": null,
   "id": "60bb4ad1",
   "metadata": {},
   "outputs": [],
   "source": [
    "df_flights.groupBy(\"air_time\").count().orderBy(F.col('air_time')).show()"
   ]
  },
  {
   "cell_type": "markdown",
   "id": "3e4b646f",
   "metadata": {},
   "source": [
    "# -----------------------------------------------------------------------------------------------------------\n",
    "## 11."
   ]
  },
  {
   "cell_type": "code",
   "execution_count": null,
   "id": "470880fb",
   "metadata": {},
   "outputs": [],
   "source": [
    "df_flights.filter(F.col('arr_time') == 'NA').toPandas()"
   ]
  },
  {
   "cell_type": "code",
   "execution_count": null,
   "id": "267ac814",
   "metadata": {},
   "outputs": [],
   "source": [
    "# Transforma a coluna dep_datetime em segundos com a função unix_timestamp e soma com a coluna air_time \n",
    "# transformada em segundos, transformando novamente em timestamp depois\n",
    "df_flights = df_flights.withColumn('sum', \n",
    "                        (F.unix_timestamp(\"dep_datetime\") + \n",
    "                        (F.col('air_time') * 60).cast('int')).cast('timestamp'))\n",
    "\n",
    "# Verifica aonde a coluna arr_time está nulo e troca o valor\n",
    "df_flights = df_flights.withColumn('arr_time',\n",
    "             F.when(F.col('arr_time') == 'NA', F.format_string('%d%d', F.hour(F.col('sum')), \n",
    "                                                                       F.minute(F.col('sum'))))\n",
    "             .otherwise(F.col('arr_time')))\n",
    "\n",
    "# Remove a coluna sum\n",
    "df_flights = df_flights.drop('sum')\n",
    "\n",
    "df_flights.toPandas()"
   ]
  },
  {
   "cell_type": "code",
   "execution_count": null,
   "id": "edd3a939",
   "metadata": {},
   "outputs": [],
   "source": [
    "df_flights.filter(F.col('arr_time') == 'NA').show(truncate = 5)\n",
    "\n",
    "(df_flights.select(F.col('dep_time'), \n",
    "                   F.col('dep_delay'), \n",
    "                   F.col('arr_time'), \n",
    "                   F.col('arr_delay'), \n",
    "                   F.col('air_time'), \n",
    "                   F.col('tailnum'))\n",
    "           .where((F.col('dep_time') == '000') & (F.col('air_time') == '141'))\n",
    "           .show(50))"
   ]
  },
  {
   "cell_type": "code",
   "execution_count": null,
   "id": "baf5a31e",
   "metadata": {},
   "outputs": [],
   "source": [
    "df_flights.groupBy(\"arr_time\").count().orderBy(F.col('arr_time')).show()"
   ]
  },
  {
   "cell_type": "markdown",
   "id": "29791d62",
   "metadata": {},
   "source": [
    "# -----------------------------------------------------------------------------------------------------------\n",
    "## 12."
   ]
  },
  {
   "cell_type": "code",
   "execution_count": null,
   "id": "7b8dc7ae",
   "metadata": {},
   "outputs": [],
   "source": [
    "df_flights = df_flights.withColumn('haul_duration',\n",
    "                                   F.when(F.col('air_time').between(20, 3*60), 'SHORT-HAUL')\n",
    "                                    .when(F.col('air_time').between(3*60, 6*60), 'MEDIUM-HAUL')\n",
    "                                    .when(F.col('air_time') > 6*60, 'LONG-HAUL')\n",
    "                                  )\n",
    "\n",
    "df_flights.toPandas()"
   ]
  },
  {
   "cell_type": "code",
   "execution_count": null,
   "id": "59d0932f",
   "metadata": {},
   "outputs": [],
   "source": [
    "df_flights.groupBy('haul_duration').count().show()"
   ]
  }
 ],
 "metadata": {
  "kernelspec": {
   "display_name": "Python 3 (ipykernel)",
   "language": "python",
   "name": "python3"
  },
  "language_info": {
   "codemirror_mode": {
    "name": "ipython",
    "version": 3
   },
   "file_extension": ".py",
   "mimetype": "text/x-python",
   "name": "python",
   "nbconvert_exporter": "python",
   "pygments_lexer": "ipython3",
   "version": "3.9.7"
  }
 },
 "nbformat": 4,
 "nbformat_minor": 5
}
