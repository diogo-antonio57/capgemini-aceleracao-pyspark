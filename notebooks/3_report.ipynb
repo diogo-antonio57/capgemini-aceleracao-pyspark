{
 "cells": [
  {
   "cell_type": "code",
   "execution_count": 1,
   "id": "dcda73f6",
   "metadata": {},
   "outputs": [
    {
     "name": "stdout",
     "output_type": "stream",
     "text": [
      "Requirement already satisfied: pyspark in c:\\users\\diosilva\\anaconda3\\lib\\site-packages (3.2.1)\n",
      "Requirement already satisfied: py4j==0.10.9.3 in c:\\users\\diosilva\\anaconda3\\lib\\site-packages (from pyspark) (0.10.9.3)\n",
      "Requirement already satisfied: findspark in c:\\users\\diosilva\\anaconda3\\lib\\site-packages (2.0.1)\n"
     ]
    }
   ],
   "source": [
    "# Instalando os pacotes\n",
    "!pip install pyspark\n",
    "!pip install findspark"
   ]
  },
  {
   "cell_type": "code",
   "execution_count": 2,
   "id": "a4b1f7fd",
   "metadata": {},
   "outputs": [],
   "source": [
    "# Importando os módulos necessários\n",
    "from pyspark import SparkContext, SparkConf\n",
    "from pyspark.sql import SparkSession\n",
    "from pyspark.sql import functions as F\n",
    "from pyspark.sql.types import StructType, StructField, StringType, IntegerType, FloatType\n",
    "\n",
    "import pandas as pd"
   ]
  },
  {
   "cell_type": "code",
   "execution_count": 3,
   "id": "771152fb",
   "metadata": {},
   "outputs": [],
   "source": [
    "# Cria o contexto spark\n",
    "sc = SparkContext()\n",
    "\n",
    "# Instancia o criador de sessão do spark\n",
    "spark = (SparkSession.builder\n",
    "                     .master('local[7]')\n",
    "                     .appName('Aceleração Pyspark - Capgemini'))"
   ]
  },
  {
   "cell_type": "code",
   "execution_count": 5,
   "id": "c8f3ab6e",
   "metadata": {},
   "outputs": [],
   "source": [
    "# Cria os schemas\n",
    "schema_airports = StructType([\n",
    "    StructField(\"faa\",  StringType(),  True),\n",
    "    StructField(\"name\", StringType(),  True),\n",
    "    StructField(\"lat\",  FloatType(),   True),\n",
    "    StructField(\"lon\",  FloatType(),   True),\n",
    "    StructField(\"alt\",  IntegerType(), True),\n",
    "    StructField(\"tz\",   IntegerType(), True),\n",
    "    StructField(\"dst\",  StringType(),  True)\n",
    "])\n",
    "\n",
    "schema_planes = StructType([\n",
    "    StructField(\"tailnum\",      StringType(),  True),\n",
    "    StructField(\"year\",         IntegerType(), True),\n",
    "    StructField(\"type\",         StringType(),  True),\n",
    "    StructField(\"manufacturer\", StringType(),  True),\n",
    "    StructField(\"model\",        StringType(),  True),\n",
    "    StructField(\"engines\",      IntegerType(), True),\n",
    "    StructField(\"seats\",        IntegerType(), True),\n",
    "    StructField(\"speed\",        IntegerType(), True),\n",
    "    StructField(\"engine\",       StringType(),  True)\n",
    "])\n",
    "\n",
    "schema_flights = StructType([\n",
    "    StructField(\"year\",      IntegerType(), True),\n",
    "    StructField(\"month\",     IntegerType(), True),\n",
    "    StructField(\"day\",       IntegerType(), True),\n",
    "    StructField(\"dep_time\",  StringType(),  True),\n",
    "    StructField(\"dep_delay\", IntegerType(), True),\n",
    "    StructField(\"arr_time\",  StringType(),  True),\n",
    "    StructField(\"arr_delay\", IntegerType(), True),\n",
    "    StructField(\"carrier\",   StringType(),  True),\n",
    "    StructField(\"tailnum\",   StringType(),  True),\n",
    "    StructField(\"flight\",    StringType(),  True),\n",
    "    StructField(\"origin\",    StringType(),  True),\n",
    "    StructField(\"dest\",      StringType(),  True),\n",
    "    StructField(\"air_time\",  IntegerType(), True),\n",
    "    StructField(\"distance\",  IntegerType(), True),\n",
    "    StructField(\"hour\",      IntegerType(), True),\n",
    "    StructField(\"minute\",    IntegerType(), True),\n",
    "])"
   ]
  },
  {
   "cell_type": "code",
   "execution_count": 6,
   "id": "35e6a85e",
   "metadata": {},
   "outputs": [],
   "source": [
    "# Cria todos os dataframes\n",
    "df_airports = (spark.getOrCreate().read\n",
    "                  .format(\"csv\")\n",
    "                  .option(\"header\", \"true\")\n",
    "                  .schema(schema_airports)\n",
    "                  .load(\"../data/airports.csv\"))\n",
    "\n",
    "df_planes = (spark.getOrCreate().read\n",
    "                  .format(\"csv\")\n",
    "                  .option(\"header\", \"true\")\n",
    "                  .schema(schema_planes)\n",
    "                  .load(\"../data/planes.csv\"))\n",
    "\n",
    "df_flights = (spark.getOrCreate().read\n",
    "                  .format(\"csv\")\n",
    "                  .option(\"header\", \"true\")\n",
    "                  .schema(schema_flights)\n",
    "                  .load(\"../data/flights.csv\"))"
   ]
  },
  {
   "cell_type": "code",
   "execution_count": 7,
   "id": "c9b0f36b",
   "metadata": {},
   "outputs": [
    {
     "name": "stdout",
     "output_type": "stream",
     "text": [
      "+---+--------------------+---------+---------+----+---+---+\n",
      "|faa|                name|      lat|      lon| alt| tz|dst|\n",
      "+---+--------------------+---------+---------+----+---+---+\n",
      "|04G|   Lansdowne Airport|41.130474|-80.61958|1044| -5|  A|\n",
      "|06A|Moton Field Munic...| 32.46057|-85.68003| 264| -5|  A|\n",
      "|06C| Schaumburg Regional| 41.98934|-88.10124| 801| -6|  A|\n",
      "+---+--------------------+---------+---------+----+---+---+\n",
      "only showing top 3 rows\n",
      "\n",
      "+-------+----+--------------------+----------------+--------+-------+-----+-----+---------+\n",
      "|tailnum|year|                type|    manufacturer|   model|engines|seats|speed|   engine|\n",
      "+-------+----+--------------------+----------------+--------+-------+-----+-----+---------+\n",
      "| N102UW|1998|Fixed wing multi ...|AIRBUS INDUSTRIE|A320-214|      2|  182| null|Turbo-fan|\n",
      "| N103US|1999|Fixed wing multi ...|AIRBUS INDUSTRIE|A320-214|      2|  182| null|Turbo-fan|\n",
      "| N104UW|1999|Fixed wing multi ...|AIRBUS INDUSTRIE|A320-214|      2|  182| null|Turbo-fan|\n",
      "+-------+----+--------------------+----------------+--------+-------+-----+-----+---------+\n",
      "only showing top 3 rows\n",
      "\n",
      "+----+-----+---+--------+---------+--------+---------+-------+-------+------+------+----+--------+--------+----+------+\n",
      "|year|month|day|dep_time|dep_delay|arr_time|arr_delay|carrier|tailnum|flight|origin|dest|air_time|distance|hour|minute|\n",
      "+----+-----+---+--------+---------+--------+---------+-------+-------+------+------+----+--------+--------+----+------+\n",
      "|2014|   12|  8|     658|       -7|     935|       -5|     VX| N846VA|  1780|   SEA| LAX|     132|     954|   6|    58|\n",
      "|2014|    1| 22|    1040|        5|    1505|        5|     AS| N559AS|   851|   SEA| HNL|     360|    2677|  10|    40|\n",
      "|2014|    3|  9|    1443|       -2|    1652|        2|     VX| N847VA|   755|   SEA| SFO|     111|     679|  14|    43|\n",
      "+----+-----+---+--------+---------+--------+---------+-------+-------+------+------+----+--------+--------+----+------+\n",
      "only showing top 3 rows\n",
      "\n"
     ]
    }
   ],
   "source": [
    "df_airports.show(3)\n",
    "df_planes.show(3)\n",
    "df_flights.show(3)"
   ]
  },
  {
   "cell_type": "markdown",
   "id": "32b36437",
   "metadata": {},
   "source": [
    "# -----------------------------------------------------------------------------------------------------------\n",
    "## Report quality\n",
    "# -----------------------------------------------------------------------------------------------------------\n",
    "## 1."
   ]
  },
  {
   "cell_type": "code",
   "execution_count": null,
   "id": "3a82093b",
   "metadata": {},
   "outputs": [],
   "source": [
    "df_airports = df_airports.drop('name', 'lat', 'lon', 'alt', 'tz', 'dst')\n",
    "df_planes   = df_planes.drop('year', 'type', 'manufacturer', 'model', 'engines', 'seats', 'speed', 'engine')\n",
    "df_flights  = df_flights.drop('year', 'month', 'day', 'dep_time', 'dep_delay', 'arr_time', 'arr_delay', 'carrier', 'flight', 'air_time', 'distance', 'hour', 'minute')"
   ]
  },
  {
   "cell_type": "code",
   "execution_count": null,
   "id": "ad201568",
   "metadata": {},
   "outputs": [],
   "source": [
    "df_airports = (df_airports.withColumnRenamed('faa',     'faa_origin')\n",
    "                          .withColumnRenamed('qa_faa',  'qa_faa_origin')\n",
    "                          .withColumnRenamed('qa_name', 'qa_name_origin')\n",
    "                          .withColumnRenamed('qa_lat',  'qa_lat_origin')\n",
    "                          .withColumnRenamed('qa_lon',  'qa_lon_origin')\n",
    "                          .withColumnRenamed('qa_alt',  'qa_alt_origin')\n",
    "                          .withColumnRenamed('qa_tz',   'qa_tz_origin')\n",
    "                          .withColumnRenamed('qa_dst',  'qa_dst_origin'))\n",
    "\n",
    "# dataframe de relatório\n",
    "df_relatorio = df_flights.join(df_airports, \n",
    "                        (df_airports['faa_origin'] == df_flights['origin']),\n",
    "                         'left')\n",
    "\n",
    "df_relatorio.toPandas()"
   ]
  },
  {
   "cell_type": "code",
   "execution_count": null,
   "id": "0396fde6",
   "metadata": {},
   "outputs": [],
   "source": [
    "df_airports = (df_airports.withColumnRenamed('faa_origin',     'faa_dest')\n",
    "                          .withColumnRenamed('qa_faa_origin',  'qa_faa_dest')\n",
    "                          .withColumnRenamed('qa_name_origin', 'qa_name_dest')\n",
    "                          .withColumnRenamed('qa_lat_origin',  'qa_lat_dest')\n",
    "                          .withColumnRenamed('qa_lon_origin',  'qa_lon_dest')\n",
    "                          .withColumnRenamed('qa_alt_origin',  'qa_alt_dest')\n",
    "                          .withColumnRenamed('qa_tz_origin',   'qa_tz_dest')\n",
    "                          .withColumnRenamed('qa_dst_origin',  'qa_dst_dest'))\n",
    "\n",
    "df_relatorio = df_relatorio.join(df_airports, \n",
    "                                (df_airports['faa_dest'] == df_relatorio['dest']),\n",
    "                                 'left')"
   ]
  },
  {
   "cell_type": "code",
   "execution_count": null,
   "id": "8de7b5dc",
   "metadata": {},
   "outputs": [],
   "source": [
    "df_planes = (df_planes.withColumnRenamed('tailnum',    'tailnum_tailnum')\n",
    "                      .withColumnRenamed('qa_tailnum', 'qa_tailnum_tailnum')\n",
    "                      .withColumnRenamed('qa_year',    'qa_year_tailnum')\n",
    "            )\n",
    "\n",
    "df_relatorio = df_relatorio.join(df_planes,\n",
    "                                 df_relatorio['tailnum'] == df_planes['tailnum_tailnum'],\n",
    "                                 'left')"
   ]
  },
  {
   "cell_type": "code",
   "execution_count": null,
   "id": "3e985e75",
   "metadata": {},
   "outputs": [],
   "source": [
    "df_relatorio = df_relatorio.drop('tailnum', 'origin', 'dest', 'faa_origin', 'faa_dest', 'tailnum_tailnum')"
   ]
  },
  {
   "cell_type": "markdown",
   "id": "1a0d89e6",
   "metadata": {},
   "source": [
    "# -----------------------------------------------------------------------------------------------------------\n",
    "## 2."
   ]
  },
  {
   "cell_type": "code",
   "execution_count": null,
   "id": "1c149ada",
   "metadata": {},
   "outputs": [],
   "source": [
    "for c in df_relatorio.columns:\n",
    "    df_relatorio.groupBy(F.substring(c, 1, 1).alias(c)).count().show()"
   ]
  },
  {
   "cell_type": "code",
   "execution_count": null,
   "id": "9ffef0b7",
   "metadata": {},
   "outputs": [],
   "source": [
    "lista_m = []\n",
    "lista_f = []\n",
    "lista_i = []\n",
    "lista_s = []\n",
    "lista_t = []\n",
    "lista_c = []\n",
    "lista_none = []\n",
    "\n",
    "for c in df_relatorio.columns:\n",
    "    linha = df_relatorio.groupBy(F.substring(c, 1, 1).alias(c)).count().collect()\n",
    "        \n",
    "    for n in range(len(linha)):\n",
    "        clas = linha[n][0]\n",
    "\n",
    "        if clas == 'M':\n",
    "            lista_m.append((c, linha[n][1]))\n",
    "\n",
    "        elif clas == 'F':\n",
    "            lista_f.append((c, linha[n][1]))\n",
    "\n",
    "        elif clas == 'I':\n",
    "            lista_i.append((c, linha[n][1]))\n",
    "\n",
    "        elif clas == 'S':\n",
    "            lista_s.append((c, linha[n][1]))\n",
    "\n",
    "        elif clas == 'T':\n",
    "            lista_t.append((c, linha[n][1]))\n",
    "\n",
    "        elif clas == 'C':\n",
    "            lista_c.append((c, linha[n][1]))\n",
    "\n",
    "        elif clas == 'None':\n",
    "            lista_none.append((c, linha[n][1]))"
   ]
  },
  {
   "cell_type": "code",
   "execution_count": null,
   "id": "7673d07c",
   "metadata": {},
   "outputs": [],
   "source": [
    "def max_lista(lista):\n",
    "    valor = 0\n",
    "    \n",
    "    for n in range(len(lista)):\n",
    "        if lista[n][1] > valor:\n",
    "            valor = lista[n][1]\n",
    "            coluna = lista[n][0]\n",
    "    \n",
    "    return coluna, valor"
   ]
  },
  {
   "cell_type": "markdown",
   "id": "aa5f89a5",
   "metadata": {},
   "source": [
    "# -----------------------------------------------------------------------------------------------------------\n",
    "## 3."
   ]
  },
  {
   "cell_type": "code",
   "execution_count": null,
   "id": "be5acf81",
   "metadata": {},
   "outputs": [],
   "source": [
    "print(f'M: {m} com {valor}')"
   ]
  },
  {
   "cell_type": "code",
   "execution_count": null,
   "id": "49ca9fa6",
   "metadata": {},
   "outputs": [],
   "source": [
    "m     = max_lista(lista_m)\n",
    "valor = m[1]\n",
    "m     = m[0]"
   ]
  },
  {
   "cell_type": "markdown",
   "id": "5cff3eb9",
   "metadata": {},
   "source": [
    "# -----------------------------------------------------------------------------------------------------------\n",
    "## 4."
   ]
  },
  {
   "cell_type": "code",
   "execution_count": null,
   "id": "359f9781",
   "metadata": {},
   "outputs": [],
   "source": [
    "f     = max_lista(lista_f)\n",
    "valor = f[1]\n",
    "f     = f[0]"
   ]
  },
  {
   "cell_type": "code",
   "execution_count": null,
   "id": "2f8e7cdd",
   "metadata": {},
   "outputs": [],
   "source": [
    "print(f'F: {f} com {valor}')"
   ]
  },
  {
   "cell_type": "markdown",
   "id": "08310bac",
   "metadata": {},
   "source": [
    "# -----------------------------------------------------------------------------------------------------------\n",
    "## 5."
   ]
  },
  {
   "cell_type": "code",
   "execution_count": null,
   "id": "e23db1cb",
   "metadata": {},
   "outputs": [],
   "source": [
    "i     = max_lista(lista_i)\n",
    "valor = i[1]\n",
    "i     = i[0]"
   ]
  },
  {
   "cell_type": "code",
   "execution_count": null,
   "id": "e6352490",
   "metadata": {},
   "outputs": [],
   "source": [
    "print(f'I: {i} com {valor}')"
   ]
  }
 ],
 "metadata": {
  "kernelspec": {
   "display_name": "Python 3 (ipykernel)",
   "language": "python",
   "name": "python3"
  },
  "language_info": {
   "codemirror_mode": {
    "name": "ipython",
    "version": 3
   },
   "file_extension": ".py",
   "mimetype": "text/x-python",
   "name": "python",
   "nbconvert_exporter": "python",
   "pygments_lexer": "ipython3",
   "version": "3.9.7"
  }
 },
 "nbformat": 4,
 "nbformat_minor": 5
}
