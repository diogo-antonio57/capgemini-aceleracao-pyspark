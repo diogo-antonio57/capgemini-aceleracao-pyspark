{
 "cells": [
  {
   "cell_type": "code",
   "execution_count": 1,
   "id": "90fcbb84",
   "metadata": {},
   "outputs": [
    {
     "name": "stdout",
     "output_type": "stream",
     "text": [
      "Requirement already satisfied: pyspark in c:\\users\\diosilva\\anaconda3\\lib\\site-packages (3.2.1)\n",
      "Requirement already satisfied: py4j==0.10.9.3 in c:\\users\\diosilva\\anaconda3\\lib\\site-packages (from pyspark) (0.10.9.3)\n",
      "Requirement already satisfied: findspark in c:\\users\\diosilva\\anaconda3\\lib\\site-packages (2.0.1)\n"
     ]
    }
   ],
   "source": [
    "# Instalando os pacotes\n",
    "!pip install pyspark\n",
    "!pip install findspark"
   ]
  },
  {
   "cell_type": "code",
   "execution_count": 2,
   "id": "dc16ce88",
   "metadata": {},
   "outputs": [],
   "source": [
    "# Importando os módulos necessários\n",
    "from pyspark import SparkContext, SparkConf\n",
    "from pyspark.sql import SparkSession\n",
    "from pyspark.sql import functions as F\n",
    "from pyspark.sql.types import StructType, StructField, StringType, IntegerType, FloatType\n",
    "\n",
    "import pandas as pd"
   ]
  },
  {
   "cell_type": "code",
   "execution_count": 3,
   "id": "57a82918",
   "metadata": {},
   "outputs": [],
   "source": [
    "# Cria o contexto spark\n",
    "sc = SparkContext()\n",
    "\n",
    "# Instancia o criador de sessão do spark\n",
    "spark = (SparkSession.builder\n",
    "                     .master('local[7]')\n",
    "                     .appName('Aceleração Pyspark - Capgemini'))"
   ]
  },
  {
   "cell_type": "code",
   "execution_count": 5,
   "id": "ad8fef78",
   "metadata": {},
   "outputs": [],
   "source": [
    "# Cria os schemas\n",
    "schema_airports = StructType([\n",
    "    StructField(\"faa\",  StringType(),  True),\n",
    "    StructField(\"name\", StringType(),  True),\n",
    "    StructField(\"lat\",  FloatType(),   True),\n",
    "    StructField(\"lon\",  FloatType(),   True),\n",
    "    StructField(\"alt\",  IntegerType(), True),\n",
    "    StructField(\"tz\",   IntegerType(), True),\n",
    "    StructField(\"dst\",  StringType(),  True)\n",
    "])\n",
    "\n",
    "schema_planes = StructType([\n",
    "    StructField(\"tailnum\",      StringType(),  True),\n",
    "    StructField(\"year\",         IntegerType(), True),\n",
    "    StructField(\"type\",         StringType(),  True),\n",
    "    StructField(\"manufacturer\", StringType(),  True),\n",
    "    StructField(\"model\",        StringType(),  True),\n",
    "    StructField(\"engines\",      IntegerType(), True),\n",
    "    StructField(\"seats\",        IntegerType(), True),\n",
    "    StructField(\"speed\",        IntegerType(), True),\n",
    "    StructField(\"engine\",       StringType(),  True)\n",
    "])\n",
    "\n",
    "schema_flights = StructType([\n",
    "    StructField(\"year\",      IntegerType(), True),\n",
    "    StructField(\"month\",     IntegerType(), True),\n",
    "    StructField(\"day\",       IntegerType(), True),\n",
    "    StructField(\"dep_time\",  StringType(),  True),\n",
    "    StructField(\"dep_delay\", IntegerType(), True),\n",
    "    StructField(\"arr_time\",  StringType(),  True),\n",
    "    StructField(\"arr_delay\", IntegerType(), True),\n",
    "    StructField(\"carrier\",   StringType(),  True),\n",
    "    StructField(\"tailnum\",   StringType(),  True),\n",
    "    StructField(\"flight\",    StringType(),  True),\n",
    "    StructField(\"origin\",    StringType(),  True),\n",
    "    StructField(\"dest\",      StringType(),  True),\n",
    "    StructField(\"air_time\",  IntegerType(), True),\n",
    "    StructField(\"distance\",  IntegerType(), True),\n",
    "    StructField(\"hour\",      IntegerType(), True),\n",
    "    StructField(\"minute\",    IntegerType(), True),\n",
    "])"
   ]
  },
  {
   "cell_type": "code",
   "execution_count": 6,
   "id": "4a6dab4f",
   "metadata": {},
   "outputs": [],
   "source": [
    "# Cria todos os dataframes\n",
    "df_airports = (spark.getOrCreate().read\n",
    "                  .format(\"csv\")\n",
    "                  .option(\"header\", \"true\")\n",
    "                  .schema(schema_airports)\n",
    "                  .load(\"../data/airports.csv\"))\n",
    "\n",
    "df_planes = (spark.getOrCreate().read\n",
    "                  .format(\"csv\")\n",
    "                  .option(\"header\", \"true\")\n",
    "                  .schema(schema_planes)\n",
    "                  .load(\"../data/planes.csv\"))\n",
    "\n",
    "df_flights = (spark.getOrCreate().read\n",
    "                  .format(\"csv\")\n",
    "                  .option(\"header\", \"true\")\n",
    "                  .schema(schema_flights)\n",
    "                  .load(\"../data/flights.csv\"))"
   ]
  },
  {
   "cell_type": "code",
   "execution_count": 7,
   "id": "6595599b",
   "metadata": {},
   "outputs": [
    {
     "name": "stdout",
     "output_type": "stream",
     "text": [
      "+---+--------------------+---------+---------+----+---+---+\n",
      "|faa|                name|      lat|      lon| alt| tz|dst|\n",
      "+---+--------------------+---------+---------+----+---+---+\n",
      "|04G|   Lansdowne Airport|41.130474|-80.61958|1044| -5|  A|\n",
      "|06A|Moton Field Munic...| 32.46057|-85.68003| 264| -5|  A|\n",
      "|06C| Schaumburg Regional| 41.98934|-88.10124| 801| -6|  A|\n",
      "+---+--------------------+---------+---------+----+---+---+\n",
      "only showing top 3 rows\n",
      "\n",
      "+-------+----+--------------------+----------------+--------+-------+-----+-----+---------+\n",
      "|tailnum|year|                type|    manufacturer|   model|engines|seats|speed|   engine|\n",
      "+-------+----+--------------------+----------------+--------+-------+-----+-----+---------+\n",
      "| N102UW|1998|Fixed wing multi ...|AIRBUS INDUSTRIE|A320-214|      2|  182| null|Turbo-fan|\n",
      "| N103US|1999|Fixed wing multi ...|AIRBUS INDUSTRIE|A320-214|      2|  182| null|Turbo-fan|\n",
      "| N104UW|1999|Fixed wing multi ...|AIRBUS INDUSTRIE|A320-214|      2|  182| null|Turbo-fan|\n",
      "+-------+----+--------------------+----------------+--------+-------+-----+-----+---------+\n",
      "only showing top 3 rows\n",
      "\n",
      "+----+-----+---+--------+---------+--------+---------+-------+-------+------+------+----+--------+--------+----+------+\n",
      "|year|month|day|dep_time|dep_delay|arr_time|arr_delay|carrier|tailnum|flight|origin|dest|air_time|distance|hour|minute|\n",
      "+----+-----+---+--------+---------+--------+---------+-------+-------+------+------+----+--------+--------+----+------+\n",
      "|2014|   12|  8|     658|       -7|     935|       -5|     VX| N846VA|  1780|   SEA| LAX|     132|     954|   6|    58|\n",
      "|2014|    1| 22|    1040|        5|    1505|        5|     AS| N559AS|   851|   SEA| HNL|     360|    2677|  10|    40|\n",
      "|2014|    3|  9|    1443|       -2|    1652|        2|     VX| N847VA|   755|   SEA| SFO|     111|     679|  14|    43|\n",
      "+----+-----+---+--------+---------+--------+---------+-------+-------+------+------+----+--------+--------+----+------+\n",
      "only showing top 3 rows\n",
      "\n"
     ]
    }
   ],
   "source": [
    "df_airports.show(3)\n",
    "df_planes.show(3)\n",
    "df_flights.show(3)"
   ]
  },
  {
   "cell_type": "markdown",
   "id": "da97a2bc",
   "metadata": {},
   "source": [
    "# -----------------------------------------------------------------------------------------------------------\n",
    "## Report quality\n",
    "# -----------------------------------------------------------------------------------------------------------\n",
    "## 1."
   ]
  },
  {
   "cell_type": "code",
   "execution_count": null,
   "id": "89d13260",
   "metadata": {},
   "outputs": [],
   "source": [
    "df_airports = df_airports.drop('name', 'lat', 'lon', 'alt', 'tz', 'dst')\n",
    "df_planes   = df_planes.drop('year', 'type', 'manufacturer', 'model', 'engines', 'seats', 'speed', 'engine')\n",
    "df_flights  = df_flights.drop('year', 'month', 'day', 'dep_time', 'dep_delay', 'arr_time', 'arr_delay', 'carrier', 'flight', 'air_time', 'distance', 'hour', 'minute')"
   ]
  },
  {
   "cell_type": "code",
   "execution_count": null,
   "id": "18719404",
   "metadata": {},
   "outputs": [],
   "source": [
    "df_airports = (df_airports.withColumnRenamed('faa',     'faa_origin')\n",
    "                          .withColumnRenamed('qa_faa',  'qa_faa_origin')\n",
    "                          .withColumnRenamed('qa_name', 'qa_name_origin')\n",
    "                          .withColumnRenamed('qa_lat',  'qa_lat_origin')\n",
    "                          .withColumnRenamed('qa_lon',  'qa_lon_origin')\n",
    "                          .withColumnRenamed('qa_alt',  'qa_alt_origin')\n",
    "                          .withColumnRenamed('qa_tz',   'qa_tz_origin')\n",
    "                          .withColumnRenamed('qa_dst',  'qa_dst_origin'))\n",
    "\n",
    "# dataframe de relatório\n",
    "df_relatorio = df_flights.join(df_airports, \n",
    "                        (df_airports['faa_origin'] == df_flights['origin']),\n",
    "                         'left')\n",
    "\n",
    "df_relatorio.toPandas()"
   ]
  },
  {
   "cell_type": "code",
   "execution_count": null,
   "id": "4650f1a5",
   "metadata": {},
   "outputs": [],
   "source": [
    "df_airports = (df_airports.withColumnRenamed('faa_origin',     'faa_dest')\n",
    "                          .withColumnRenamed('qa_faa_origin',  'qa_faa_dest')\n",
    "                          .withColumnRenamed('qa_name_origin', 'qa_name_dest')\n",
    "                          .withColumnRenamed('qa_lat_origin',  'qa_lat_dest')\n",
    "                          .withColumnRenamed('qa_lon_origin',  'qa_lon_dest')\n",
    "                          .withColumnRenamed('qa_alt_origin',  'qa_alt_dest')\n",
    "                          .withColumnRenamed('qa_tz_origin',   'qa_tz_dest')\n",
    "                          .withColumnRenamed('qa_dst_origin',  'qa_dst_dest'))\n",
    "\n",
    "df_relatorio = df_relatorio.join(df_airports, \n",
    "                                (df_airports['faa_dest'] == df_relatorio['dest']),\n",
    "                                 'left')"
   ]
  },
  {
   "cell_type": "code",
   "execution_count": null,
   "id": "04a18267",
   "metadata": {},
   "outputs": [],
   "source": [
    "df_planes = (df_planes.withColumnRenamed('tailnum',    'tailnum_tailnum')\n",
    "                      .withColumnRenamed('qa_tailnum', 'qa_tailnum_tailnum')\n",
    "                      .withColumnRenamed('qa_year',    'qa_year_tailnum')\n",
    "            )\n",
    "\n",
    "df_relatorio = df_relatorio.join(df_planes,\n",
    "                                 df_relatorio['tailnum'] == df_planes['tailnum_tailnum'],\n",
    "                                 'left')"
   ]
  },
  {
   "cell_type": "code",
   "execution_count": null,
   "id": "1d404aed",
   "metadata": {},
   "outputs": [],
   "source": [
    "df_relatorio = df_relatorio.drop('tailnum', 'origin', 'dest', 'faa_origin', 'faa_dest', 'tailnum_tailnum')"
   ]
  },
  {
   "cell_type": "markdown",
   "id": "1cffbad2",
   "metadata": {},
   "source": [
    "# -----------------------------------------------------------------------------------------------------------\n",
    "## 2."
   ]
  },
  {
   "cell_type": "code",
   "execution_count": null,
   "id": "5c46ca0e",
   "metadata": {},
   "outputs": [],
   "source": [
    "for c in df_relatorio.columns:\n",
    "    df_relatorio.groupBy(F.substring(c, 1, 1).alias(c)).count().show()"
   ]
  },
  {
   "cell_type": "code",
   "execution_count": null,
   "id": "ad912989",
   "metadata": {},
   "outputs": [],
   "source": [
    "lista_m = []\n",
    "lista_f = []\n",
    "lista_i = []\n",
    "lista_s = []\n",
    "lista_t = []\n",
    "lista_c = []\n",
    "lista_none = []\n",
    "\n",
    "for c in df_relatorio.columns:\n",
    "    linha = df_relatorio.groupBy(F.substring(c, 1, 1).alias(c)).count().collect()\n",
    "        \n",
    "    for n in range(len(linha)):\n",
    "        clas = linha[n][0]\n",
    "\n",
    "        if clas == 'M':\n",
    "            lista_m.append((c, linha[n][1]))\n",
    "\n",
    "        elif clas == 'F':\n",
    "            lista_f.append((c, linha[n][1]))\n",
    "\n",
    "        elif clas == 'I':\n",
    "            lista_i.append((c, linha[n][1]))\n",
    "\n",
    "        elif clas == 'S':\n",
    "            lista_s.append((c, linha[n][1]))\n",
    "\n",
    "        elif clas == 'T':\n",
    "            lista_t.append((c, linha[n][1]))\n",
    "\n",
    "        elif clas == 'C':\n",
    "            lista_c.append((c, linha[n][1]))\n",
    "\n",
    "        elif clas == 'None':\n",
    "            lista_none.append((c, linha[n][1]))"
   ]
  },
  {
   "cell_type": "code",
   "execution_count": null,
   "id": "f40d9617",
   "metadata": {},
   "outputs": [],
   "source": [
    "def max_lista(lista):\n",
    "    valor = 0\n",
    "    \n",
    "    for n in range(len(lista)):\n",
    "        if lista[n][1] > valor:\n",
    "            valor = lista[n][1]\n",
    "            coluna = lista[n][0]\n",
    "    \n",
    "    return coluna, valor"
   ]
  },
  {
   "cell_type": "markdown",
   "id": "b8e5be42",
   "metadata": {},
   "source": [
    "# -----------------------------------------------------------------------------------------------------------\n",
    "## 3."
   ]
  },
  {
   "cell_type": "code",
   "execution_count": null,
   "id": "86f28c96",
   "metadata": {},
   "outputs": [],
   "source": [
    "print(f'M: {m} com {valor}')"
   ]
  },
  {
   "cell_type": "code",
   "execution_count": null,
   "id": "29dbc25b",
   "metadata": {},
   "outputs": [],
   "source": [
    "m     = max_lista(lista_m)\n",
    "valor = m[1]\n",
    "m     = m[0]"
   ]
  },
  {
   "cell_type": "markdown",
   "id": "ae1a3713",
   "metadata": {},
   "source": [
    "# -----------------------------------------------------------------------------------------------------------\n",
    "## 4."
   ]
  },
  {
   "cell_type": "code",
   "execution_count": null,
   "id": "136914ff",
   "metadata": {},
   "outputs": [],
   "source": [
    "f     = max_lista(lista_f)\n",
    "valor = f[1]\n",
    "f     = f[0]"
   ]
  },
  {
   "cell_type": "code",
   "execution_count": null,
   "id": "50efe55f",
   "metadata": {},
   "outputs": [],
   "source": [
    "print(f'F: {f} com {valor}')"
   ]
  },
  {
   "cell_type": "markdown",
   "id": "63f45ee1",
   "metadata": {},
   "source": [
    "# -----------------------------------------------------------------------------------------------------------\n",
    "## 5."
   ]
  },
  {
   "cell_type": "code",
   "execution_count": null,
   "id": "ee6d9ab5",
   "metadata": {},
   "outputs": [],
   "source": [
    "i     = max_lista(lista_i)\n",
    "valor = i[1]\n",
    "i     = i[0]"
   ]
  },
  {
   "cell_type": "code",
   "execution_count": null,
   "id": "9992e759",
   "metadata": {},
   "outputs": [],
   "source": [
    "print(f'I: {i} com {valor}')"
   ]
  },
  {
   "cell_type": "markdown",
   "id": "7b7ef1ca",
   "metadata": {},
   "source": [
    "# -----------------------------------------------------------------------------------------------------------\n",
    "## Report quality\n",
    "# -----------------------------------------------------------------------------------------------------------\n",
    "## 1."
   ]
  },
  {
   "cell_type": "code",
   "execution_count": null,
   "id": "d79c17ff",
   "metadata": {},
   "outputs": [],
   "source": [
    "df_airports = (df_airports.withColumnRenamed('faa', 'faa_origin')\n",
    "                          .withColumnRenamed('name', 'name_origin')\n",
    "                          .withColumnRenamed('lat', 'lat_origin')\n",
    "                          .withColumnRenamed('lon', 'lon_origin')\n",
    "                          .withColumnRenamed('alt', 'alt_origin')\n",
    "                          .withColumnRenamed('tz', 'tz_origin')\n",
    "                          .withColumnRenamed('dst', 'dst_origin')\n",
    "                          .withColumnRenamed('region', 'region_origin')\n",
    "                          .withColumnRenamed('type', 'type_origin')\n",
    "                          .withColumnRenamed('military', 'military_origin')\n",
    "                          .withColumnRenamed('administration', 'administration_origin'))\n",
    "\n",
    "df_proc = df_flights.join(df_airports,\n",
    "                          df_airports['faa_origin'] == df_flights['origin'],\n",
    "                          'left'\n",
    "                         )\n",
    "\n",
    "df_proc.show(1, vertical=True)"
   ]
  },
  {
   "cell_type": "code",
   "execution_count": null,
   "id": "d1db141d",
   "metadata": {},
   "outputs": [],
   "source": [
    "df_airports = (df_airports.withColumnRenamed('faa_origin',            'faa_dest')\n",
    "                          .withColumnRenamed('name_origin',           'name_dest')\n",
    "                          .withColumnRenamed('lat_origin',            'lat_dest')\n",
    "                          .withColumnRenamed('lon_origin',            'lon_dest')\n",
    "                          .withColumnRenamed('alt_origin',            'alt_dest')\n",
    "                          .withColumnRenamed('tz_origin',             'tz_dest')\n",
    "                          .withColumnRenamed('dst_origin',            'dst_dest')\n",
    "                          .withColumnRenamed('region_origin',         'region_dest')\n",
    "                          .withColumnRenamed('type_origin',           'type_dest')\n",
    "                          .withColumnRenamed('military_origin',       'military_dest')\n",
    "                          .withColumnRenamed('administration_origin', 'administration_dest'))\n",
    "\n",
    "df_proc = df_proc.join(df_airports,\n",
    "                       df_airports['faa_dest'] == df_proc['dest'],\n",
    "                       'left')"
   ]
  },
  {
   "cell_type": "code",
   "execution_count": null,
   "id": "b48bc918",
   "metadata": {},
   "outputs": [],
   "source": [
    "df_planes = (df_planes.withColumnRenamed('tailnum', 'tailnum_planes'))\n",
    "\n",
    "df_proc = df_proc.join(df_planes,\n",
    "                       df_planes['tailnum_planes'] == df_proc['tailnum'],\n",
    "                       'left')"
   ]
  },
  {
   "cell_type": "code",
   "execution_count": null,
   "id": "1a5a5712",
   "metadata": {},
   "outputs": [],
   "source": [
    "df_proc.show(1, vertical=True)"
   ]
  },
  {
   "cell_type": "markdown",
   "id": "253e4182",
   "metadata": {},
   "source": [
    "# -----------------------------------------------------------------------------------------------------------\n",
    "## 2."
   ]
  },
  {
   "cell_type": "code",
   "execution_count": null,
   "id": "e4993052",
   "metadata": {},
   "outputs": [],
   "source": [
    "df_proc.groupBy(F.col('region_dest')).agg(F.countDistinct('name_dest').alias('count')).show()"
   ]
  },
  {
   "cell_type": "markdown",
   "id": "2a684bc9",
   "metadata": {},
   "source": [
    "# -----------------------------------------------------------------------------------------------------------\n",
    "## 3."
   ]
  },
  {
   "cell_type": "code",
   "execution_count": null,
   "id": "38a32f61",
   "metadata": {},
   "outputs": [],
   "source": [
    "df_proc.agg(F.max(F.col('alt_origin') - F.col('alt_dest')).alias('maior diferença')).show()"
   ]
  },
  {
   "cell_type": "markdown",
   "id": "04c44d38",
   "metadata": {},
   "source": [
    "# -----------------------------------------------------------------------------------------------------------\n",
    "## 4."
   ]
  },
  {
   "cell_type": "code",
   "execution_count": null,
   "id": "1e097d8f",
   "metadata": {},
   "outputs": [],
   "source": [
    "(df_proc.where((F.col('dep_delay') > 0) | (F.col('arr_delay') > 0))\n",
    "        .agg( F.ceil(F.avg(F.col('dep_delay') + F.col('arr_delay')) ).alias('Atraso médio (min)'))\n",
    "        .show())"
   ]
  },
  {
   "cell_type": "markdown",
   "id": "3ec4960f",
   "metadata": {},
   "source": [
    "# -----------------------------------------------------------------------------------------------------------\n",
    "## 5."
   ]
  },
  {
   "cell_type": "code",
   "execution_count": null,
   "id": "8e3f61c4",
   "metadata": {},
   "outputs": [],
   "source": [
    "(df_proc.where((F.col('dep_delay') >= 0) | (F.col('arr_delay') >= 0))\n",
    "        .groupBy(F.col('region_dest'))\n",
    "        .agg( F.ceil(F.avg(F.col('dep_delay') + F.col('arr_delay'))).alias('Atraso Médio (min)') )\n",
    "        .show())"
   ]
  },
  {
   "cell_type": "markdown",
   "id": "fe79d570",
   "metadata": {},
   "source": [
    "# -----------------------------------------------------------------------------------------------------------\n",
    "## 6."
   ]
  },
  {
   "cell_type": "code",
   "execution_count": null,
   "id": "ae79747b",
   "metadata": {},
   "outputs": [],
   "source": [
    "df_proc.groupBy(F.year(F.col('dep_datetime'))).count().show()"
   ]
  },
  {
   "cell_type": "code",
   "execution_count": null,
   "id": "07a60706",
   "metadata": {},
   "outputs": [],
   "source": [
    "(df_proc.where((F.col('dep_delay') > 0) | (F.col('arr_delay') > 0))\n",
    "        .groupBy(F.year(F.col('dep_datetime')).alias('year'))\n",
    "        .agg(F.sum(F.col('dep_delay') + F.col('arr_delay')).alias('atraso acumulado (min)'))\n",
    "        .show())"
   ]
  },
  {
   "cell_type": "markdown",
   "id": "d9244cf9",
   "metadata": {},
   "source": [
    "# -----------------------------------------------------------------------------------------------------------\n",
    "## 7."
   ]
  },
  {
   "cell_type": "code",
   "execution_count": null,
   "id": "37f310a1",
   "metadata": {},
   "outputs": [],
   "source": [
    "df_proc.groupBy(F.col('region_dest'), F.year(F.col('dep_datetime'))).count().show()"
   ]
  },
  {
   "cell_type": "code",
   "execution_count": null,
   "id": "7c30acd4",
   "metadata": {},
   "outputs": [],
   "source": [
    "(df_proc.where((F.col('dep_delay') > 0) | (F.col('arr_delay') > 0))\n",
    "        .groupBy(F.col('region_dest').alias('região'), F.year(F.col('dep_datetime')).alias('Ano'))\n",
    "        .agg(F.sum(F.col('dep_delay') + F.col('arr_delay')).alias('Atraso Acumulado chegada (min)'))\n",
    "        .show())"
   ]
  },
  {
   "cell_type": "markdown",
   "id": "39c9746d",
   "metadata": {},
   "source": [
    "# -----------------------------------------------------------------------------------------------------------\n",
    "## 8."
   ]
  },
  {
   "cell_type": "code",
   "execution_count": null,
   "id": "d212a032",
   "metadata": {},
   "outputs": [],
   "source": [
    "df_proc.agg( F.ceil(F.avg(F.col('air_time'))).alias('tempo de voo médio (min)') ).show()"
   ]
  },
  {
   "cell_type": "markdown",
   "id": "3b52e31f",
   "metadata": {},
   "source": [
    "# -----------------------------------------------------------------------------------------------------------\n",
    "## 9."
   ]
  },
  {
   "cell_type": "code",
   "execution_count": null,
   "id": "28104678",
   "metadata": {},
   "outputs": [],
   "source": [
    "df_proc.groupBy(F.col('region_dest')).agg( F.ceil(F.avg(F.col('air_time'))).alias('média de voo (min)') ).show()"
   ]
  },
  {
   "cell_type": "markdown",
   "id": "229435b5",
   "metadata": {},
   "source": [
    "# -----------------------------------------------------------------------------------------------------------\n",
    "## 10."
   ]
  },
  {
   "cell_type": "code",
   "execution_count": null,
   "id": "b02dff35",
   "metadata": {},
   "outputs": [],
   "source": [
    "(df_proc.groupBy( F.col('origin'), F.col('dest') )\n",
    "        .agg( F.ceil(F.avg(F.col('air_time'))).alias('média de voo (min)') )\n",
    "        .show())"
   ]
  },
  {
   "cell_type": "markdown",
   "id": "bed2a930",
   "metadata": {},
   "source": [
    "# -----------------------------------------------------------------------------------------------------------\n",
    "## 11."
   ]
  },
  {
   "cell_type": "code",
   "execution_count": null,
   "id": "132676cf",
   "metadata": {},
   "outputs": [],
   "source": [
    "df_proc.groupBy( F.year(F.col('dep_datetime')) ).count().show()"
   ]
  },
  {
   "cell_type": "code",
   "execution_count": null,
   "id": "775884c0",
   "metadata": {},
   "outputs": [],
   "source": [
    "(df_proc.groupBy( F.year(F.col('dep_datetime')).alias('year') )\n",
    "        .agg( F.sum('air_time').alias('tempo de voo acumulado') )\n",
    "        .show())"
   ]
  },
  {
   "cell_type": "markdown",
   "id": "b657b56c",
   "metadata": {},
   "source": [
    "# -----------------------------------------------------------------------------------------------------------\n",
    "## 12."
   ]
  },
  {
   "cell_type": "code",
   "execution_count": null,
   "id": "8573ae13",
   "metadata": {},
   "outputs": [],
   "source": [
    "df_proc.groupBy('region_dest').agg(F.sum('air_time').alias('Tempo acumulado (min)')).show()"
   ]
  },
  {
   "cell_type": "markdown",
   "id": "8806da63",
   "metadata": {},
   "source": [
    "# -----------------------------------------------------------------------------------------------------------\n",
    "## 13."
   ]
  },
  {
   "cell_type": "code",
   "execution_count": null,
   "id": "24ddc888",
   "metadata": {},
   "outputs": [],
   "source": [
    "df_proc.agg( F.round(F.avg('distance'), 2).alias('Distância de voo médio (mi)') ).show()"
   ]
  },
  {
   "cell_type": "markdown",
   "id": "d0396c47",
   "metadata": {},
   "source": [
    "# -----------------------------------------------------------------------------------------------------------\n",
    "## 14."
   ]
  },
  {
   "cell_type": "code",
   "execution_count": null,
   "id": "3f5e2a9c",
   "metadata": {},
   "outputs": [],
   "source": [
    "df_proc.groupBy('region_dest').agg( F.round(F.avg('distance'), 2).alias('Distância de voo médio (mi)') ).show()"
   ]
  },
  {
   "cell_type": "markdown",
   "id": "2566735c",
   "metadata": {},
   "source": [
    "# -----------------------------------------------------------------------------------------------------------\n",
    "## 15."
   ]
  },
  {
   "cell_type": "code",
   "execution_count": null,
   "id": "4b007c98",
   "metadata": {},
   "outputs": [],
   "source": [
    "df_proc.groupBy('origin', 'dest').agg( F.ceil(F.avg('distance')).alias('distância média (mi)') ).show()"
   ]
  },
  {
   "cell_type": "markdown",
   "id": "4c79f464",
   "metadata": {},
   "source": [
    "# -----------------------------------------------------------------------------------------------------------\n",
    "## 16."
   ]
  },
  {
   "cell_type": "code",
   "execution_count": null,
   "id": "f54304d4",
   "metadata": {},
   "outputs": [],
   "source": [
    "df_proc.groupBy(F.year('dep_datetime').alias('ano')).agg(F.sum('distance').alias('distância acumulada (mi)')).show()"
   ]
  },
  {
   "cell_type": "markdown",
   "id": "ea5ed55b",
   "metadata": {},
   "source": [
    "# -----------------------------------------------------------------------------------------------------------\n",
    "## 17."
   ]
  },
  {
   "cell_type": "code",
   "execution_count": null,
   "id": "8c51b534",
   "metadata": {},
   "outputs": [],
   "source": [
    "df_proc.groupBy(F.col('region_dest').alias('região')).agg(F.sum('distance').alias('distância acumulada (mi)')).show()"
   ]
  },
  {
   "cell_type": "markdown",
   "id": "eaf89ee3",
   "metadata": {},
   "source": [
    "# -----------------------------------------------------------------------------------------------------------\n",
    "## 18."
   ]
  },
  {
   "cell_type": "code",
   "execution_count": null,
   "id": "f073ee4b",
   "metadata": {},
   "outputs": [],
   "source": [
    "df_proc.groupBy('origin', 'dest').agg( F.ceil(F.avg('seats')).alias('média de passageiros') ).show(999)"
   ]
  },
  {
   "cell_type": "markdown",
   "id": "a8597295",
   "metadata": {},
   "source": [
    "# -----------------------------------------------------------------------------------------------------------\n",
    "## 19."
   ]
  },
  {
   "cell_type": "code",
   "execution_count": null,
   "id": "f8224711",
   "metadata": {},
   "outputs": [],
   "source": [
    "df_proc.groupBy(F.year('dep_datetime').alias('ano')).agg(F.sum('seats').alias('passageiros acumulado')).show()"
   ]
  },
  {
   "cell_type": "markdown",
   "id": "6050baa0",
   "metadata": {},
   "source": [
    "# -----------------------------------------------------------------------------------------------------------\n",
    "## 20."
   ]
  },
  {
   "cell_type": "code",
   "execution_count": null,
   "id": "371be329",
   "metadata": {},
   "outputs": [],
   "source": [
    "(df_proc.groupBy('dest')\n",
    "        .agg( F.count('dest').alias('nº viagens') )\n",
    "        .orderBy( F.col('nº viagens').desc() )\n",
    "        .show(1))"
   ]
  },
  {
   "cell_type": "markdown",
   "id": "60b1b678",
   "metadata": {},
   "source": [
    "# -----------------------------------------------------------------------------------------------------------\n",
    "## 21."
   ]
  },
  {
   "cell_type": "code",
   "execution_count": null,
   "id": "9e15b289",
   "metadata": {},
   "outputs": [],
   "source": [
    "(df_proc.groupBy('dest')\n",
    "        .agg( F.sum('seats').alias('total de passageiros') )\n",
    "        .orderBy( F.col('total de passageiros').desc() )\n",
    "        .show(1))"
   ]
  },
  {
   "cell_type": "markdown",
   "id": "b7182f6d",
   "metadata": {},
   "source": [
    "# -----------------------------------------------------------------------------------------------------------\n",
    "## 22."
   ]
  },
  {
   "cell_type": "code",
   "execution_count": null,
   "id": "f21a7869",
   "metadata": {},
   "outputs": [],
   "source": [
    "(df_proc.where(F.col('origin') == 'PDX')\n",
    "        .select('dest', 'distance')\n",
    "        .orderBy(F.col('distance').desc())\n",
    "        .show(1))"
   ]
  },
  {
   "cell_type": "markdown",
   "id": "fbef285c",
   "metadata": {},
   "source": [
    "# -----------------------------------------------------------------------------------------------------------\n",
    "## 23."
   ]
  },
  {
   "cell_type": "code",
   "execution_count": null,
   "id": "8dbc6214",
   "metadata": {},
   "outputs": [],
   "source": [
    "(df_proc.groupBy(F.col('dest'), \n",
    "                 F.month(F.col('dep_datetime')).alias('mês'))\n",
    "        .count()\n",
    "        .orderBy(F.col('count').desc())\n",
    "        .show(1))"
   ]
  },
  {
   "cell_type": "markdown",
   "id": "811bbf41",
   "metadata": {},
   "source": [
    "# -----------------------------------------------------------------------------------------------------------\n",
    "## 24."
   ]
  },
  {
   "cell_type": "code",
   "execution_count": null,
   "id": "cd9ede18",
   "metadata": {},
   "outputs": [],
   "source": [
    "(df_proc.where(F.col('model').isNotNull())\n",
    "        .groupBy('model')\n",
    "        .count()\n",
    "        .orderBy(F.col('count').desc())\n",
    "        .show(1))"
   ]
  },
  {
   "cell_type": "markdown",
   "id": "c2114874",
   "metadata": {},
   "source": [
    "# -----------------------------------------------------------------------------------------------------------\n",
    "## 25."
   ]
  },
  {
   "cell_type": "code",
   "execution_count": null,
   "id": "cedf5b0b",
   "metadata": {},
   "outputs": [],
   "source": [
    "# Mostra todos em ordem alfabética para consultar\n",
    "(df_proc.where(F.col('model').isNotNull())\n",
    "        .groupBy('dest', 'model').count()\n",
    "        .orderBy('dest', F.col('count').desc())\n",
    "        .show(999))"
   ]
  },
  {
   "cell_type": "code",
   "execution_count": null,
   "id": "21dab813",
   "metadata": {},
   "outputs": [],
   "source": [
    "# Dataframe com a coluna Count\n",
    "df_join = df_proc.groupBy(F.col('dest').alias('d'), F.col('model').alias('m')).count()\n",
    "\n",
    "# Junta com o dataframe principal\n",
    "df_join = df_proc.join(df_join,\n",
    "                      (df_proc['dest'] == df_join['d']) &\n",
    "                      (df_proc['model'] == df_join['m']),\n",
    "                      'left')\n",
    "\n",
    "# GroupBy por dest e procura o máximo (A função F.struct permite pegar informações que não foram usadas no groupBy)\n",
    "(df_join.groupBy('dest')\n",
    "        .agg(F.max(F.struct(\"count\", \"model\")).alias('struct'))\n",
    "        .orderBy(F.col('dest'))\n",
    "        .select('dest', 'struct.model', 'struct.count')\n",
    "        .show(999))\n",
    "\n",
    "# deleta o drataframe\n",
    "del df_join"
   ]
  }
 ],
 "metadata": {
  "kernelspec": {
   "display_name": "Python 3 (ipykernel)",
   "language": "python",
   "name": "python3"
  },
  "language_info": {
   "codemirror_mode": {
    "name": "ipython",
    "version": 3
   },
   "file_extension": ".py",
   "mimetype": "text/x-python",
   "name": "python",
   "nbconvert_exporter": "python",
   "pygments_lexer": "ipython3",
   "version": "3.9.7"
  }
 },
 "nbformat": 4,
 "nbformat_minor": 5
}
